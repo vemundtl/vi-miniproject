{
 "cells": [
  {
   "cell_type": "code",
   "execution_count": 1,
   "metadata": {},
   "outputs": [],
   "source": [
    "from tqdm import tqdm\n",
    "import numpy as np\n",
    "import torch\n",
    "import torch.nn as nn\n",
    "import torch.optim as optim\n",
    "import torch.utils.data as data\n",
    "import torchvision.transforms as transforms\n",
    "from dataset import *\n",
    "from models import ResNet18, ResNet50\n",
    "import medmnist\n",
    "from medmnist import INFO, Evaluator\n",
    "from medmnist import BloodMNIST\n",
    "\n",
    "import os\n",
    "from collections import OrderedDict\n",
    "from copy import deepcopy\n",
    "\n",
    "import numpy as np\n",
    "from torch.utils.tensorboard import SummaryWriter\n",
    "from torchvision.models import resnet18, resnet34, resnet50\n",
    "from torchvision.models import swin_v2_t\n"
   ]
  },
  {
   "cell_type": "code",
   "execution_count": 2,
   "metadata": {},
   "outputs": [
    {
     "name": "stdout",
     "output_type": "stream",
     "text": [
      "Using downloaded and verified file: /Users/vemundlund/.medmnist/bloodmnist.npz\n",
      "Using downloaded and verified file: /Users/vemundlund/.medmnist/bloodmnist.npz\n",
      "Using downloaded and verified file: /Users/vemundlund/.medmnist/bloodmnist.npz\n",
      "Using downloaded and verified file: /Users/vemundlund/.medmnist/bloodmnist.npz\n"
     ]
    },
    {
     "name": "stderr",
     "output_type": "stream",
     "text": [
      "/Users/vemundlund/miniconda3/envs/vi_venv/lib/python3.11/site-packages/torchvision/models/_utils.py:208: UserWarning: The parameter 'pretrained' is deprecated since 0.13 and may be removed in the future, please use 'weights' instead.\n",
      "  warnings.warn(\n",
      "/Users/vemundlund/miniconda3/envs/vi_venv/lib/python3.11/site-packages/torchvision/models/_utils.py:223: UserWarning: Arguments other than a weight enum or `None` for 'weights' are deprecated since 0.13 and may be removed in the future. The current behavior is equivalent to passing `weights=ResNet34_Weights.IMAGENET1K_V1`. You can also use `weights=ResNet34_Weights.DEFAULT` to get the most up-to-date weights.\n",
      "  warnings.warn(msg)\n",
      "train:  82%|████████▏ | 77/94 [00:09<00:02,  8.18it/s]\n"
     ]
    },
    {
     "ename": "KeyboardInterrupt",
     "evalue": "",
     "output_type": "error",
     "traceback": [
      "\u001b[0;31m---------------------------------------------------------------------------\u001b[0m",
      "\u001b[0;31mKeyboardInterrupt\u001b[0m                         Traceback (most recent call last)",
      "\u001b[1;32m/Users/vemundlund/Code/vi-miniproject/main_mnist2D.ipynb Cell 2\u001b[0m line \u001b[0;36m4\n\u001b[1;32m     <a href='vscode-notebook-cell:/Users/vemundlund/Code/vi-miniproject/main_mnist2D.ipynb#W1sZmlsZQ%3D%3D?line=36'>37</a>\u001b[0m model\u001b[39m.\u001b[39mfc \u001b[39m=\u001b[39m nn\u001b[39m.\u001b[39mLinear(num_ftrs, n_classes)\n\u001b[1;32m     <a href='vscode-notebook-cell:/Users/vemundlund/Code/vi-miniproject/main_mnist2D.ipynb#W1sZmlsZQ%3D%3D?line=37'>38</a>\u001b[0m model\u001b[39m.\u001b[39mname \u001b[39m=\u001b[39m \u001b[39m'\u001b[39m\u001b[39mresnet34\u001b[39m\u001b[39m'\u001b[39m\n\u001b[0;32m---> <a href='vscode-notebook-cell:/Users/vemundlund/Code/vi-miniproject/main_mnist2D.ipynb#W1sZmlsZQ%3D%3D?line=39'>40</a>\u001b[0m train_2d_model(model, DEVICE, data_flag, milestones, gamma, output_root, task, train_loader, train_loader_at_eval, val_loader, test_loader, NUM_EPOCHS, lr, \u001b[39mTrue\u001b[39;49;00m)\n\u001b[1;32m     <a href='vscode-notebook-cell:/Users/vemundlund/Code/vi-miniproject/main_mnist2D.ipynb#W1sZmlsZQ%3D%3D?line=42'>43</a>\u001b[0m \u001b[39m# model = resnet50(pretrained=True)\u001b[39;00m\n\u001b[1;32m     <a href='vscode-notebook-cell:/Users/vemundlund/Code/vi-miniproject/main_mnist2D.ipynb#W1sZmlsZQ%3D%3D?line=43'>44</a>\u001b[0m \u001b[39m# model.fc.out_features = n_classes\u001b[39;00m\n\u001b[1;32m     <a href='vscode-notebook-cell:/Users/vemundlund/Code/vi-miniproject/main_mnist2D.ipynb#W1sZmlsZQ%3D%3D?line=44'>45</a>\u001b[0m \u001b[39m# num_ftrs = model.fc.in_features\u001b[39;00m\n\u001b[0;32m   (...)\u001b[0m\n\u001b[1;32m     <a href='vscode-notebook-cell:/Users/vemundlund/Code/vi-miniproject/main_mnist2D.ipynb#W1sZmlsZQ%3D%3D?line=49'>50</a>\u001b[0m \u001b[39m# OWN\u001b[39;00m\n\u001b[1;32m     <a href='vscode-notebook-cell:/Users/vemundlund/Code/vi-miniproject/main_mnist2D.ipynb#W1sZmlsZQ%3D%3D?line=50'>51</a>\u001b[0m \u001b[39m# model = ResNet18(in_channels=n_channels, num_classes=n_classes)\u001b[39;00m\n",
      "File \u001b[0;32m~/Code/vi-miniproject/dataset.py:162\u001b[0m, in \u001b[0;36mtrain_2d_model\u001b[0;34m(model, DEVICE, data_flag, milestones, gamma, output_root, task, train_loader, train_loader_at_eval, val_loader, test_loader, NUM_EPOCHS, lr, tb_twod)\u001b[0m\n\u001b[1;32m    159\u001b[0m best_model \u001b[39m=\u001b[39m deepcopy(model)\n\u001b[1;32m    161\u001b[0m \u001b[39mfor\u001b[39;00m epoch \u001b[39min\u001b[39;00m \u001b[39mrange\u001b[39m(NUM_EPOCHS):        \n\u001b[0;32m--> 162\u001b[0m     train_loss \u001b[39m=\u001b[39m train(model, train_loader, task, criterion, optimizer, DEVICE, writer)\n\u001b[1;32m    164\u001b[0m     train_metrics \u001b[39m=\u001b[39m test(model, train_evaluator, train_loader_at_eval, task, criterion, DEVICE, model\u001b[39m.\u001b[39mname)\n\u001b[1;32m    165\u001b[0m     val_metrics \u001b[39m=\u001b[39m test(model, val_evaluator, val_loader, task, criterion, DEVICE, model\u001b[39m.\u001b[39mname)\n",
      "File \u001b[0;32m~/Code/vi-miniproject/dataset.py:90\u001b[0m, in \u001b[0;36mtrain\u001b[0;34m(model, train_loader, task, criterion, optimizer, device, writer)\u001b[0m\n\u001b[1;32m     88\u001b[0m \u001b[39mfor\u001b[39;00m inputs, targets \u001b[39min\u001b[39;00m tqdm(train_loader, desc\u001b[39m=\u001b[39m\u001b[39m\"\u001b[39m\u001b[39mtrain\u001b[39m\u001b[39m\"\u001b[39m):\n\u001b[1;32m     89\u001b[0m     optimizer\u001b[39m.\u001b[39mzero_grad()\n\u001b[0;32m---> 90\u001b[0m     outputs \u001b[39m=\u001b[39m model(inputs\u001b[39m.\u001b[39;49mto(device))\n\u001b[1;32m     92\u001b[0m     targets \u001b[39m=\u001b[39m torch\u001b[39m.\u001b[39msqueeze(targets, \u001b[39m1\u001b[39m)\u001b[39m.\u001b[39mlong()\u001b[39m.\u001b[39mto(device)\n\u001b[1;32m     93\u001b[0m     loss \u001b[39m=\u001b[39m criterion(outputs, targets)\n",
      "\u001b[0;31mKeyboardInterrupt\u001b[0m: "
     ]
    }
   ],
   "source": [
    "data_flag = 'bloodmnist'\n",
    "download = True\n",
    "\n",
    "DEVICE = 'mps'\n",
    "NUM_EPOCHS = 30\n",
    "BATCH_SIZE = 128\n",
    "milestones = [0.5 * NUM_EPOCHS, 0.75 * NUM_EPOCHS]\n",
    "lr = 0.001\n",
    "gamma = 0.1\n",
    "\n",
    "output_root = './output2d'\n",
    "\n",
    "info = INFO[data_flag]\n",
    "n_channels = info['n_channels']\n",
    "n_classes = len(info['label'])\n",
    "task = info['task']\n",
    "\n",
    "train_loader, train_loader_at_eval, val_loader, test_loader = extract_data(data_flag, download, BATCH_SIZE)\n",
    "\n",
    "\n",
    "# TORCH \n",
    "# model = swin_v2_t(pretrained=True)\n",
    "# model.head.out_features = n_classes\n",
    "# num_ftrs = model.head.in_features\n",
    "# model.head = nn.Linear(num_ftrs, n_classes)\n",
    "# model.name = 'swinv2_t'\n",
    "\n",
    "# model = resnet18(pretrained=True)\n",
    "# model.fc.out_features = n_classes\n",
    "# num_ftrs = model.fc.in_features\n",
    "# model.fc = nn.Linear(num_ftrs, n_classes)\n",
    "# model.name = 'resnet18'\n",
    "\n",
    "model = resnet34(pretrained=True)\n",
    "model.fc.out_features = n_classes\n",
    "num_ftrs = model.fc.in_features\n",
    "model.fc = nn.Linear(num_ftrs, n_classes)\n",
    "model.name = 'resnet34'\n",
    "\n",
    "train_2d_model(model, DEVICE, data_flag, milestones, gamma, output_root, task, train_loader, train_loader_at_eval, val_loader, test_loader, NUM_EPOCHS, lr, True)\n",
    "\n",
    "\n",
    "# model = resnet50(pretrained=True)\n",
    "# model.fc.out_features = n_classes\n",
    "# num_ftrs = model.fc.in_features\n",
    "# model.fc = nn.Linear(num_ftrs, n_classes)\n",
    "# model.name = 'resnet50'\n",
    "\n",
    "\n",
    "# OWN\n",
    "# model = ResNet18(in_channels=n_channels, num_classes=n_classes)"
   ]
  },
  {
   "cell_type": "code",
   "execution_count": 3,
   "metadata": {},
   "outputs": [
    {
     "name": "stdout",
     "output_type": "stream",
     "text": [
      "Epoch 0 of 30\n"
     ]
    },
    {
     "name": "stderr",
     "output_type": "stream",
     "text": [
      "train: 100%|██████████| 94/94 [00:41<00:00,  2.27it/s]\n"
     ]
    },
    {
     "name": "stdout",
     "output_type": "stream",
     "text": [
      "Done with batches\n",
      "Epoch loss 0.4581768531748589\n"
     ]
    },
    {
     "name": "stderr",
     "output_type": "stream",
     "text": [
      "test: 100%|██████████| 47/47 [00:08<00:00,  5.59it/s]\n",
      "test: 100%|██████████| 14/14 [00:02<00:00,  6.13it/s]\n",
      "test: 100%|██████████| 14/14 [00:02<00:00,  5.74it/s]\n"
     ]
    },
    {
     "name": "stdout",
     "output_type": "stream",
     "text": [
      "cur_best_auc: 0.9840345281461182\n",
      "cur_best_epoch 0\n",
      "Epoch 1 of 30\n"
     ]
    },
    {
     "name": "stderr",
     "output_type": "stream",
     "text": [
      "train: 100%|██████████| 94/94 [00:39<00:00,  2.37it/s]\n"
     ]
    },
    {
     "name": "stdout",
     "output_type": "stream",
     "text": [
      "Done with batches\n",
      "Epoch loss 0.23446571581224177\n"
     ]
    },
    {
     "name": "stderr",
     "output_type": "stream",
     "text": [
      "test: 100%|██████████| 47/47 [00:07<00:00,  6.56it/s]\n",
      "test: 100%|██████████| 14/14 [00:01<00:00,  8.93it/s]\n",
      "test: 100%|██████████| 14/14 [00:02<00:00,  6.92it/s]\n"
     ]
    },
    {
     "name": "stdout",
     "output_type": "stream",
     "text": [
      "cur_best_auc: 0.990942505171432\n",
      "cur_best_epoch 1\n",
      "Epoch 2 of 30\n"
     ]
    },
    {
     "name": "stderr",
     "output_type": "stream",
     "text": [
      "train: 100%|██████████| 94/94 [00:39<00:00,  2.35it/s]\n"
     ]
    },
    {
     "name": "stdout",
     "output_type": "stream",
     "text": [
      "Done with batches\n",
      "Epoch loss 0.17934337258338928\n"
     ]
    },
    {
     "name": "stderr",
     "output_type": "stream",
     "text": [
      "test: 100%|██████████| 47/47 [00:07<00:00,  6.58it/s]\n",
      "test: 100%|██████████| 14/14 [00:01<00:00,  8.71it/s]\n",
      "test: 100%|██████████| 14/14 [00:02<00:00,  6.93it/s]\n"
     ]
    },
    {
     "name": "stdout",
     "output_type": "stream",
     "text": [
      "Epoch 3 of 30\n"
     ]
    },
    {
     "name": "stderr",
     "output_type": "stream",
     "text": [
      "train: 100%|██████████| 94/94 [00:37<00:00,  2.50it/s]\n"
     ]
    },
    {
     "name": "stdout",
     "output_type": "stream",
     "text": [
      "Done with batches\n",
      "Epoch loss 0.1556876078248024\n"
     ]
    },
    {
     "name": "stderr",
     "output_type": "stream",
     "text": [
      "test: 100%|██████████| 47/47 [00:06<00:00,  6.89it/s]\n",
      "test: 100%|██████████| 14/14 [00:01<00:00,  9.17it/s]\n",
      "test: 100%|██████████| 14/14 [00:02<00:00,  6.89it/s]\n"
     ]
    },
    {
     "name": "stdout",
     "output_type": "stream",
     "text": [
      "cur_best_auc: 0.9938789817128981\n",
      "cur_best_epoch 3\n",
      "Epoch 4 of 30\n"
     ]
    },
    {
     "name": "stderr",
     "output_type": "stream",
     "text": [
      "train: 100%|██████████| 94/94 [00:39<00:00,  2.41it/s]\n"
     ]
    },
    {
     "name": "stdout",
     "output_type": "stream",
     "text": [
      "Done with batches\n",
      "Epoch loss 0.1329318735193699\n"
     ]
    },
    {
     "name": "stderr",
     "output_type": "stream",
     "text": [
      "test: 100%|██████████| 47/47 [00:07<00:00,  6.40it/s]\n",
      "test: 100%|██████████| 14/14 [00:01<00:00,  8.99it/s]\n",
      "test: 100%|██████████| 14/14 [00:02<00:00,  6.79it/s]\n"
     ]
    },
    {
     "name": "stdout",
     "output_type": "stream",
     "text": [
      "Epoch 5 of 30\n"
     ]
    },
    {
     "name": "stderr",
     "output_type": "stream",
     "text": [
      "train: 100%|██████████| 94/94 [00:38<00:00,  2.44it/s]\n"
     ]
    },
    {
     "name": "stdout",
     "output_type": "stream",
     "text": [
      "Done with batches\n",
      "Epoch loss 0.1232184138783115\n"
     ]
    },
    {
     "name": "stderr",
     "output_type": "stream",
     "text": [
      "test: 100%|██████████| 47/47 [00:07<00:00,  6.60it/s]\n",
      "test: 100%|██████████| 14/14 [00:01<00:00,  9.51it/s]\n",
      "test: 100%|██████████| 14/14 [00:02<00:00,  6.88it/s]\n"
     ]
    },
    {
     "name": "stdout",
     "output_type": "stream",
     "text": [
      "Epoch 6 of 30\n"
     ]
    },
    {
     "name": "stderr",
     "output_type": "stream",
     "text": [
      "train: 100%|██████████| 94/94 [00:38<00:00,  2.46it/s]\n"
     ]
    },
    {
     "name": "stdout",
     "output_type": "stream",
     "text": [
      "Done with batches\n",
      "Epoch loss 0.09547543876427919\n"
     ]
    },
    {
     "name": "stderr",
     "output_type": "stream",
     "text": [
      "test: 100%|██████████| 47/47 [00:07<00:00,  6.44it/s]\n",
      "test: 100%|██████████| 14/14 [00:01<00:00,  8.85it/s]\n",
      "test: 100%|██████████| 14/14 [00:02<00:00,  6.97it/s]\n"
     ]
    },
    {
     "name": "stdout",
     "output_type": "stream",
     "text": [
      "cur_best_auc: 0.9963218248278017\n",
      "cur_best_epoch 6\n",
      "Epoch 7 of 30\n"
     ]
    },
    {
     "name": "stderr",
     "output_type": "stream",
     "text": [
      "train: 100%|██████████| 94/94 [00:39<00:00,  2.41it/s]\n"
     ]
    },
    {
     "name": "stdout",
     "output_type": "stream",
     "text": [
      "Done with batches\n",
      "Epoch loss 0.08472500844521726\n"
     ]
    },
    {
     "name": "stderr",
     "output_type": "stream",
     "text": [
      "test: 100%|██████████| 47/47 [00:07<00:00,  6.63it/s]\n",
      "test: 100%|██████████| 14/14 [00:01<00:00,  8.93it/s]\n",
      "test: 100%|██████████| 14/14 [00:02<00:00,  6.91it/s]\n"
     ]
    },
    {
     "name": "stdout",
     "output_type": "stream",
     "text": [
      "cur_best_auc: 0.9966207510045169\n",
      "cur_best_epoch 7\n",
      "Epoch 8 of 30\n"
     ]
    },
    {
     "name": "stderr",
     "output_type": "stream",
     "text": [
      "train: 100%|██████████| 94/94 [00:39<00:00,  2.38it/s]\n"
     ]
    },
    {
     "name": "stdout",
     "output_type": "stream",
     "text": [
      "Done with batches\n",
      "Epoch loss 0.05883202907886911\n"
     ]
    },
    {
     "name": "stderr",
     "output_type": "stream",
     "text": [
      "test: 100%|██████████| 47/47 [00:07<00:00,  6.45it/s]\n",
      "test: 100%|██████████| 14/14 [00:01<00:00,  8.43it/s]\n",
      "test: 100%|██████████| 14/14 [00:01<00:00,  7.00it/s]\n"
     ]
    },
    {
     "name": "stdout",
     "output_type": "stream",
     "text": [
      "Epoch 9 of 30\n"
     ]
    },
    {
     "name": "stderr",
     "output_type": "stream",
     "text": [
      "train: 100%|██████████| 94/94 [00:39<00:00,  2.40it/s]\n"
     ]
    },
    {
     "name": "stdout",
     "output_type": "stream",
     "text": [
      "Done with batches\n",
      "Epoch loss 0.06642739164662805\n"
     ]
    },
    {
     "name": "stderr",
     "output_type": "stream",
     "text": [
      "test: 100%|██████████| 47/47 [00:07<00:00,  6.52it/s]\n",
      "test: 100%|██████████| 14/14 [00:01<00:00,  8.91it/s]\n",
      "test: 100%|██████████| 14/14 [00:02<00:00,  6.86it/s]\n"
     ]
    },
    {
     "name": "stdout",
     "output_type": "stream",
     "text": [
      "Epoch 10 of 30\n"
     ]
    },
    {
     "name": "stderr",
     "output_type": "stream",
     "text": [
      "train: 100%|██████████| 94/94 [00:38<00:00,  2.42it/s]\n"
     ]
    },
    {
     "name": "stdout",
     "output_type": "stream",
     "text": [
      "Done with batches\n",
      "Epoch loss 0.0519229507549329\n"
     ]
    },
    {
     "name": "stderr",
     "output_type": "stream",
     "text": [
      "test: 100%|██████████| 47/47 [00:07<00:00,  6.53it/s]\n",
      "test: 100%|██████████| 14/14 [00:01<00:00,  8.91it/s]\n",
      "test: 100%|██████████| 14/14 [00:02<00:00,  6.87it/s]\n"
     ]
    },
    {
     "name": "stdout",
     "output_type": "stream",
     "text": [
      "cur_best_auc: 0.9972654749199492\n",
      "cur_best_epoch 10\n",
      "Epoch 11 of 30\n"
     ]
    },
    {
     "name": "stderr",
     "output_type": "stream",
     "text": [
      "train: 100%|██████████| 94/94 [00:38<00:00,  2.43it/s]\n"
     ]
    },
    {
     "name": "stdout",
     "output_type": "stream",
     "text": [
      "Done with batches\n",
      "Epoch loss 0.05535496256631264\n"
     ]
    },
    {
     "name": "stderr",
     "output_type": "stream",
     "text": [
      "test: 100%|██████████| 47/47 [00:07<00:00,  6.66it/s]\n",
      "test: 100%|██████████| 14/14 [00:01<00:00,  9.30it/s]\n",
      "test: 100%|██████████| 14/14 [00:02<00:00,  6.79it/s]\n"
     ]
    },
    {
     "name": "stdout",
     "output_type": "stream",
     "text": [
      "Epoch 12 of 30\n"
     ]
    },
    {
     "name": "stderr",
     "output_type": "stream",
     "text": [
      "train: 100%|██████████| 94/94 [00:40<00:00,  2.31it/s]\n"
     ]
    },
    {
     "name": "stdout",
     "output_type": "stream",
     "text": [
      "Done with batches\n",
      "Epoch loss 0.04684382564130616\n"
     ]
    },
    {
     "name": "stderr",
     "output_type": "stream",
     "text": [
      "test: 100%|██████████| 47/47 [00:07<00:00,  6.54it/s]\n",
      "test: 100%|██████████| 14/14 [00:01<00:00,  8.60it/s]\n",
      "test: 100%|██████████| 14/14 [00:02<00:00,  6.79it/s]\n"
     ]
    },
    {
     "name": "stdout",
     "output_type": "stream",
     "text": [
      "Epoch 13 of 30\n"
     ]
    },
    {
     "name": "stderr",
     "output_type": "stream",
     "text": [
      "train: 100%|██████████| 94/94 [00:41<00:00,  2.26it/s]\n"
     ]
    },
    {
     "name": "stdout",
     "output_type": "stream",
     "text": [
      "Done with batches\n",
      "Epoch loss 0.03762064724070753\n"
     ]
    },
    {
     "name": "stderr",
     "output_type": "stream",
     "text": [
      "test: 100%|██████████| 47/47 [00:07<00:00,  6.11it/s]\n",
      "test: 100%|██████████| 14/14 [00:01<00:00,  8.09it/s]\n",
      "test: 100%|██████████| 14/14 [00:02<00:00,  6.44it/s]\n"
     ]
    },
    {
     "name": "stdout",
     "output_type": "stream",
     "text": [
      "Epoch 14 of 30\n"
     ]
    },
    {
     "name": "stderr",
     "output_type": "stream",
     "text": [
      "train: 100%|██████████| 94/94 [00:38<00:00,  2.43it/s]\n"
     ]
    },
    {
     "name": "stdout",
     "output_type": "stream",
     "text": [
      "Done with batches\n",
      "Epoch loss 0.03855591019159777\n"
     ]
    },
    {
     "name": "stderr",
     "output_type": "stream",
     "text": [
      "test: 100%|██████████| 47/47 [00:07<00:00,  6.66it/s]\n",
      "test: 100%|██████████| 14/14 [00:01<00:00,  9.45it/s]\n",
      "test: 100%|██████████| 14/14 [00:02<00:00,  6.79it/s]\n"
     ]
    },
    {
     "name": "stdout",
     "output_type": "stream",
     "text": [
      "Epoch 15 of 30\n"
     ]
    },
    {
     "name": "stderr",
     "output_type": "stream",
     "text": [
      "train: 100%|██████████| 94/94 [00:38<00:00,  2.44it/s]\n"
     ]
    },
    {
     "name": "stdout",
     "output_type": "stream",
     "text": [
      "Done with batches\n",
      "Epoch loss 0.01427458774947383\n"
     ]
    },
    {
     "name": "stderr",
     "output_type": "stream",
     "text": [
      "test: 100%|██████████| 47/47 [00:07<00:00,  6.60it/s]\n",
      "test: 100%|██████████| 14/14 [00:01<00:00,  8.65it/s]\n",
      "test: 100%|██████████| 14/14 [00:02<00:00,  6.77it/s]\n"
     ]
    },
    {
     "name": "stdout",
     "output_type": "stream",
     "text": [
      "cur_best_auc: 0.9980284312767113\n",
      "cur_best_epoch 15\n",
      "Epoch 16 of 30\n"
     ]
    },
    {
     "name": "stderr",
     "output_type": "stream",
     "text": [
      "train: 100%|██████████| 94/94 [00:38<00:00,  2.42it/s]\n"
     ]
    },
    {
     "name": "stdout",
     "output_type": "stream",
     "text": [
      "Done with batches\n",
      "Epoch loss 0.0043399468967765375\n"
     ]
    },
    {
     "name": "stderr",
     "output_type": "stream",
     "text": [
      "test: 100%|██████████| 47/47 [00:07<00:00,  6.55it/s]\n",
      "test: 100%|██████████| 14/14 [00:01<00:00,  9.11it/s]\n",
      "test: 100%|██████████| 14/14 [00:02<00:00,  6.88it/s]\n"
     ]
    },
    {
     "name": "stdout",
     "output_type": "stream",
     "text": [
      "cur_best_auc: 0.9981108572311519\n",
      "cur_best_epoch 16\n",
      "Epoch 17 of 30\n"
     ]
    },
    {
     "name": "stderr",
     "output_type": "stream",
     "text": [
      "train: 100%|██████████| 94/94 [00:38<00:00,  2.45it/s]\n"
     ]
    },
    {
     "name": "stdout",
     "output_type": "stream",
     "text": [
      "Done with batches\n",
      "Epoch loss 0.0036823688374653936\n"
     ]
    },
    {
     "name": "stderr",
     "output_type": "stream",
     "text": [
      "test: 100%|██████████| 47/47 [00:07<00:00,  6.53it/s]\n",
      "test: 100%|██████████| 14/14 [00:01<00:00,  9.12it/s]\n",
      "test: 100%|██████████| 14/14 [00:02<00:00,  6.82it/s]\n"
     ]
    },
    {
     "name": "stdout",
     "output_type": "stream",
     "text": [
      "cur_best_auc: 0.9982136531106904\n",
      "cur_best_epoch 17\n",
      "Epoch 18 of 30\n"
     ]
    },
    {
     "name": "stderr",
     "output_type": "stream",
     "text": [
      "train: 100%|██████████| 94/94 [00:38<00:00,  2.43it/s]\n"
     ]
    },
    {
     "name": "stdout",
     "output_type": "stream",
     "text": [
      "Done with batches\n",
      "Epoch loss 0.002629115997053227\n"
     ]
    },
    {
     "name": "stderr",
     "output_type": "stream",
     "text": [
      "test: 100%|██████████| 47/47 [00:07<00:00,  6.62it/s]\n",
      "test: 100%|██████████| 14/14 [00:01<00:00,  9.06it/s]\n",
      "test: 100%|██████████| 14/14 [00:01<00:00,  7.02it/s]\n"
     ]
    },
    {
     "name": "stdout",
     "output_type": "stream",
     "text": [
      "Epoch 19 of 30\n"
     ]
    },
    {
     "name": "stderr",
     "output_type": "stream",
     "text": [
      "train: 100%|██████████| 94/94 [00:38<00:00,  2.43it/s]\n"
     ]
    },
    {
     "name": "stdout",
     "output_type": "stream",
     "text": [
      "Done with batches\n",
      "Epoch loss 0.0025063517185775165\n"
     ]
    },
    {
     "name": "stderr",
     "output_type": "stream",
     "text": [
      "test: 100%|██████████| 47/47 [00:07<00:00,  6.63it/s]\n",
      "test: 100%|██████████| 14/14 [00:01<00:00,  9.02it/s]\n",
      "test: 100%|██████████| 14/14 [00:02<00:00,  6.78it/s]\n"
     ]
    },
    {
     "name": "stdout",
     "output_type": "stream",
     "text": [
      "Epoch 20 of 30\n"
     ]
    },
    {
     "name": "stderr",
     "output_type": "stream",
     "text": [
      "train: 100%|██████████| 94/94 [00:38<00:00,  2.42it/s]\n"
     ]
    },
    {
     "name": "stdout",
     "output_type": "stream",
     "text": [
      "Done with batches\n",
      "Epoch loss 0.0018028033661353898\n"
     ]
    },
    {
     "name": "stderr",
     "output_type": "stream",
     "text": [
      "test: 100%|██████████| 47/47 [00:07<00:00,  6.56it/s]\n",
      "test: 100%|██████████| 14/14 [00:01<00:00,  9.12it/s]\n",
      "test: 100%|██████████| 14/14 [00:01<00:00,  7.17it/s]\n"
     ]
    },
    {
     "name": "stdout",
     "output_type": "stream",
     "text": [
      "Epoch 21 of 30\n"
     ]
    },
    {
     "name": "stderr",
     "output_type": "stream",
     "text": [
      "train: 100%|██████████| 94/94 [00:38<00:00,  2.44it/s]\n"
     ]
    },
    {
     "name": "stdout",
     "output_type": "stream",
     "text": [
      "Done with batches\n",
      "Epoch loss 0.002147444369527759\n"
     ]
    },
    {
     "name": "stderr",
     "output_type": "stream",
     "text": [
      "test: 100%|██████████| 47/47 [00:07<00:00,  6.50it/s]\n",
      "test: 100%|██████████| 14/14 [00:01<00:00,  8.76it/s]\n",
      "test: 100%|██████████| 14/14 [00:02<00:00,  6.84it/s]\n"
     ]
    },
    {
     "name": "stdout",
     "output_type": "stream",
     "text": [
      "Epoch 22 of 30\n"
     ]
    },
    {
     "name": "stderr",
     "output_type": "stream",
     "text": [
      "train: 100%|██████████| 94/94 [00:39<00:00,  2.41it/s]\n"
     ]
    },
    {
     "name": "stdout",
     "output_type": "stream",
     "text": [
      "Done with batches\n",
      "Epoch loss 0.0017744434026486062\n"
     ]
    },
    {
     "name": "stderr",
     "output_type": "stream",
     "text": [
      "test: 100%|██████████| 47/47 [00:07<00:00,  6.49it/s]\n",
      "test: 100%|██████████| 14/14 [00:01<00:00,  8.94it/s]\n",
      "test: 100%|██████████| 14/14 [00:02<00:00,  6.92it/s]\n"
     ]
    },
    {
     "name": "stdout",
     "output_type": "stream",
     "text": [
      "Epoch 23 of 30\n"
     ]
    },
    {
     "name": "stderr",
     "output_type": "stream",
     "text": [
      "train: 100%|██████████| 94/94 [00:38<00:00,  2.43it/s]\n"
     ]
    },
    {
     "name": "stdout",
     "output_type": "stream",
     "text": [
      "Done with batches\n",
      "Epoch loss 0.0014772378245710416\n"
     ]
    },
    {
     "name": "stderr",
     "output_type": "stream",
     "text": [
      "test: 100%|██████████| 47/47 [00:07<00:00,  6.54it/s]\n",
      "test: 100%|██████████| 14/14 [00:01<00:00,  9.09it/s]\n",
      "test: 100%|██████████| 14/14 [00:02<00:00,  6.97it/s]\n"
     ]
    },
    {
     "name": "stdout",
     "output_type": "stream",
     "text": [
      "cur_best_auc: 0.9982318659782098\n",
      "cur_best_epoch 23\n",
      "Epoch 24 of 30\n"
     ]
    },
    {
     "name": "stderr",
     "output_type": "stream",
     "text": [
      "train: 100%|██████████| 94/94 [00:39<00:00,  2.41it/s]\n"
     ]
    },
    {
     "name": "stdout",
     "output_type": "stream",
     "text": [
      "Done with batches\n",
      "Epoch loss 0.0008369118828689333\n"
     ]
    },
    {
     "name": "stderr",
     "output_type": "stream",
     "text": [
      "test: 100%|██████████| 47/47 [00:07<00:00,  6.49it/s]\n",
      "test: 100%|██████████| 14/14 [00:01<00:00,  9.16it/s]\n",
      "test: 100%|██████████| 14/14 [00:02<00:00,  6.78it/s]\n"
     ]
    },
    {
     "name": "stdout",
     "output_type": "stream",
     "text": [
      "Epoch 25 of 30\n"
     ]
    },
    {
     "name": "stderr",
     "output_type": "stream",
     "text": [
      "train: 100%|██████████| 94/94 [00:40<00:00,  2.33it/s]\n"
     ]
    },
    {
     "name": "stdout",
     "output_type": "stream",
     "text": [
      "Done with batches\n",
      "Epoch loss 0.0012941622887236472\n"
     ]
    },
    {
     "name": "stderr",
     "output_type": "stream",
     "text": [
      "test: 100%|██████████| 47/47 [00:07<00:00,  5.99it/s]\n",
      "test: 100%|██████████| 14/14 [00:01<00:00,  8.68it/s]\n",
      "test: 100%|██████████| 14/14 [00:02<00:00,  6.80it/s]\n"
     ]
    },
    {
     "name": "stdout",
     "output_type": "stream",
     "text": [
      "Epoch 26 of 30\n"
     ]
    },
    {
     "name": "stderr",
     "output_type": "stream",
     "text": [
      "train: 100%|██████████| 94/94 [00:42<00:00,  2.22it/s]\n"
     ]
    },
    {
     "name": "stdout",
     "output_type": "stream",
     "text": [
      "Done with batches\n",
      "Epoch loss 0.001165221084405896\n"
     ]
    },
    {
     "name": "stderr",
     "output_type": "stream",
     "text": [
      "test: 100%|██████████| 47/47 [00:07<00:00,  6.30it/s]\n",
      "test: 100%|██████████| 14/14 [00:01<00:00,  8.12it/s]\n",
      "test: 100%|██████████| 14/14 [00:02<00:00,  5.90it/s]\n"
     ]
    },
    {
     "name": "stdout",
     "output_type": "stream",
     "text": [
      "cur_best_auc: 0.9982669635345245\n",
      "cur_best_epoch 26\n",
      "Epoch 27 of 30\n"
     ]
    },
    {
     "name": "stderr",
     "output_type": "stream",
     "text": [
      "train: 100%|██████████| 94/94 [00:43<00:00,  2.15it/s]\n"
     ]
    },
    {
     "name": "stdout",
     "output_type": "stream",
     "text": [
      "Done with batches\n",
      "Epoch loss 0.0020970775319468925\n"
     ]
    },
    {
     "name": "stderr",
     "output_type": "stream",
     "text": [
      "test: 100%|██████████| 47/47 [00:07<00:00,  6.44it/s]\n",
      "test: 100%|██████████| 14/14 [00:01<00:00,  8.73it/s]\n",
      "test: 100%|██████████| 14/14 [00:01<00:00,  7.14it/s]\n"
     ]
    },
    {
     "name": "stdout",
     "output_type": "stream",
     "text": [
      "Epoch 28 of 30\n"
     ]
    },
    {
     "name": "stderr",
     "output_type": "stream",
     "text": [
      "train: 100%|██████████| 94/94 [00:42<00:00,  2.19it/s]\n"
     ]
    },
    {
     "name": "stdout",
     "output_type": "stream",
     "text": [
      "Done with batches\n",
      "Epoch loss 0.000958896016140414\n"
     ]
    },
    {
     "name": "stderr",
     "output_type": "stream",
     "text": [
      "test: 100%|██████████| 47/47 [00:07<00:00,  5.96it/s]\n",
      "test: 100%|██████████| 14/14 [00:01<00:00,  7.63it/s]\n",
      "test: 100%|██████████| 14/14 [00:02<00:00,  6.15it/s]\n"
     ]
    },
    {
     "name": "stdout",
     "output_type": "stream",
     "text": [
      "Epoch 29 of 30\n"
     ]
    },
    {
     "name": "stderr",
     "output_type": "stream",
     "text": [
      "train: 100%|██████████| 94/94 [00:43<00:00,  2.17it/s]\n"
     ]
    },
    {
     "name": "stdout",
     "output_type": "stream",
     "text": [
      "Done with batches\n",
      "Epoch loss 0.0010725041566787541\n"
     ]
    },
    {
     "name": "stderr",
     "output_type": "stream",
     "text": [
      "test: 100%|██████████| 47/47 [00:07<00:00,  6.54it/s]\n",
      "test: 100%|██████████| 14/14 [00:01<00:00,  9.60it/s]\n",
      "test: 100%|██████████| 14/14 [00:02<00:00,  6.37it/s]\n"
     ]
    }
   ],
   "source": [
    "model = model.to(DEVICE)\n",
    "\n",
    "criterion = nn.CrossEntropyLoss()\n",
    "\n",
    "train_evaluator = medmnist.Evaluator(data_flag, 'train')\n",
    "val_evaluator = medmnist.Evaluator(data_flag, 'val')\n",
    "test_evaluator = medmnist.Evaluator(data_flag, 'test')\n",
    "\n",
    "optimizer = torch.optim.Adam(model.parameters(), lr=lr)\n",
    "scheduler = torch.optim.lr_scheduler.MultiStepLR(optimizer, milestones=milestones, gamma=gamma)\n",
    "\n",
    "logs = ['loss', 'auc', 'acc']\n",
    "train_logs = ['train_'+log for log in logs]\n",
    "val_logs = ['val_'+log for log in logs]\n",
    "test_logs = ['test_'+log for log in logs]\n",
    "log_dict = OrderedDict.fromkeys(train_logs+val_logs+test_logs, 0)\n",
    "\n",
    "writer = SummaryWriter(log_dir=os.path.join(output_root, model.name))\n",
    "\n",
    "best_auc = 0\n",
    "best_epoch = 0\n",
    "best_model = deepcopy(model)\n",
    "tb_twod = True\n",
    "\n",
    "for epoch in range(NUM_EPOCHS):        \n",
    "    print(f\"Epoch {epoch} of {NUM_EPOCHS}\")\n",
    "    train_loss = train(model, train_loader, task, criterion, optimizer, DEVICE, writer)\n",
    "    \n",
    "    train_metrics = test(model, train_evaluator, train_loader_at_eval, task, criterion, DEVICE, 'model1')\n",
    "    val_metrics = test(model, val_evaluator, val_loader, task, criterion, DEVICE, 'model1')\n",
    "    test_metrics = test(model, test_evaluator, test_loader, task, criterion, DEVICE, 'model1')\n",
    "    \n",
    "    scheduler.step()\n",
    "    \n",
    "    for i, key in enumerate(train_logs):\n",
    "        log_dict[key] = train_metrics[i]\n",
    "    for i, key in enumerate(val_logs):\n",
    "        log_dict[key] = val_metrics[i]\n",
    "    for i, key in enumerate(test_logs):\n",
    "        log_dict[key] = test_metrics[i]\n",
    "\n",
    "    for key, value in log_dict.items():\n",
    "        writer.add_scalar(key, value, epoch)\n",
    "        \n",
    "    cur_auc = val_metrics[1]\n",
    "    if cur_auc > best_auc:\n",
    "        best_epoch = epoch\n",
    "        best_auc = cur_auc\n",
    "        best_model = deepcopy(model)\n",
    "        print('cur_best_auc:', best_auc)\n",
    "        print('cur_best_epoch', best_epoch)\n",
    "\n",
    "state = {\n",
    "    'net': best_model.state_dict(),\n",
    "}"
   ]
  },
  {
   "cell_type": "code",
   "execution_count": 4,
   "metadata": {},
   "outputs": [
    {
     "name": "stderr",
     "output_type": "stream",
     "text": [
      "test: 100%|██████████| 47/47 [00:07<00:00,  6.25it/s]\n",
      "test: 100%|██████████| 14/14 [00:01<00:00,  8.47it/s]\n",
      "test: 100%|██████████| 14/14 [00:01<00:00,  7.26it/s]"
     ]
    },
    {
     "name": "stdout",
     "output_type": "stream",
     "text": [
      "bloodmnist\n",
      "train  auc: 1.00000  acc: 1.00000\n",
      "val  auc: 0.99827  acc: 0.96262\n",
      "test  auc: 0.99765  acc: 0.96054\n",
      "\n"
     ]
    },
    {
     "name": "stderr",
     "output_type": "stream",
     "text": [
      "\n"
     ]
    }
   ],
   "source": [
    "\n",
    "path = os.path.join(output_root, f'{model.name}_best_model.pth')\n",
    "torch.save(state, path)\n",
    "\n",
    "train_metrics = test(best_model, train_evaluator, train_loader_at_eval, task, criterion, DEVICE, 'model', output_root)\n",
    "val_metrics = test(best_model, val_evaluator, val_loader, task, criterion, DEVICE, 'model', output_root)\n",
    "test_metrics = test(best_model, test_evaluator, test_loader, task, criterion, DEVICE, 'model', output_root)\n",
    "\n",
    "train_log = 'train  auc: %.5f  acc: %.5f\\n' % (train_metrics[1], train_metrics[2])\n",
    "val_log = 'val  auc: %.5f  acc: %.5f\\n' % (val_metrics[1], val_metrics[2])\n",
    "test_log = 'test  auc: %.5f  acc: %.5f\\n' % (test_metrics[1], test_metrics[2])\n",
    "\n",
    "log = '%s\\n' % (data_flag) + train_log + val_log + test_log\n",
    "print(log)\n",
    "        \n",
    "with open(os.path.join(output_root, '%s_log.txt' % (data_flag)), 'a') as f:\n",
    "    f.write(log)  \n",
    "\n",
    "writer.close()"
   ]
  },
  {
   "cell_type": "code",
   "execution_count": 5,
   "metadata": {},
   "outputs": [
    {
     "name": "stdout",
     "output_type": "stream",
     "text": [
      "Using downloaded and verified file: /Users/vemundlund/.medmnist/bloodmnist.npz\n",
      "Using downloaded and verified file: /Users/vemundlund/.medmnist/bloodmnist.npz\n",
      "Using downloaded and verified file: /Users/vemundlund/.medmnist/bloodmnist.npz\n",
      "Using downloaded and verified file: /Users/vemundlund/.medmnist/bloodmnist.npz\n"
     ]
    },
    {
     "name": "stderr",
     "output_type": "stream",
     "text": [
      "/Users/vemundlund/miniconda3/envs/vi_venv/lib/python3.11/site-packages/torchvision/models/_utils.py:208: UserWarning: The parameter 'pretrained' is deprecated since 0.13 and may be removed in the future, please use 'weights' instead.\n",
      "  warnings.warn(\n",
      "/Users/vemundlund/miniconda3/envs/vi_venv/lib/python3.11/site-packages/torchvision/models/_utils.py:223: UserWarning: Arguments other than a weight enum or `None` for 'weights' are deprecated since 0.13 and may be removed in the future. The current behavior is equivalent to passing `weights=ResNet18_Weights.IMAGENET1K_V1`. You can also use `weights=ResNet18_Weights.DEFAULT` to get the most up-to-date weights.\n",
      "  warnings.warn(msg)\n"
     ]
    }
   ],
   "source": [
    "data_flag = 'bloodmnist'\n",
    "download = True\n",
    "\n",
    "DEVICE = 'mps'\n",
    "NUM_EPOCHS = 30\n",
    "BATCH_SIZE = 128\n",
    "milestones = [0.5 * NUM_EPOCHS, 0.75 * NUM_EPOCHS]\n",
    "lr = 0.001\n",
    "gamma = 0.1\n",
    "\n",
    "output_root = './output2d'\n",
    "\n",
    "info = INFO[data_flag]\n",
    "n_channels = info['n_channels']\n",
    "n_classes = len(info['label'])\n",
    "task = info['task']\n",
    "\n",
    "train_loader, train_loader_at_eval, val_loader, test_loader = extract_data(data_flag, download, BATCH_SIZE)\n",
    "\n",
    "model = resnet18(pretrained=True)\n",
    "model.fc.out_features = n_classes\n",
    "num_ftrs = model.fc.in_features\n",
    "model.fc = nn.Linear(num_ftrs, n_classes)\n",
    "model.name = 'resnet18'\n",
    "\n"
   ]
  },
  {
   "cell_type": "code",
   "execution_count": 6,
   "metadata": {},
   "outputs": [
    {
     "name": "stdout",
     "output_type": "stream",
     "text": [
      "Epoch 0 of 30\n"
     ]
    },
    {
     "name": "stderr",
     "output_type": "stream",
     "text": [
      "train: 100%|██████████| 94/94 [00:24<00:00,  3.91it/s]\n"
     ]
    },
    {
     "name": "stdout",
     "output_type": "stream",
     "text": [
      "Done with batches\n",
      "Epoch loss 0.4344546544425031\n"
     ]
    },
    {
     "name": "stderr",
     "output_type": "stream",
     "text": [
      "test: 100%|██████████| 47/47 [00:05<00:00,  7.92it/s]\n",
      "test: 100%|██████████| 14/14 [00:01<00:00,  9.84it/s]\n",
      "test: 100%|██████████| 14/14 [00:01<00:00,  8.82it/s]\n"
     ]
    },
    {
     "name": "stdout",
     "output_type": "stream",
     "text": [
      "cur_best_auc: 0.9848569441644346\n",
      "cur_best_epoch 0\n",
      "Epoch 1 of 30\n"
     ]
    },
    {
     "name": "stderr",
     "output_type": "stream",
     "text": [
      "train: 100%|██████████| 94/94 [00:25<00:00,  3.75it/s]\n"
     ]
    },
    {
     "name": "stdout",
     "output_type": "stream",
     "text": [
      "Done with batches\n",
      "Epoch loss 0.2316137507874915\n"
     ]
    },
    {
     "name": "stderr",
     "output_type": "stream",
     "text": [
      "test: 100%|██████████| 47/47 [00:05<00:00,  9.08it/s]\n",
      "test: 100%|██████████| 14/14 [00:01<00:00, 12.45it/s]\n",
      "test: 100%|██████████| 14/14 [00:01<00:00,  8.42it/s]\n"
     ]
    },
    {
     "name": "stdout",
     "output_type": "stream",
     "text": [
      "cur_best_auc: 0.9906155822643211\n",
      "cur_best_epoch 1\n",
      "Epoch 2 of 30\n"
     ]
    },
    {
     "name": "stderr",
     "output_type": "stream",
     "text": [
      "train: 100%|██████████| 94/94 [00:25<00:00,  3.66it/s]\n"
     ]
    },
    {
     "name": "stdout",
     "output_type": "stream",
     "text": [
      "Done with batches\n",
      "Epoch loss 0.19077993437964866\n"
     ]
    },
    {
     "name": "stderr",
     "output_type": "stream",
     "text": [
      "test: 100%|██████████| 47/47 [00:05<00:00,  7.90it/s]\n",
      "test: 100%|██████████| 14/14 [00:01<00:00, 12.99it/s]\n",
      "test: 100%|██████████| 14/14 [00:01<00:00,  7.45it/s]\n"
     ]
    },
    {
     "name": "stdout",
     "output_type": "stream",
     "text": [
      "cur_best_auc: 0.9943210015024965\n",
      "cur_best_epoch 2\n",
      "Epoch 3 of 30\n"
     ]
    },
    {
     "name": "stderr",
     "output_type": "stream",
     "text": [
      "train: 100%|██████████| 94/94 [00:26<00:00,  3.60it/s]\n"
     ]
    },
    {
     "name": "stdout",
     "output_type": "stream",
     "text": [
      "Done with batches\n",
      "Epoch loss 0.15251892951733254\n"
     ]
    },
    {
     "name": "stderr",
     "output_type": "stream",
     "text": [
      "test: 100%|██████████| 47/47 [00:05<00:00,  7.99it/s]\n",
      "test: 100%|██████████| 14/14 [00:01<00:00, 11.47it/s]\n",
      "test: 100%|██████████| 14/14 [00:01<00:00,  7.62it/s]\n"
     ]
    },
    {
     "name": "stdout",
     "output_type": "stream",
     "text": [
      "Epoch 4 of 30\n"
     ]
    },
    {
     "name": "stderr",
     "output_type": "stream",
     "text": [
      "train: 100%|██████████| 94/94 [00:24<00:00,  3.87it/s]\n"
     ]
    },
    {
     "name": "stdout",
     "output_type": "stream",
     "text": [
      "Done with batches\n",
      "Epoch loss 0.13075703410233588\n"
     ]
    },
    {
     "name": "stderr",
     "output_type": "stream",
     "text": [
      "test: 100%|██████████| 47/47 [00:05<00:00,  8.87it/s]\n",
      "test: 100%|██████████| 14/14 [00:01<00:00, 12.78it/s]\n",
      "test: 100%|██████████| 14/14 [00:01<00:00,  9.36it/s]\n"
     ]
    },
    {
     "name": "stdout",
     "output_type": "stream",
     "text": [
      "cur_best_auc: 0.9954547334614744\n",
      "cur_best_epoch 4\n",
      "Epoch 5 of 30\n"
     ]
    },
    {
     "name": "stderr",
     "output_type": "stream",
     "text": [
      "train: 100%|██████████| 94/94 [00:25<00:00,  3.69it/s]\n"
     ]
    },
    {
     "name": "stdout",
     "output_type": "stream",
     "text": [
      "Done with batches\n",
      "Epoch loss 0.11446186737652789\n"
     ]
    },
    {
     "name": "stderr",
     "output_type": "stream",
     "text": [
      "test: 100%|██████████| 47/47 [00:05<00:00,  8.18it/s]\n",
      "test: 100%|██████████| 14/14 [00:01<00:00, 13.44it/s]\n",
      "test: 100%|██████████| 14/14 [00:01<00:00,  9.53it/s]\n"
     ]
    },
    {
     "name": "stdout",
     "output_type": "stream",
     "text": [
      "Epoch 6 of 30\n"
     ]
    },
    {
     "name": "stderr",
     "output_type": "stream",
     "text": [
      "train: 100%|██████████| 94/94 [00:25<00:00,  3.65it/s]\n"
     ]
    },
    {
     "name": "stdout",
     "output_type": "stream",
     "text": [
      "Done with batches\n",
      "Epoch loss 0.09098067693412304\n"
     ]
    },
    {
     "name": "stderr",
     "output_type": "stream",
     "text": [
      "test: 100%|██████████| 47/47 [00:05<00:00,  7.85it/s]\n",
      "test: 100%|██████████| 14/14 [00:01<00:00, 10.59it/s]\n",
      "test: 100%|██████████| 14/14 [00:01<00:00,  8.15it/s]\n"
     ]
    },
    {
     "name": "stdout",
     "output_type": "stream",
     "text": [
      "cur_best_auc: 0.9955183864604747\n",
      "cur_best_epoch 6\n",
      "Epoch 7 of 30\n"
     ]
    },
    {
     "name": "stderr",
     "output_type": "stream",
     "text": [
      "train: 100%|██████████| 94/94 [00:25<00:00,  3.67it/s]\n"
     ]
    },
    {
     "name": "stdout",
     "output_type": "stream",
     "text": [
      "Done with batches\n",
      "Epoch loss 0.08551610429632536\n"
     ]
    },
    {
     "name": "stderr",
     "output_type": "stream",
     "text": [
      "test: 100%|██████████| 47/47 [00:05<00:00,  8.25it/s]\n",
      "test: 100%|██████████| 14/14 [00:01<00:00, 12.60it/s]\n",
      "test: 100%|██████████| 14/14 [00:01<00:00,  9.31it/s]\n"
     ]
    },
    {
     "name": "stdout",
     "output_type": "stream",
     "text": [
      "Epoch 8 of 30\n"
     ]
    },
    {
     "name": "stderr",
     "output_type": "stream",
     "text": [
      "train: 100%|██████████| 94/94 [00:25<00:00,  3.69it/s]\n"
     ]
    },
    {
     "name": "stdout",
     "output_type": "stream",
     "text": [
      "Done with batches\n",
      "Epoch loss 0.0811936145529468\n"
     ]
    },
    {
     "name": "stderr",
     "output_type": "stream",
     "text": [
      "test: 100%|██████████| 47/47 [00:05<00:00,  8.63it/s]\n",
      "test: 100%|██████████| 14/14 [00:01<00:00, 12.67it/s]\n",
      "test: 100%|██████████| 14/14 [00:01<00:00,  8.16it/s]\n"
     ]
    },
    {
     "name": "stdout",
     "output_type": "stream",
     "text": [
      "Epoch 9 of 30\n"
     ]
    },
    {
     "name": "stderr",
     "output_type": "stream",
     "text": [
      "train: 100%|██████████| 94/94 [00:26<00:00,  3.60it/s]\n"
     ]
    },
    {
     "name": "stdout",
     "output_type": "stream",
     "text": [
      "Done with batches\n",
      "Epoch loss 0.07512779543770755\n"
     ]
    },
    {
     "name": "stderr",
     "output_type": "stream",
     "text": [
      "test: 100%|██████████| 47/47 [00:05<00:00,  7.90it/s]\n",
      "test: 100%|██████████| 14/14 [00:01<00:00, 11.81it/s]\n",
      "test: 100%|██████████| 14/14 [00:01<00:00,  8.19it/s]\n"
     ]
    },
    {
     "name": "stdout",
     "output_type": "stream",
     "text": [
      "cur_best_auc: 0.9966339419830779\n",
      "cur_best_epoch 9\n",
      "Epoch 10 of 30\n"
     ]
    },
    {
     "name": "stderr",
     "output_type": "stream",
     "text": [
      "train: 100%|██████████| 94/94 [00:24<00:00,  3.81it/s]\n"
     ]
    },
    {
     "name": "stdout",
     "output_type": "stream",
     "text": [
      "Done with batches\n",
      "Epoch loss 0.07023204936388325\n"
     ]
    },
    {
     "name": "stderr",
     "output_type": "stream",
     "text": [
      "test: 100%|██████████| 47/47 [00:05<00:00,  8.44it/s]\n",
      "test: 100%|██████████| 14/14 [00:01<00:00, 12.26it/s]\n",
      "test: 100%|██████████| 14/14 [00:01<00:00,  8.06it/s]\n"
     ]
    },
    {
     "name": "stdout",
     "output_type": "stream",
     "text": [
      "Epoch 11 of 30\n"
     ]
    },
    {
     "name": "stderr",
     "output_type": "stream",
     "text": [
      "train: 100%|██████████| 94/94 [00:26<00:00,  3.57it/s]\n"
     ]
    },
    {
     "name": "stdout",
     "output_type": "stream",
     "text": [
      "Done with batches\n",
      "Epoch loss 0.06606452079846505\n"
     ]
    },
    {
     "name": "stderr",
     "output_type": "stream",
     "text": [
      "test: 100%|██████████| 47/47 [00:05<00:00,  8.77it/s]\n",
      "test: 100%|██████████| 14/14 [00:01<00:00, 11.36it/s]\n",
      "test: 100%|██████████| 14/14 [00:01<00:00,  7.29it/s]\n"
     ]
    },
    {
     "name": "stdout",
     "output_type": "stream",
     "text": [
      "Epoch 12 of 30\n"
     ]
    },
    {
     "name": "stderr",
     "output_type": "stream",
     "text": [
      "train: 100%|██████████| 94/94 [00:26<00:00,  3.51it/s]\n"
     ]
    },
    {
     "name": "stdout",
     "output_type": "stream",
     "text": [
      "Done with batches\n",
      "Epoch loss 0.05024395492720477\n"
     ]
    },
    {
     "name": "stderr",
     "output_type": "stream",
     "text": [
      "test: 100%|██████████| 47/47 [00:05<00:00,  8.59it/s]\n",
      "test: 100%|██████████| 14/14 [00:01<00:00,  9.90it/s]\n",
      "test: 100%|██████████| 14/14 [00:01<00:00,  9.00it/s]\n"
     ]
    },
    {
     "name": "stdout",
     "output_type": "stream",
     "text": [
      "Epoch 13 of 30\n"
     ]
    },
    {
     "name": "stderr",
     "output_type": "stream",
     "text": [
      "train: 100%|██████████| 94/94 [00:25<00:00,  3.75it/s]\n"
     ]
    },
    {
     "name": "stdout",
     "output_type": "stream",
     "text": [
      "Done with batches\n",
      "Epoch loss 0.054726305705039426\n"
     ]
    },
    {
     "name": "stderr",
     "output_type": "stream",
     "text": [
      "test: 100%|██████████| 47/47 [00:05<00:00,  8.40it/s]\n",
      "test: 100%|██████████| 14/14 [00:01<00:00, 10.29it/s]\n",
      "test: 100%|██████████| 14/14 [00:01<00:00,  7.78it/s]\n"
     ]
    },
    {
     "name": "stdout",
     "output_type": "stream",
     "text": [
      "Epoch 14 of 30\n"
     ]
    },
    {
     "name": "stderr",
     "output_type": "stream",
     "text": [
      "train: 100%|██████████| 94/94 [00:26<00:00,  3.54it/s]\n"
     ]
    },
    {
     "name": "stdout",
     "output_type": "stream",
     "text": [
      "Done with batches\n",
      "Epoch loss 0.054524748407779856\n"
     ]
    },
    {
     "name": "stderr",
     "output_type": "stream",
     "text": [
      "test: 100%|██████████| 47/47 [00:05<00:00,  8.17it/s]\n",
      "test: 100%|██████████| 14/14 [00:01<00:00, 10.86it/s]\n",
      "test: 100%|██████████| 14/14 [00:01<00:00,  8.09it/s]\n"
     ]
    },
    {
     "name": "stdout",
     "output_type": "stream",
     "text": [
      "Epoch 15 of 30\n"
     ]
    },
    {
     "name": "stderr",
     "output_type": "stream",
     "text": [
      "train: 100%|██████████| 94/94 [00:26<00:00,  3.58it/s]\n"
     ]
    },
    {
     "name": "stdout",
     "output_type": "stream",
     "text": [
      "Done with batches\n",
      "Epoch loss 0.020680824180747917\n"
     ]
    },
    {
     "name": "stderr",
     "output_type": "stream",
     "text": [
      "test: 100%|██████████| 47/47 [00:06<00:00,  7.47it/s]\n",
      "test: 100%|██████████| 14/14 [00:01<00:00, 12.51it/s]\n",
      "test: 100%|██████████| 14/14 [00:01<00:00,  9.16it/s]\n"
     ]
    },
    {
     "name": "stdout",
     "output_type": "stream",
     "text": [
      "cur_best_auc: 0.9984240183526527\n",
      "cur_best_epoch 15\n",
      "Epoch 16 of 30\n"
     ]
    },
    {
     "name": "stderr",
     "output_type": "stream",
     "text": [
      "train: 100%|██████████| 94/94 [00:25<00:00,  3.67it/s]\n"
     ]
    },
    {
     "name": "stdout",
     "output_type": "stream",
     "text": [
      "Done with batches\n",
      "Epoch loss 0.008572752233916656\n"
     ]
    },
    {
     "name": "stderr",
     "output_type": "stream",
     "text": [
      "test: 100%|██████████| 47/47 [00:06<00:00,  7.43it/s]\n",
      "test: 100%|██████████| 14/14 [00:01<00:00, 11.89it/s]\n",
      "test: 100%|██████████| 14/14 [00:01<00:00,  8.67it/s]\n"
     ]
    },
    {
     "name": "stdout",
     "output_type": "stream",
     "text": [
      "cur_best_auc: 0.9984747389678661\n",
      "cur_best_epoch 16\n",
      "Epoch 17 of 30\n"
     ]
    },
    {
     "name": "stderr",
     "output_type": "stream",
     "text": [
      "train: 100%|██████████| 94/94 [00:26<00:00,  3.56it/s]\n"
     ]
    },
    {
     "name": "stdout",
     "output_type": "stream",
     "text": [
      "Done with batches\n",
      "Epoch loss 0.005372302458705777\n"
     ]
    },
    {
     "name": "stderr",
     "output_type": "stream",
     "text": [
      "test: 100%|██████████| 47/47 [00:05<00:00,  8.03it/s]\n",
      "test: 100%|██████████| 14/14 [00:01<00:00, 12.01it/s]\n",
      "test: 100%|██████████| 14/14 [00:01<00:00,  7.92it/s]\n"
     ]
    },
    {
     "name": "stdout",
     "output_type": "stream",
     "text": [
      "cur_best_auc: 0.9984908156889105\n",
      "cur_best_epoch 17\n",
      "Epoch 18 of 30\n"
     ]
    },
    {
     "name": "stderr",
     "output_type": "stream",
     "text": [
      "train: 100%|██████████| 94/94 [00:26<00:00,  3.61it/s]\n"
     ]
    },
    {
     "name": "stdout",
     "output_type": "stream",
     "text": [
      "Done with batches\n",
      "Epoch loss 0.0037604419977721225\n"
     ]
    },
    {
     "name": "stderr",
     "output_type": "stream",
     "text": [
      "test: 100%|██████████| 47/47 [00:05<00:00,  8.03it/s]\n",
      "test: 100%|██████████| 14/14 [00:01<00:00, 10.88it/s]\n",
      "test: 100%|██████████| 14/14 [00:01<00:00,  8.17it/s]\n"
     ]
    },
    {
     "name": "stdout",
     "output_type": "stream",
     "text": [
      "Epoch 19 of 30\n"
     ]
    },
    {
     "name": "stderr",
     "output_type": "stream",
     "text": [
      "train: 100%|██████████| 94/94 [00:26<00:00,  3.52it/s]\n"
     ]
    },
    {
     "name": "stdout",
     "output_type": "stream",
     "text": [
      "Done with batches\n",
      "Epoch loss 0.003865645024331009\n"
     ]
    },
    {
     "name": "stderr",
     "output_type": "stream",
     "text": [
      "test: 100%|██████████| 47/47 [00:05<00:00,  7.87it/s]\n",
      "test: 100%|██████████| 14/14 [00:01<00:00,  9.57it/s]\n",
      "test: 100%|██████████| 14/14 [00:01<00:00,  7.57it/s]\n"
     ]
    },
    {
     "name": "stdout",
     "output_type": "stream",
     "text": [
      "Epoch 20 of 30\n"
     ]
    },
    {
     "name": "stderr",
     "output_type": "stream",
     "text": [
      "train: 100%|██████████| 94/94 [00:25<00:00,  3.73it/s]\n"
     ]
    },
    {
     "name": "stdout",
     "output_type": "stream",
     "text": [
      "Done with batches\n",
      "Epoch loss 0.0030001110779344442\n"
     ]
    },
    {
     "name": "stderr",
     "output_type": "stream",
     "text": [
      "test: 100%|██████████| 47/47 [00:05<00:00,  9.11it/s]\n",
      "test: 100%|██████████| 14/14 [00:01<00:00, 13.72it/s]\n",
      "test: 100%|██████████| 14/14 [00:01<00:00, 10.01it/s]\n"
     ]
    },
    {
     "name": "stdout",
     "output_type": "stream",
     "text": [
      "Epoch 21 of 30\n"
     ]
    },
    {
     "name": "stderr",
     "output_type": "stream",
     "text": [
      "train: 100%|██████████| 94/94 [00:21<00:00,  4.40it/s]\n"
     ]
    },
    {
     "name": "stdout",
     "output_type": "stream",
     "text": [
      "Done with batches\n",
      "Epoch loss 0.003396149525020093\n"
     ]
    },
    {
     "name": "stderr",
     "output_type": "stream",
     "text": [
      "test: 100%|██████████| 47/47 [00:04<00:00, 10.86it/s]\n",
      "test: 100%|██████████| 14/14 [00:00<00:00, 15.27it/s]\n",
      "test: 100%|██████████| 14/14 [00:01<00:00, 10.84it/s]\n"
     ]
    },
    {
     "name": "stdout",
     "output_type": "stream",
     "text": [
      "cur_best_auc: 0.9985287017516133\n",
      "cur_best_epoch 21\n",
      "Epoch 22 of 30\n"
     ]
    },
    {
     "name": "stderr",
     "output_type": "stream",
     "text": [
      "train: 100%|██████████| 94/94 [00:18<00:00,  4.99it/s]\n"
     ]
    },
    {
     "name": "stdout",
     "output_type": "stream",
     "text": [
      "Done with batches\n",
      "Epoch loss 0.00409687376080175\n"
     ]
    },
    {
     "name": "stderr",
     "output_type": "stream",
     "text": [
      "test: 100%|██████████| 47/47 [00:04<00:00, 11.08it/s]\n",
      "test: 100%|██████████| 14/14 [00:00<00:00, 15.61it/s]\n",
      "test: 100%|██████████| 14/14 [00:01<00:00, 11.35it/s]\n"
     ]
    },
    {
     "name": "stdout",
     "output_type": "stream",
     "text": [
      "Epoch 23 of 30\n"
     ]
    },
    {
     "name": "stderr",
     "output_type": "stream",
     "text": [
      "train: 100%|██████████| 94/94 [00:17<00:00,  5.24it/s]\n"
     ]
    },
    {
     "name": "stdout",
     "output_type": "stream",
     "text": [
      "Done with batches\n",
      "Epoch loss 0.0029344330405558835\n"
     ]
    },
    {
     "name": "stderr",
     "output_type": "stream",
     "text": [
      "test: 100%|██████████| 47/47 [00:04<00:00, 11.31it/s]\n",
      "test: 100%|██████████| 14/14 [00:00<00:00, 16.19it/s]\n",
      "test: 100%|██████████| 14/14 [00:01<00:00, 11.68it/s]\n"
     ]
    },
    {
     "name": "stdout",
     "output_type": "stream",
     "text": [
      "Epoch 24 of 30\n"
     ]
    },
    {
     "name": "stderr",
     "output_type": "stream",
     "text": [
      "train: 100%|██████████| 94/94 [00:17<00:00,  5.39it/s]\n"
     ]
    },
    {
     "name": "stdout",
     "output_type": "stream",
     "text": [
      "Done with batches\n",
      "Epoch loss 0.0022344725378950006\n"
     ]
    },
    {
     "name": "stderr",
     "output_type": "stream",
     "text": [
      "test: 100%|██████████| 47/47 [00:04<00:00, 11.62it/s]\n",
      "test: 100%|██████████| 14/14 [00:00<00:00, 16.68it/s]\n",
      "test: 100%|██████████| 14/14 [00:01<00:00, 12.02it/s]\n"
     ]
    },
    {
     "name": "stdout",
     "output_type": "stream",
     "text": [
      "Epoch 25 of 30\n"
     ]
    },
    {
     "name": "stderr",
     "output_type": "stream",
     "text": [
      "train: 100%|██████████| 94/94 [00:17<00:00,  5.42it/s]\n"
     ]
    },
    {
     "name": "stdout",
     "output_type": "stream",
     "text": [
      "Done with batches\n",
      "Epoch loss 0.0015705677164697454\n"
     ]
    },
    {
     "name": "stderr",
     "output_type": "stream",
     "text": [
      "test: 100%|██████████| 47/47 [00:04<00:00, 11.57it/s]\n",
      "test: 100%|██████████| 14/14 [00:00<00:00, 16.95it/s]\n",
      "test: 100%|██████████| 14/14 [00:01<00:00, 11.99it/s]\n"
     ]
    },
    {
     "name": "stdout",
     "output_type": "stream",
     "text": [
      "cur_best_auc: 0.9985363852121187\n",
      "cur_best_epoch 25\n",
      "Epoch 26 of 30\n"
     ]
    },
    {
     "name": "stderr",
     "output_type": "stream",
     "text": [
      "train: 100%|██████████| 94/94 [00:17<00:00,  5.42it/s]\n"
     ]
    },
    {
     "name": "stdout",
     "output_type": "stream",
     "text": [
      "Done with batches\n",
      "Epoch loss 0.0011431714026796126\n"
     ]
    },
    {
     "name": "stderr",
     "output_type": "stream",
     "text": [
      "test: 100%|██████████| 47/47 [00:03<00:00, 12.62it/s]\n",
      "test: 100%|██████████| 14/14 [00:00<00:00, 15.23it/s]\n",
      "test: 100%|██████████| 14/14 [00:01<00:00, 11.11it/s]\n"
     ]
    },
    {
     "name": "stdout",
     "output_type": "stream",
     "text": [
      "Epoch 27 of 30\n"
     ]
    },
    {
     "name": "stderr",
     "output_type": "stream",
     "text": [
      "train: 100%|██████████| 94/94 [00:17<00:00,  5.30it/s]\n"
     ]
    },
    {
     "name": "stdout",
     "output_type": "stream",
     "text": [
      "Done with batches\n",
      "Epoch loss 0.0016668276114982523\n"
     ]
    },
    {
     "name": "stderr",
     "output_type": "stream",
     "text": [
      "test: 100%|██████████| 47/47 [00:04<00:00, 11.28it/s]\n",
      "test: 100%|██████████| 14/14 [00:00<00:00, 15.26it/s]\n",
      "test: 100%|██████████| 14/14 [00:01<00:00, 11.74it/s]\n"
     ]
    },
    {
     "name": "stdout",
     "output_type": "stream",
     "text": [
      "Epoch 28 of 30\n"
     ]
    },
    {
     "name": "stderr",
     "output_type": "stream",
     "text": [
      "train: 100%|██████████| 94/94 [00:17<00:00,  5.24it/s]\n"
     ]
    },
    {
     "name": "stdout",
     "output_type": "stream",
     "text": [
      "Done with batches\n",
      "Epoch loss 0.001597073323593693\n"
     ]
    },
    {
     "name": "stderr",
     "output_type": "stream",
     "text": [
      "test: 100%|██████████| 47/47 [00:04<00:00, 11.19it/s]\n",
      "test: 100%|██████████| 14/14 [00:00<00:00, 14.88it/s]\n",
      "test: 100%|██████████| 14/14 [00:01<00:00,  9.70it/s]\n"
     ]
    },
    {
     "name": "stdout",
     "output_type": "stream",
     "text": [
      "Epoch 29 of 30\n"
     ]
    },
    {
     "name": "stderr",
     "output_type": "stream",
     "text": [
      "train: 100%|██████████| 94/94 [00:19<00:00,  4.74it/s]\n"
     ]
    },
    {
     "name": "stdout",
     "output_type": "stream",
     "text": [
      "Done with batches\n",
      "Epoch loss 0.0019709859222162545\n"
     ]
    },
    {
     "name": "stderr",
     "output_type": "stream",
     "text": [
      "test: 100%|██████████| 47/47 [00:04<00:00, 11.17it/s]\n",
      "test: 100%|██████████| 14/14 [00:00<00:00, 15.06it/s]\n",
      "test: 100%|██████████| 14/14 [00:01<00:00, 10.23it/s]\n",
      "test: 100%|██████████| 47/47 [00:05<00:00,  9.03it/s]\n",
      "test: 100%|██████████| 14/14 [00:00<00:00, 14.58it/s]\n",
      "test: 100%|██████████| 14/14 [00:01<00:00,  9.74it/s]\n"
     ]
    },
    {
     "name": "stdout",
     "output_type": "stream",
     "text": [
      "bloodmnist\n",
      "train  auc: 1.00000  acc: 0.99992\n",
      "val  auc: 0.99854  acc: 0.95678\n",
      "test  auc: 0.99763  acc: 0.96083\n",
      "\n"
     ]
    }
   ],
   "source": [
    "model = model.to(DEVICE)\n",
    "\n",
    "criterion = nn.CrossEntropyLoss()\n",
    "\n",
    "train_evaluator = medmnist.Evaluator(data_flag, 'train')\n",
    "val_evaluator = medmnist.Evaluator(data_flag, 'val')\n",
    "test_evaluator = medmnist.Evaluator(data_flag, 'test')\n",
    "\n",
    "optimizer = torch.optim.Adam(model.parameters(), lr=lr)\n",
    "scheduler = torch.optim.lr_scheduler.MultiStepLR(optimizer, milestones=milestones, gamma=gamma)\n",
    "\n",
    "logs = ['loss', 'auc', 'acc']\n",
    "train_logs = ['train_'+log for log in logs]\n",
    "val_logs = ['val_'+log for log in logs]\n",
    "test_logs = ['test_'+log for log in logs]\n",
    "log_dict = OrderedDict.fromkeys(train_logs+val_logs+test_logs, 0)\n",
    "\n",
    "writer = SummaryWriter(log_dir=os.path.join(output_root, model.name))\n",
    "\n",
    "best_auc = 0\n",
    "best_epoch = 0\n",
    "best_model = deepcopy(model)\n",
    "tb_twod = True\n",
    "\n",
    "for epoch in range(NUM_EPOCHS):        \n",
    "    print(f\"Epoch {epoch} of {NUM_EPOCHS}\")\n",
    "    train_loss = train(model, train_loader, task, criterion, optimizer, DEVICE, writer)\n",
    "    \n",
    "    train_metrics = test(model, train_evaluator, train_loader_at_eval, task, criterion, DEVICE, 'model1')\n",
    "    val_metrics = test(model, val_evaluator, val_loader, task, criterion, DEVICE, 'model1')\n",
    "    test_metrics = test(model, test_evaluator, test_loader, task, criterion, DEVICE, 'model1')\n",
    "    \n",
    "    scheduler.step()\n",
    "    \n",
    "    for i, key in enumerate(train_logs):\n",
    "        log_dict[key] = train_metrics[i]\n",
    "    for i, key in enumerate(val_logs):\n",
    "        log_dict[key] = val_metrics[i]\n",
    "    for i, key in enumerate(test_logs):\n",
    "        log_dict[key] = test_metrics[i]\n",
    "\n",
    "    for key, value in log_dict.items():\n",
    "        writer.add_scalar(key, value, epoch)\n",
    "        \n",
    "    cur_auc = val_metrics[1]\n",
    "    if cur_auc > best_auc:\n",
    "        best_epoch = epoch\n",
    "        best_auc = cur_auc\n",
    "        best_model = deepcopy(model)\n",
    "        print('cur_best_auc:', best_auc)\n",
    "        print('cur_best_epoch', best_epoch)\n",
    "\n",
    "state = {\n",
    "    'net': best_model.state_dict(),\n",
    "}\n",
    "\n",
    "\n",
    "path = os.path.join(output_root, f'{model.name}_best_model.pth')\n",
    "torch.save(state, path)\n",
    "\n",
    "train_metrics = test(best_model, train_evaluator, train_loader_at_eval, task, criterion, DEVICE, 'model', output_root)\n",
    "val_metrics = test(best_model, val_evaluator, val_loader, task, criterion, DEVICE, 'model', output_root)\n",
    "test_metrics = test(best_model, test_evaluator, test_loader, task, criterion, DEVICE, 'model', output_root)\n",
    "\n",
    "train_log = 'train  auc: %.5f  acc: %.5f\\n' % (train_metrics[1], train_metrics[2])\n",
    "val_log = 'val  auc: %.5f  acc: %.5f\\n' % (val_metrics[1], val_metrics[2])\n",
    "test_log = 'test  auc: %.5f  acc: %.5f\\n' % (test_metrics[1], test_metrics[2])\n",
    "\n",
    "log = '%s\\n' % (data_flag) + train_log + val_log + test_log\n",
    "print(log)\n",
    "        \n",
    "with open(os.path.join(output_root, '%s_log.txt' % (data_flag)), 'a') as f:\n",
    "    f.write(log)  \n",
    "\n",
    "writer.close()"
   ]
  },
  {
   "cell_type": "code",
   "execution_count": 7,
   "metadata": {},
   "outputs": [
    {
     "name": "stdout",
     "output_type": "stream",
     "text": [
      "Using downloaded and verified file: /Users/vemundlund/.medmnist/bloodmnist.npz\n",
      "Using downloaded and verified file: /Users/vemundlund/.medmnist/bloodmnist.npz\n",
      "Using downloaded and verified file: /Users/vemundlund/.medmnist/bloodmnist.npz\n",
      "Using downloaded and verified file: /Users/vemundlund/.medmnist/bloodmnist.npz\n"
     ]
    },
    {
     "name": "stderr",
     "output_type": "stream",
     "text": [
      "/Users/vemundlund/miniconda3/envs/vi_venv/lib/python3.11/site-packages/torchvision/models/_utils.py:208: UserWarning: The parameter 'pretrained' is deprecated since 0.13 and may be removed in the future, please use 'weights' instead.\n",
      "  warnings.warn(\n",
      "/Users/vemundlund/miniconda3/envs/vi_venv/lib/python3.11/site-packages/torchvision/models/_utils.py:223: UserWarning: Arguments other than a weight enum or `None` for 'weights' are deprecated since 0.13 and may be removed in the future. The current behavior is equivalent to passing `weights=ResNet50_Weights.IMAGENET1K_V1`. You can also use `weights=ResNet50_Weights.DEFAULT` to get the most up-to-date weights.\n",
      "  warnings.warn(msg)\n"
     ]
    }
   ],
   "source": [
    "\n",
    "data_flag = 'bloodmnist'\n",
    "download = True\n",
    "\n",
    "DEVICE = 'mps'\n",
    "NUM_EPOCHS = 30\n",
    "BATCH_SIZE = 128\n",
    "milestones = [0.5 * NUM_EPOCHS, 0.75 * NUM_EPOCHS]\n",
    "lr = 0.001\n",
    "gamma = 0.1\n",
    "\n",
    "output_root = './output2d'\n",
    "\n",
    "info = INFO[data_flag]\n",
    "n_channels = info['n_channels']\n",
    "n_classes = len(info['label'])\n",
    "task = info['task']\n",
    "\n",
    "train_loader, train_loader_at_eval, val_loader, test_loader = extract_data(data_flag, download, BATCH_SIZE)\n",
    "\n",
    "model = resnet50(pretrained=True)\n",
    "model.fc.out_features = n_classes\n",
    "num_ftrs = model.fc.in_features\n",
    "model.fc = nn.Linear(num_ftrs, n_classes)\n",
    "model.name = 'resnet50'"
   ]
  },
  {
   "cell_type": "code",
   "execution_count": 8,
   "metadata": {},
   "outputs": [
    {
     "name": "stdout",
     "output_type": "stream",
     "text": [
      "Epoch 0 of 30\n"
     ]
    },
    {
     "name": "stderr",
     "output_type": "stream",
     "text": [
      "train: 100%|██████████| 94/94 [01:07<00:00,  1.40it/s]\n"
     ]
    },
    {
     "name": "stdout",
     "output_type": "stream",
     "text": [
      "Done with batches\n",
      "Epoch loss 0.4749878576778351\n"
     ]
    },
    {
     "name": "stderr",
     "output_type": "stream",
     "text": [
      "test: 100%|██████████| 47/47 [00:15<00:00,  3.01it/s]\n",
      "test: 100%|██████████| 14/14 [00:03<00:00,  4.41it/s]\n",
      "test: 100%|██████████| 14/14 [00:04<00:00,  2.95it/s]\n"
     ]
    },
    {
     "name": "stdout",
     "output_type": "stream",
     "text": [
      "cur_best_auc: 0.9904587566110492\n",
      "cur_best_epoch 0\n",
      "Epoch 1 of 30\n"
     ]
    },
    {
     "name": "stderr",
     "output_type": "stream",
     "text": [
      "train: 100%|██████████| 94/94 [00:58<00:00,  1.62it/s]\n"
     ]
    },
    {
     "name": "stdout",
     "output_type": "stream",
     "text": [
      "Done with batches\n",
      "Epoch loss 0.24241460130569784\n"
     ]
    },
    {
     "name": "stderr",
     "output_type": "stream",
     "text": [
      "test: 100%|██████████| 47/47 [00:14<00:00,  3.24it/s]\n",
      "test: 100%|██████████| 14/14 [00:02<00:00,  5.80it/s]\n",
      "test: 100%|██████████| 14/14 [00:04<00:00,  3.39it/s]\n"
     ]
    },
    {
     "name": "stdout",
     "output_type": "stream",
     "text": [
      "cur_best_auc: 0.9943615801046436\n",
      "cur_best_epoch 1\n",
      "Epoch 2 of 30\n"
     ]
    },
    {
     "name": "stderr",
     "output_type": "stream",
     "text": [
      "train: 100%|██████████| 94/94 [00:59<00:00,  1.59it/s]\n"
     ]
    },
    {
     "name": "stdout",
     "output_type": "stream",
     "text": [
      "Done with batches\n",
      "Epoch loss 0.1755893936658159\n"
     ]
    },
    {
     "name": "stderr",
     "output_type": "stream",
     "text": [
      "test: 100%|██████████| 47/47 [00:14<00:00,  3.15it/s]\n",
      "test: 100%|██████████| 14/14 [00:02<00:00,  5.68it/s]\n",
      "test: 100%|██████████| 14/14 [00:04<00:00,  3.30it/s]\n"
     ]
    },
    {
     "name": "stdout",
     "output_type": "stream",
     "text": [
      "cur_best_auc: 0.9956904238598128\n",
      "cur_best_epoch 2\n",
      "Epoch 3 of 30\n"
     ]
    },
    {
     "name": "stderr",
     "output_type": "stream",
     "text": [
      "train: 100%|██████████| 94/94 [01:01<00:00,  1.53it/s]\n"
     ]
    },
    {
     "name": "stdout",
     "output_type": "stream",
     "text": [
      "Done with batches\n",
      "Epoch loss 0.15825890242419344\n"
     ]
    },
    {
     "name": "stderr",
     "output_type": "stream",
     "text": [
      "test: 100%|██████████| 47/47 [00:14<00:00,  3.17it/s]\n",
      "test: 100%|██████████| 14/14 [00:02<00:00,  5.72it/s]\n",
      "test: 100%|██████████| 14/14 [00:04<00:00,  3.37it/s]\n"
     ]
    },
    {
     "name": "stdout",
     "output_type": "stream",
     "text": [
      "Epoch 4 of 30\n"
     ]
    },
    {
     "name": "stderr",
     "output_type": "stream",
     "text": [
      "train: 100%|██████████| 94/94 [01:02<00:00,  1.51it/s]\n"
     ]
    },
    {
     "name": "stdout",
     "output_type": "stream",
     "text": [
      "Done with batches\n",
      "Epoch loss 0.12086110974245882\n"
     ]
    },
    {
     "name": "stderr",
     "output_type": "stream",
     "text": [
      "test: 100%|██████████| 47/47 [00:15<00:00,  3.09it/s]\n",
      "test: 100%|██████████| 14/14 [00:02<00:00,  5.57it/s]\n",
      "test: 100%|██████████| 14/14 [00:04<00:00,  3.28it/s]\n"
     ]
    },
    {
     "name": "stdout",
     "output_type": "stream",
     "text": [
      "Epoch 5 of 30\n"
     ]
    },
    {
     "name": "stderr",
     "output_type": "stream",
     "text": [
      "train: 100%|██████████| 94/94 [01:02<00:00,  1.51it/s]\n"
     ]
    },
    {
     "name": "stdout",
     "output_type": "stream",
     "text": [
      "Done with batches\n",
      "Epoch loss 0.11519131355700975\n"
     ]
    },
    {
     "name": "stderr",
     "output_type": "stream",
     "text": [
      "test: 100%|██████████| 47/47 [00:15<00:00,  3.04it/s]\n",
      "test: 100%|██████████| 14/14 [00:02<00:00,  5.53it/s]\n",
      "test: 100%|██████████| 14/14 [00:04<00:00,  3.28it/s]\n"
     ]
    },
    {
     "name": "stdout",
     "output_type": "stream",
     "text": [
      "Epoch 6 of 30\n"
     ]
    },
    {
     "name": "stderr",
     "output_type": "stream",
     "text": [
      "train: 100%|██████████| 94/94 [01:05<00:00,  1.44it/s]\n"
     ]
    },
    {
     "name": "stdout",
     "output_type": "stream",
     "text": [
      "Done with batches\n",
      "Epoch loss 0.07999804921131184\n"
     ]
    },
    {
     "name": "stderr",
     "output_type": "stream",
     "text": [
      "test: 100%|██████████| 47/47 [00:14<00:00,  3.19it/s]\n",
      "test: 100%|██████████| 14/14 [00:02<00:00,  6.19it/s]\n",
      "test: 100%|██████████| 14/14 [00:04<00:00,  3.50it/s]\n"
     ]
    },
    {
     "name": "stdout",
     "output_type": "stream",
     "text": [
      "Epoch 7 of 30\n"
     ]
    },
    {
     "name": "stderr",
     "output_type": "stream",
     "text": [
      "train: 100%|██████████| 94/94 [00:58<00:00,  1.61it/s]\n"
     ]
    },
    {
     "name": "stdout",
     "output_type": "stream",
     "text": [
      "Done with batches\n",
      "Epoch loss 0.07525763419912533\n"
     ]
    },
    {
     "name": "stderr",
     "output_type": "stream",
     "text": [
      "test: 100%|██████████| 47/47 [00:15<00:00,  3.06it/s]\n",
      "test: 100%|██████████| 14/14 [00:02<00:00,  5.42it/s]\n",
      "test: 100%|██████████| 14/14 [00:04<00:00,  3.39it/s]\n"
     ]
    },
    {
     "name": "stdout",
     "output_type": "stream",
     "text": [
      "Epoch 8 of 30\n"
     ]
    },
    {
     "name": "stderr",
     "output_type": "stream",
     "text": [
      "train: 100%|██████████| 94/94 [00:51<00:00,  1.81it/s]\n"
     ]
    },
    {
     "name": "stdout",
     "output_type": "stream",
     "text": [
      "Done with batches\n",
      "Epoch loss 0.08129607368894715\n"
     ]
    },
    {
     "name": "stderr",
     "output_type": "stream",
     "text": [
      "test: 100%|██████████| 47/47 [00:10<00:00,  4.29it/s]\n",
      "test: 100%|██████████| 14/14 [00:01<00:00,  8.59it/s]\n",
      "test: 100%|██████████| 14/14 [00:02<00:00,  4.77it/s]\n"
     ]
    },
    {
     "name": "stdout",
     "output_type": "stream",
     "text": [
      "Epoch 9 of 30\n"
     ]
    },
    {
     "name": "stderr",
     "output_type": "stream",
     "text": [
      "train: 100%|██████████| 94/94 [00:31<00:00,  3.02it/s]\n"
     ]
    },
    {
     "name": "stdout",
     "output_type": "stream",
     "text": [
      "Done with batches\n",
      "Epoch loss 0.0758998922389397\n"
     ]
    },
    {
     "name": "stderr",
     "output_type": "stream",
     "text": [
      "test: 100%|██████████| 47/47 [00:09<00:00,  5.05it/s]\n",
      "test: 100%|██████████| 14/14 [00:01<00:00,  9.82it/s]\n",
      "test: 100%|██████████| 14/14 [00:02<00:00,  5.28it/s]\n"
     ]
    },
    {
     "name": "stdout",
     "output_type": "stream",
     "text": [
      "Epoch 10 of 30\n"
     ]
    },
    {
     "name": "stderr",
     "output_type": "stream",
     "text": [
      "train: 100%|██████████| 94/94 [00:29<00:00,  3.14it/s]\n"
     ]
    },
    {
     "name": "stdout",
     "output_type": "stream",
     "text": [
      "Done with batches\n",
      "Epoch loss 0.05680358434650809\n"
     ]
    },
    {
     "name": "stderr",
     "output_type": "stream",
     "text": [
      "test: 100%|██████████| 47/47 [00:09<00:00,  4.92it/s]\n",
      "test: 100%|██████████| 14/14 [00:01<00:00,  9.57it/s]\n",
      "test: 100%|██████████| 14/14 [00:02<00:00,  5.07it/s]\n"
     ]
    },
    {
     "name": "stdout",
     "output_type": "stream",
     "text": [
      "cur_best_auc: 0.9964891493278027\n",
      "cur_best_epoch 10\n",
      "Epoch 11 of 30\n"
     ]
    },
    {
     "name": "stderr",
     "output_type": "stream",
     "text": [
      "train: 100%|██████████| 94/94 [00:32<00:00,  2.86it/s]\n"
     ]
    },
    {
     "name": "stdout",
     "output_type": "stream",
     "text": [
      "Done with batches\n",
      "Epoch loss 0.049362083659210104\n"
     ]
    },
    {
     "name": "stderr",
     "output_type": "stream",
     "text": [
      "test: 100%|██████████| 47/47 [00:10<00:00,  4.66it/s]\n",
      "test: 100%|██████████| 14/14 [00:01<00:00,  9.04it/s]\n",
      "test: 100%|██████████| 14/14 [00:02<00:00,  4.89it/s]\n"
     ]
    },
    {
     "name": "stdout",
     "output_type": "stream",
     "text": [
      "Epoch 12 of 30\n"
     ]
    },
    {
     "name": "stderr",
     "output_type": "stream",
     "text": [
      "train: 100%|██████████| 94/94 [00:34<00:00,  2.72it/s]\n"
     ]
    },
    {
     "name": "stdout",
     "output_type": "stream",
     "text": [
      "Done with batches\n",
      "Epoch loss 0.04841818471260844\n"
     ]
    },
    {
     "name": "stderr",
     "output_type": "stream",
     "text": [
      "test: 100%|██████████| 47/47 [00:10<00:00,  4.51it/s]\n",
      "test: 100%|██████████| 14/14 [00:01<00:00,  8.58it/s]\n",
      "test: 100%|██████████| 14/14 [00:03<00:00,  4.65it/s]\n"
     ]
    },
    {
     "name": "stdout",
     "output_type": "stream",
     "text": [
      "Epoch 13 of 30\n"
     ]
    },
    {
     "name": "stderr",
     "output_type": "stream",
     "text": [
      "train: 100%|██████████| 94/94 [00:47<00:00,  2.00it/s]\n"
     ]
    },
    {
     "name": "stdout",
     "output_type": "stream",
     "text": [
      "Done with batches\n",
      "Epoch loss 0.040461111323353144\n"
     ]
    },
    {
     "name": "stderr",
     "output_type": "stream",
     "text": [
      "test: 100%|██████████| 47/47 [00:16<00:00,  2.85it/s]\n",
      "test: 100%|██████████| 14/14 [00:02<00:00,  4.88it/s]\n",
      "test: 100%|██████████| 14/14 [00:05<00:00,  2.78it/s]\n"
     ]
    },
    {
     "name": "stdout",
     "output_type": "stream",
     "text": [
      "Epoch 14 of 30\n"
     ]
    },
    {
     "name": "stderr",
     "output_type": "stream",
     "text": [
      "train: 100%|██████████| 94/94 [01:03<00:00,  1.47it/s]\n"
     ]
    },
    {
     "name": "stdout",
     "output_type": "stream",
     "text": [
      "Done with batches\n",
      "Epoch loss 0.0351566317629941\n"
     ]
    },
    {
     "name": "stderr",
     "output_type": "stream",
     "text": [
      "test: 100%|██████████| 47/47 [00:13<00:00,  3.54it/s]\n",
      "test: 100%|██████████| 14/14 [00:02<00:00,  6.92it/s]\n",
      "test: 100%|██████████| 14/14 [00:03<00:00,  4.06it/s]\n"
     ]
    },
    {
     "name": "stdout",
     "output_type": "stream",
     "text": [
      "Epoch 15 of 30\n"
     ]
    },
    {
     "name": "stderr",
     "output_type": "stream",
     "text": [
      "train: 100%|██████████| 94/94 [00:39<00:00,  2.37it/s]\n"
     ]
    },
    {
     "name": "stdout",
     "output_type": "stream",
     "text": [
      "Done with batches\n",
      "Epoch loss 0.012383285294376076\n"
     ]
    },
    {
     "name": "stderr",
     "output_type": "stream",
     "text": [
      "test: 100%|██████████| 47/47 [00:10<00:00,  4.33it/s]\n",
      "test: 100%|██████████| 14/14 [00:01<00:00,  8.19it/s]\n",
      "test: 100%|██████████| 14/14 [00:03<00:00,  4.58it/s]\n"
     ]
    },
    {
     "name": "stdout",
     "output_type": "stream",
     "text": [
      "cur_best_auc: 0.9979673047661631\n",
      "cur_best_epoch 15\n",
      "Epoch 16 of 30\n"
     ]
    },
    {
     "name": "stderr",
     "output_type": "stream",
     "text": [
      "train: 100%|██████████| 94/94 [00:37<00:00,  2.50it/s]\n"
     ]
    },
    {
     "name": "stdout",
     "output_type": "stream",
     "text": [
      "Done with batches\n",
      "Epoch loss 0.00538193485067979\n"
     ]
    },
    {
     "name": "stderr",
     "output_type": "stream",
     "text": [
      "test: 100%|██████████| 47/47 [00:10<00:00,  4.34it/s]\n",
      "test: 100%|██████████| 14/14 [00:01<00:00,  8.07it/s]\n",
      "test: 100%|██████████| 14/14 [00:03<00:00,  4.52it/s]\n"
     ]
    },
    {
     "name": "stdout",
     "output_type": "stream",
     "text": [
      "cur_best_auc: 0.9980075036949215\n",
      "cur_best_epoch 16\n",
      "Epoch 17 of 30\n"
     ]
    },
    {
     "name": "stderr",
     "output_type": "stream",
     "text": [
      "train: 100%|██████████| 94/94 [00:38<00:00,  2.44it/s]\n"
     ]
    },
    {
     "name": "stdout",
     "output_type": "stream",
     "text": [
      "Done with batches\n",
      "Epoch loss 0.003861676952355799\n"
     ]
    },
    {
     "name": "stderr",
     "output_type": "stream",
     "text": [
      "test: 100%|██████████| 47/47 [00:11<00:00,  4.23it/s]\n",
      "test: 100%|██████████| 14/14 [00:01<00:00,  7.84it/s]\n",
      "test: 100%|██████████| 14/14 [00:03<00:00,  4.41it/s]\n"
     ]
    },
    {
     "name": "stdout",
     "output_type": "stream",
     "text": [
      "cur_best_auc: 0.9980735926131157\n",
      "cur_best_epoch 17\n",
      "Epoch 18 of 30\n"
     ]
    },
    {
     "name": "stderr",
     "output_type": "stream",
     "text": [
      "train: 100%|██████████| 94/94 [00:39<00:00,  2.39it/s]\n"
     ]
    },
    {
     "name": "stdout",
     "output_type": "stream",
     "text": [
      "Done with batches\n",
      "Epoch loss 0.0025728137521543837\n"
     ]
    },
    {
     "name": "stderr",
     "output_type": "stream",
     "text": [
      "test: 100%|██████████| 47/47 [00:11<00:00,  4.18it/s]\n",
      "test: 100%|██████████| 14/14 [00:01<00:00,  7.77it/s]\n",
      "test: 100%|██████████| 14/14 [00:03<00:00,  4.37it/s]\n"
     ]
    },
    {
     "name": "stdout",
     "output_type": "stream",
     "text": [
      "Epoch 19 of 30\n"
     ]
    },
    {
     "name": "stderr",
     "output_type": "stream",
     "text": [
      "train: 100%|██████████| 94/94 [00:40<00:00,  2.33it/s]\n"
     ]
    },
    {
     "name": "stdout",
     "output_type": "stream",
     "text": [
      "Done with batches\n",
      "Epoch loss 0.0020350473301306844\n"
     ]
    },
    {
     "name": "stderr",
     "output_type": "stream",
     "text": [
      "test: 100%|██████████| 47/47 [00:11<00:00,  4.14it/s]\n",
      "test: 100%|██████████| 14/14 [00:01<00:00,  7.75it/s]\n",
      "test: 100%|██████████| 14/14 [00:03<00:00,  4.35it/s]\n"
     ]
    },
    {
     "name": "stdout",
     "output_type": "stream",
     "text": [
      "Epoch 20 of 30\n"
     ]
    },
    {
     "name": "stderr",
     "output_type": "stream",
     "text": [
      "train: 100%|██████████| 94/94 [00:39<00:00,  2.38it/s]\n"
     ]
    },
    {
     "name": "stdout",
     "output_type": "stream",
     "text": [
      "Done with batches\n",
      "Epoch loss 0.0016392269191899376\n"
     ]
    },
    {
     "name": "stderr",
     "output_type": "stream",
     "text": [
      "test: 100%|██████████| 47/47 [00:11<00:00,  4.21it/s]\n",
      "test: 100%|██████████| 14/14 [00:01<00:00,  7.87it/s]\n",
      "test: 100%|██████████| 14/14 [00:03<00:00,  4.43it/s]\n"
     ]
    },
    {
     "name": "stdout",
     "output_type": "stream",
     "text": [
      "cur_best_auc: 0.9981387831670104\n",
      "cur_best_epoch 20\n",
      "Epoch 21 of 30\n"
     ]
    },
    {
     "name": "stderr",
     "output_type": "stream",
     "text": [
      "train: 100%|██████████| 94/94 [00:55<00:00,  1.69it/s]\n"
     ]
    },
    {
     "name": "stdout",
     "output_type": "stream",
     "text": [
      "Done with batches\n",
      "Epoch loss 0.0017018493822530565\n"
     ]
    },
    {
     "name": "stderr",
     "output_type": "stream",
     "text": [
      "test: 100%|██████████| 47/47 [00:24<00:00,  1.89it/s]\n",
      "test: 100%|██████████| 14/14 [00:03<00:00,  3.81it/s]\n",
      "test: 100%|██████████| 14/14 [00:07<00:00,  2.00it/s]\n"
     ]
    },
    {
     "name": "stdout",
     "output_type": "stream",
     "text": [
      "cur_best_auc: 0.9981637750531535\n",
      "cur_best_epoch 21\n",
      "Epoch 22 of 30\n"
     ]
    },
    {
     "name": "stderr",
     "output_type": "stream",
     "text": [
      "train: 100%|██████████| 94/94 [01:22<00:00,  1.14it/s]\n"
     ]
    },
    {
     "name": "stdout",
     "output_type": "stream",
     "text": [
      "Done with batches\n",
      "Epoch loss 0.0013072524488187752\n"
     ]
    },
    {
     "name": "stderr",
     "output_type": "stream",
     "text": [
      "test: 100%|██████████| 47/47 [00:24<00:00,  1.93it/s]\n",
      "test: 100%|██████████| 14/14 [00:03<00:00,  3.92it/s]\n",
      "test: 100%|██████████| 14/14 [00:06<00:00,  2.01it/s]\n"
     ]
    },
    {
     "name": "stdout",
     "output_type": "stream",
     "text": [
      "Epoch 23 of 30\n"
     ]
    },
    {
     "name": "stderr",
     "output_type": "stream",
     "text": [
      "train: 100%|██████████| 94/94 [01:23<00:00,  1.13it/s]\n"
     ]
    },
    {
     "name": "stdout",
     "output_type": "stream",
     "text": [
      "Done with batches\n",
      "Epoch loss 0.0009514508015622306\n"
     ]
    },
    {
     "name": "stderr",
     "output_type": "stream",
     "text": [
      "test: 100%|██████████| 47/47 [00:24<00:00,  1.95it/s]\n",
      "test: 100%|██████████| 14/14 [00:03<00:00,  3.85it/s]\n",
      "test: 100%|██████████| 14/14 [00:06<00:00,  2.04it/s]\n"
     ]
    },
    {
     "name": "stdout",
     "output_type": "stream",
     "text": [
      "cur_best_auc: 0.9981986249809919\n",
      "cur_best_epoch 23\n",
      "Epoch 24 of 30\n"
     ]
    },
    {
     "name": "stderr",
     "output_type": "stream",
     "text": [
      "train: 100%|██████████| 94/94 [01:17<00:00,  1.22it/s]\n"
     ]
    },
    {
     "name": "stdout",
     "output_type": "stream",
     "text": [
      "Done with batches\n",
      "Epoch loss 0.0018880828696289447\n"
     ]
    },
    {
     "name": "stderr",
     "output_type": "stream",
     "text": [
      "test: 100%|██████████| 47/47 [00:24<00:00,  1.93it/s]\n",
      "test: 100%|██████████| 14/14 [00:03<00:00,  3.87it/s]\n",
      "test: 100%|██████████| 14/14 [00:06<00:00,  2.02it/s]\n"
     ]
    },
    {
     "name": "stdout",
     "output_type": "stream",
     "text": [
      "Epoch 25 of 30\n"
     ]
    },
    {
     "name": "stderr",
     "output_type": "stream",
     "text": [
      "train: 100%|██████████| 94/94 [01:16<00:00,  1.22it/s]\n"
     ]
    },
    {
     "name": "stdout",
     "output_type": "stream",
     "text": [
      "Done with batches\n",
      "Epoch loss 0.0009294568012688963\n"
     ]
    },
    {
     "name": "stderr",
     "output_type": "stream",
     "text": [
      "test: 100%|██████████| 47/47 [00:24<00:00,  1.93it/s]\n",
      "test: 100%|██████████| 14/14 [00:03<00:00,  3.96it/s]\n",
      "test: 100%|██████████| 14/14 [00:06<00:00,  2.03it/s]\n"
     ]
    },
    {
     "name": "stdout",
     "output_type": "stream",
     "text": [
      "Epoch 26 of 30\n"
     ]
    },
    {
     "name": "stderr",
     "output_type": "stream",
     "text": [
      "train: 100%|██████████| 94/94 [01:22<00:00,  1.14it/s]\n"
     ]
    },
    {
     "name": "stdout",
     "output_type": "stream",
     "text": [
      "Done with batches\n",
      "Epoch loss 0.0006178963617941841\n"
     ]
    },
    {
     "name": "stderr",
     "output_type": "stream",
     "text": [
      "test: 100%|██████████| 47/47 [00:24<00:00,  1.95it/s]\n",
      "test: 100%|██████████| 14/14 [00:03<00:00,  3.95it/s]\n",
      "test: 100%|██████████| 14/14 [00:06<00:00,  2.04it/s]\n"
     ]
    },
    {
     "name": "stdout",
     "output_type": "stream",
     "text": [
      "cur_best_auc: 0.9982282291787552\n",
      "cur_best_epoch 26\n",
      "Epoch 27 of 30\n"
     ]
    },
    {
     "name": "stderr",
     "output_type": "stream",
     "text": [
      "train: 100%|██████████| 94/94 [01:24<00:00,  1.11it/s]\n"
     ]
    },
    {
     "name": "stdout",
     "output_type": "stream",
     "text": [
      "Done with batches\n",
      "Epoch loss 0.0005853050676724958\n"
     ]
    },
    {
     "name": "stderr",
     "output_type": "stream",
     "text": [
      "test: 100%|██████████| 47/47 [00:24<00:00,  1.95it/s]\n",
      "test: 100%|██████████| 14/14 [00:03<00:00,  3.91it/s]\n",
      "test: 100%|██████████| 14/14 [00:06<00:00,  2.05it/s]\n"
     ]
    },
    {
     "name": "stdout",
     "output_type": "stream",
     "text": [
      "Epoch 28 of 30\n"
     ]
    },
    {
     "name": "stderr",
     "output_type": "stream",
     "text": [
      "train: 100%|██████████| 94/94 [01:24<00:00,  1.11it/s]\n"
     ]
    },
    {
     "name": "stdout",
     "output_type": "stream",
     "text": [
      "Done with batches\n",
      "Epoch loss 0.0005037695093747932\n"
     ]
    },
    {
     "name": "stderr",
     "output_type": "stream",
     "text": [
      "test: 100%|██████████| 47/47 [00:24<00:00,  1.95it/s]\n",
      "test: 100%|██████████| 14/14 [00:03<00:00,  3.88it/s]\n",
      "test: 100%|██████████| 14/14 [00:06<00:00,  2.02it/s]\n"
     ]
    },
    {
     "name": "stdout",
     "output_type": "stream",
     "text": [
      "Epoch 29 of 30\n"
     ]
    },
    {
     "name": "stderr",
     "output_type": "stream",
     "text": [
      "train: 100%|██████████| 94/94 [01:24<00:00,  1.12it/s]\n"
     ]
    },
    {
     "name": "stdout",
     "output_type": "stream",
     "text": [
      "Done with batches\n",
      "Epoch loss 0.00043391293033021207\n"
     ]
    },
    {
     "name": "stderr",
     "output_type": "stream",
     "text": [
      "test: 100%|██████████| 47/47 [00:24<00:00,  1.94it/s]\n",
      "test: 100%|██████████| 14/14 [00:03<00:00,  3.91it/s]\n",
      "test: 100%|██████████| 14/14 [00:06<00:00,  2.05it/s]\n",
      "test: 100%|██████████| 47/47 [00:24<00:00,  1.92it/s]\n",
      "test: 100%|██████████| 14/14 [00:03<00:00,  3.92it/s]\n",
      "test: 100%|██████████| 14/14 [00:06<00:00,  2.02it/s]\n"
     ]
    },
    {
     "name": "stdout",
     "output_type": "stream",
     "text": [
      "bloodmnist\n",
      "train  auc: 1.00000  acc: 1.00000\n",
      "val  auc: 0.99823  acc: 0.96262\n",
      "test  auc: 0.99781  acc: 0.96405\n",
      "\n"
     ]
    }
   ],
   "source": [
    "model = model.to(DEVICE)\n",
    "\n",
    "criterion = nn.CrossEntropyLoss()\n",
    "\n",
    "train_evaluator = medmnist.Evaluator(data_flag, 'train')\n",
    "val_evaluator = medmnist.Evaluator(data_flag, 'val')\n",
    "test_evaluator = medmnist.Evaluator(data_flag, 'test')\n",
    "\n",
    "optimizer = torch.optim.Adam(model.parameters(), lr=lr)\n",
    "scheduler = torch.optim.lr_scheduler.MultiStepLR(optimizer, milestones=milestones, gamma=gamma)\n",
    "\n",
    "logs = ['loss', 'auc', 'acc']\n",
    "train_logs = ['train_'+log for log in logs]\n",
    "val_logs = ['val_'+log for log in logs]\n",
    "test_logs = ['test_'+log for log in logs]\n",
    "log_dict = OrderedDict.fromkeys(train_logs+val_logs+test_logs, 0)\n",
    "\n",
    "writer = SummaryWriter(log_dir=os.path.join(output_root, model.name))\n",
    "\n",
    "best_auc = 0\n",
    "best_epoch = 0\n",
    "best_model = deepcopy(model)\n",
    "tb_twod = True\n",
    "\n",
    "for epoch in range(NUM_EPOCHS):        \n",
    "    print(f\"Epoch {epoch} of {NUM_EPOCHS}\")\n",
    "    train_loss = train(model, train_loader, task, criterion, optimizer, DEVICE, writer)\n",
    "    \n",
    "    train_metrics = test(model, train_evaluator, train_loader_at_eval, task, criterion, DEVICE, 'model1')\n",
    "    val_metrics = test(model, val_evaluator, val_loader, task, criterion, DEVICE, 'model1')\n",
    "    test_metrics = test(model, test_evaluator, test_loader, task, criterion, DEVICE, 'model1')\n",
    "    \n",
    "    scheduler.step()\n",
    "    \n",
    "    for i, key in enumerate(train_logs):\n",
    "        log_dict[key] = train_metrics[i]\n",
    "    for i, key in enumerate(val_logs):\n",
    "        log_dict[key] = val_metrics[i]\n",
    "    for i, key in enumerate(test_logs):\n",
    "        log_dict[key] = test_metrics[i]\n",
    "\n",
    "    for key, value in log_dict.items():\n",
    "        writer.add_scalar(key, value, epoch)\n",
    "        \n",
    "    cur_auc = val_metrics[1]\n",
    "    if cur_auc > best_auc:\n",
    "        best_epoch = epoch\n",
    "        best_auc = cur_auc\n",
    "        best_model = deepcopy(model)\n",
    "        print('cur_best_auc:', best_auc)\n",
    "        print('cur_best_epoch', best_epoch)\n",
    "\n",
    "state = {\n",
    "    'net': best_model.state_dict(),\n",
    "}\n",
    "\n",
    "\n",
    "path = os.path.join(output_root, f'{model.name}_best_model.pth')\n",
    "torch.save(state, path)\n",
    "\n",
    "train_metrics = test(best_model, train_evaluator, train_loader_at_eval, task, criterion, DEVICE, 'model', output_root)\n",
    "val_metrics = test(best_model, val_evaluator, val_loader, task, criterion, DEVICE, 'model', output_root)\n",
    "test_metrics = test(best_model, test_evaluator, test_loader, task, criterion, DEVICE, 'model', output_root)\n",
    "\n",
    "train_log = 'train  auc: %.5f  acc: %.5f\\n' % (train_metrics[1], train_metrics[2])\n",
    "val_log = 'val  auc: %.5f  acc: %.5f\\n' % (val_metrics[1], val_metrics[2])\n",
    "test_log = 'test  auc: %.5f  acc: %.5f\\n' % (test_metrics[1], test_metrics[2])\n",
    "\n",
    "log = '%s\\n' % (data_flag) + train_log + val_log + test_log\n",
    "print(log)\n",
    "        \n",
    "with open(os.path.join(output_root, '%s_log.txt' % (data_flag)), 'a') as f:\n",
    "    f.write(log)  \n",
    "\n",
    "writer.close()"
   ]
  },
  {
   "cell_type": "code",
   "execution_count": 21,
   "metadata": {},
   "outputs": [
    {
     "name": "stdout",
     "output_type": "stream",
     "text": [
      "Using downloaded and verified file: /Users/vemundlund/.medmnist/bloodmnist.npz\n",
      "Using downloaded and verified file: /Users/vemundlund/.medmnist/bloodmnist.npz\n",
      "Using downloaded and verified file: /Users/vemundlund/.medmnist/bloodmnist.npz\n",
      "Using downloaded and verified file: /Users/vemundlund/.medmnist/bloodmnist.npz\n"
     ]
    },
    {
     "name": "stderr",
     "output_type": "stream",
     "text": [
      "/Users/vemundlund/miniconda3/envs/vi_venv/lib/python3.11/site-packages/torchvision/models/_utils.py:223: UserWarning: Arguments other than a weight enum or `None` for 'weights' are deprecated since 0.13 and may be removed in the future. The current behavior is equivalent to passing `weights=ConvNeXt_Small_Weights.IMAGENET1K_V1`. You can also use `weights=ConvNeXt_Small_Weights.DEFAULT` to get the most up-to-date weights.\n",
      "  warnings.warn(msg)\n"
     ]
    },
    {
     "name": "stdout",
     "output_type": "stream",
     "text": [
      "Sequential(\n",
      "  (0): LayerNorm2d((768,), eps=1e-06, elementwise_affine=True)\n",
      "  (1): Flatten(start_dim=1, end_dim=-1)\n",
      "  (2): Linear(in_features=768, out_features=1000, bias=True)\n",
      ")\n",
      "Epoch 0 of 30\n"
     ]
    },
    {
     "name": "stderr",
     "output_type": "stream",
     "text": [
      "train:   0%|          | 0/94 [00:00<?, ?it/s]\n"
     ]
    },
    {
     "ename": "RuntimeError",
     "evalue": "Calculated padded input size per channel: (1 x 1). Kernel size: (2 x 2). Kernel size can't be greater than actual input size",
     "output_type": "error",
     "traceback": [
      "\u001b[0;31m---------------------------------------------------------------------------\u001b[0m",
      "\u001b[0;31mRuntimeError\u001b[0m                              Traceback (most recent call last)",
      "\u001b[1;32m/Users/vemundlund/Code/vi-miniproject/main_mnist2D.ipynb Cell 9\u001b[0m line \u001b[0;36m5\n\u001b[1;32m     <a href='vscode-notebook-cell:/Users/vemundlund/Code/vi-miniproject/main_mnist2D.ipynb#X16sZmlsZQ%3D%3D?line=50'>51</a>\u001b[0m \u001b[39mfor\u001b[39;00m epoch \u001b[39min\u001b[39;00m \u001b[39mrange\u001b[39m(NUM_EPOCHS):        \n\u001b[1;32m     <a href='vscode-notebook-cell:/Users/vemundlund/Code/vi-miniproject/main_mnist2D.ipynb#X16sZmlsZQ%3D%3D?line=51'>52</a>\u001b[0m     \u001b[39mprint\u001b[39m(\u001b[39mf\u001b[39m\u001b[39m\"\u001b[39m\u001b[39mEpoch \u001b[39m\u001b[39m{\u001b[39;00mepoch\u001b[39m}\u001b[39;00m\u001b[39m of \u001b[39m\u001b[39m{\u001b[39;00mNUM_EPOCHS\u001b[39m}\u001b[39;00m\u001b[39m\"\u001b[39m)\n\u001b[0;32m---> <a href='vscode-notebook-cell:/Users/vemundlund/Code/vi-miniproject/main_mnist2D.ipynb#X16sZmlsZQ%3D%3D?line=52'>53</a>\u001b[0m     train_loss \u001b[39m=\u001b[39m train(model, train_loader, task, criterion, optimizer, DEVICE, writer)\n\u001b[1;32m     <a href='vscode-notebook-cell:/Users/vemundlund/Code/vi-miniproject/main_mnist2D.ipynb#X16sZmlsZQ%3D%3D?line=54'>55</a>\u001b[0m     train_metrics \u001b[39m=\u001b[39m test(model, train_evaluator, train_loader_at_eval, task, criterion, DEVICE, \u001b[39m'\u001b[39m\u001b[39mmodel1\u001b[39m\u001b[39m'\u001b[39m)\n\u001b[1;32m     <a href='vscode-notebook-cell:/Users/vemundlund/Code/vi-miniproject/main_mnist2D.ipynb#X16sZmlsZQ%3D%3D?line=55'>56</a>\u001b[0m     val_metrics \u001b[39m=\u001b[39m test(model, val_evaluator, val_loader, task, criterion, DEVICE, \u001b[39m'\u001b[39m\u001b[39mmodel1\u001b[39m\u001b[39m'\u001b[39m)\n",
      "File \u001b[0;32m~/Code/vi-miniproject/dataset.py:90\u001b[0m, in \u001b[0;36mtrain\u001b[0;34m(model, train_loader, task, criterion, optimizer, device, writer)\u001b[0m\n\u001b[1;32m     88\u001b[0m \u001b[39mfor\u001b[39;00m inputs, targets \u001b[39min\u001b[39;00m tqdm(train_loader, desc\u001b[39m=\u001b[39m\u001b[39m\"\u001b[39m\u001b[39mtrain\u001b[39m\u001b[39m\"\u001b[39m):\n\u001b[1;32m     89\u001b[0m     optimizer\u001b[39m.\u001b[39mzero_grad()\n\u001b[0;32m---> 90\u001b[0m     outputs \u001b[39m=\u001b[39m model(inputs\u001b[39m.\u001b[39;49mto(device))\n\u001b[1;32m     92\u001b[0m     targets \u001b[39m=\u001b[39m torch\u001b[39m.\u001b[39msqueeze(targets, \u001b[39m1\u001b[39m)\u001b[39m.\u001b[39mlong()\u001b[39m.\u001b[39mto(device)\n\u001b[1;32m     93\u001b[0m     loss \u001b[39m=\u001b[39m criterion(outputs, targets)\n",
      "File \u001b[0;32m~/miniconda3/envs/vi_venv/lib/python3.11/site-packages/torch/nn/modules/module.py:1518\u001b[0m, in \u001b[0;36mModule._wrapped_call_impl\u001b[0;34m(self, *args, **kwargs)\u001b[0m\n\u001b[1;32m   1516\u001b[0m     \u001b[39mreturn\u001b[39;00m \u001b[39mself\u001b[39m\u001b[39m.\u001b[39m_compiled_call_impl(\u001b[39m*\u001b[39margs, \u001b[39m*\u001b[39m\u001b[39m*\u001b[39mkwargs)  \u001b[39m# type: ignore[misc]\u001b[39;00m\n\u001b[1;32m   1517\u001b[0m \u001b[39melse\u001b[39;00m:\n\u001b[0;32m-> 1518\u001b[0m     \u001b[39mreturn\u001b[39;00m \u001b[39mself\u001b[39;49m\u001b[39m.\u001b[39;49m_call_impl(\u001b[39m*\u001b[39;49margs, \u001b[39m*\u001b[39;49m\u001b[39m*\u001b[39;49mkwargs)\n",
      "File \u001b[0;32m~/miniconda3/envs/vi_venv/lib/python3.11/site-packages/torch/nn/modules/module.py:1527\u001b[0m, in \u001b[0;36mModule._call_impl\u001b[0;34m(self, *args, **kwargs)\u001b[0m\n\u001b[1;32m   1522\u001b[0m \u001b[39m# If we don't have any hooks, we want to skip the rest of the logic in\u001b[39;00m\n\u001b[1;32m   1523\u001b[0m \u001b[39m# this function, and just call forward.\u001b[39;00m\n\u001b[1;32m   1524\u001b[0m \u001b[39mif\u001b[39;00m \u001b[39mnot\u001b[39;00m (\u001b[39mself\u001b[39m\u001b[39m.\u001b[39m_backward_hooks \u001b[39mor\u001b[39;00m \u001b[39mself\u001b[39m\u001b[39m.\u001b[39m_backward_pre_hooks \u001b[39mor\u001b[39;00m \u001b[39mself\u001b[39m\u001b[39m.\u001b[39m_forward_hooks \u001b[39mor\u001b[39;00m \u001b[39mself\u001b[39m\u001b[39m.\u001b[39m_forward_pre_hooks\n\u001b[1;32m   1525\u001b[0m         \u001b[39mor\u001b[39;00m _global_backward_pre_hooks \u001b[39mor\u001b[39;00m _global_backward_hooks\n\u001b[1;32m   1526\u001b[0m         \u001b[39mor\u001b[39;00m _global_forward_hooks \u001b[39mor\u001b[39;00m _global_forward_pre_hooks):\n\u001b[0;32m-> 1527\u001b[0m     \u001b[39mreturn\u001b[39;00m forward_call(\u001b[39m*\u001b[39;49margs, \u001b[39m*\u001b[39;49m\u001b[39m*\u001b[39;49mkwargs)\n\u001b[1;32m   1529\u001b[0m \u001b[39mtry\u001b[39;00m:\n\u001b[1;32m   1530\u001b[0m     result \u001b[39m=\u001b[39m \u001b[39mNone\u001b[39;00m\n",
      "File \u001b[0;32m~/miniconda3/envs/vi_venv/lib/python3.11/site-packages/torchvision/models/convnext.py:176\u001b[0m, in \u001b[0;36mConvNeXt.forward\u001b[0;34m(self, x)\u001b[0m\n\u001b[1;32m    175\u001b[0m \u001b[39mdef\u001b[39;00m \u001b[39mforward\u001b[39m(\u001b[39mself\u001b[39m, x: Tensor) \u001b[39m-\u001b[39m\u001b[39m>\u001b[39m Tensor:\n\u001b[0;32m--> 176\u001b[0m     \u001b[39mreturn\u001b[39;00m \u001b[39mself\u001b[39;49m\u001b[39m.\u001b[39;49m_forward_impl(x)\n",
      "File \u001b[0;32m~/miniconda3/envs/vi_venv/lib/python3.11/site-packages/torchvision/models/convnext.py:170\u001b[0m, in \u001b[0;36mConvNeXt._forward_impl\u001b[0;34m(self, x)\u001b[0m\n\u001b[1;32m    169\u001b[0m \u001b[39mdef\u001b[39;00m \u001b[39m_forward_impl\u001b[39m(\u001b[39mself\u001b[39m, x: Tensor) \u001b[39m-\u001b[39m\u001b[39m>\u001b[39m Tensor:\n\u001b[0;32m--> 170\u001b[0m     x \u001b[39m=\u001b[39m \u001b[39mself\u001b[39;49m\u001b[39m.\u001b[39;49mfeatures(x)\n\u001b[1;32m    171\u001b[0m     x \u001b[39m=\u001b[39m \u001b[39mself\u001b[39m\u001b[39m.\u001b[39mavgpool(x)\n\u001b[1;32m    172\u001b[0m     x \u001b[39m=\u001b[39m \u001b[39mself\u001b[39m\u001b[39m.\u001b[39mclassifier(x)\n",
      "File \u001b[0;32m~/miniconda3/envs/vi_venv/lib/python3.11/site-packages/torch/nn/modules/module.py:1518\u001b[0m, in \u001b[0;36mModule._wrapped_call_impl\u001b[0;34m(self, *args, **kwargs)\u001b[0m\n\u001b[1;32m   1516\u001b[0m     \u001b[39mreturn\u001b[39;00m \u001b[39mself\u001b[39m\u001b[39m.\u001b[39m_compiled_call_impl(\u001b[39m*\u001b[39margs, \u001b[39m*\u001b[39m\u001b[39m*\u001b[39mkwargs)  \u001b[39m# type: ignore[misc]\u001b[39;00m\n\u001b[1;32m   1517\u001b[0m \u001b[39melse\u001b[39;00m:\n\u001b[0;32m-> 1518\u001b[0m     \u001b[39mreturn\u001b[39;00m \u001b[39mself\u001b[39;49m\u001b[39m.\u001b[39;49m_call_impl(\u001b[39m*\u001b[39;49margs, \u001b[39m*\u001b[39;49m\u001b[39m*\u001b[39;49mkwargs)\n",
      "File \u001b[0;32m~/miniconda3/envs/vi_venv/lib/python3.11/site-packages/torch/nn/modules/module.py:1527\u001b[0m, in \u001b[0;36mModule._call_impl\u001b[0;34m(self, *args, **kwargs)\u001b[0m\n\u001b[1;32m   1522\u001b[0m \u001b[39m# If we don't have any hooks, we want to skip the rest of the logic in\u001b[39;00m\n\u001b[1;32m   1523\u001b[0m \u001b[39m# this function, and just call forward.\u001b[39;00m\n\u001b[1;32m   1524\u001b[0m \u001b[39mif\u001b[39;00m \u001b[39mnot\u001b[39;00m (\u001b[39mself\u001b[39m\u001b[39m.\u001b[39m_backward_hooks \u001b[39mor\u001b[39;00m \u001b[39mself\u001b[39m\u001b[39m.\u001b[39m_backward_pre_hooks \u001b[39mor\u001b[39;00m \u001b[39mself\u001b[39m\u001b[39m.\u001b[39m_forward_hooks \u001b[39mor\u001b[39;00m \u001b[39mself\u001b[39m\u001b[39m.\u001b[39m_forward_pre_hooks\n\u001b[1;32m   1525\u001b[0m         \u001b[39mor\u001b[39;00m _global_backward_pre_hooks \u001b[39mor\u001b[39;00m _global_backward_hooks\n\u001b[1;32m   1526\u001b[0m         \u001b[39mor\u001b[39;00m _global_forward_hooks \u001b[39mor\u001b[39;00m _global_forward_pre_hooks):\n\u001b[0;32m-> 1527\u001b[0m     \u001b[39mreturn\u001b[39;00m forward_call(\u001b[39m*\u001b[39;49margs, \u001b[39m*\u001b[39;49m\u001b[39m*\u001b[39;49mkwargs)\n\u001b[1;32m   1529\u001b[0m \u001b[39mtry\u001b[39;00m:\n\u001b[1;32m   1530\u001b[0m     result \u001b[39m=\u001b[39m \u001b[39mNone\u001b[39;00m\n",
      "File \u001b[0;32m~/miniconda3/envs/vi_venv/lib/python3.11/site-packages/torch/nn/modules/container.py:215\u001b[0m, in \u001b[0;36mSequential.forward\u001b[0;34m(self, input)\u001b[0m\n\u001b[1;32m    213\u001b[0m \u001b[39mdef\u001b[39;00m \u001b[39mforward\u001b[39m(\u001b[39mself\u001b[39m, \u001b[39minput\u001b[39m):\n\u001b[1;32m    214\u001b[0m     \u001b[39mfor\u001b[39;00m module \u001b[39min\u001b[39;00m \u001b[39mself\u001b[39m:\n\u001b[0;32m--> 215\u001b[0m         \u001b[39minput\u001b[39m \u001b[39m=\u001b[39m module(\u001b[39minput\u001b[39;49m)\n\u001b[1;32m    216\u001b[0m     \u001b[39mreturn\u001b[39;00m \u001b[39minput\u001b[39m\n",
      "File \u001b[0;32m~/miniconda3/envs/vi_venv/lib/python3.11/site-packages/torch/nn/modules/module.py:1518\u001b[0m, in \u001b[0;36mModule._wrapped_call_impl\u001b[0;34m(self, *args, **kwargs)\u001b[0m\n\u001b[1;32m   1516\u001b[0m     \u001b[39mreturn\u001b[39;00m \u001b[39mself\u001b[39m\u001b[39m.\u001b[39m_compiled_call_impl(\u001b[39m*\u001b[39margs, \u001b[39m*\u001b[39m\u001b[39m*\u001b[39mkwargs)  \u001b[39m# type: ignore[misc]\u001b[39;00m\n\u001b[1;32m   1517\u001b[0m \u001b[39melse\u001b[39;00m:\n\u001b[0;32m-> 1518\u001b[0m     \u001b[39mreturn\u001b[39;00m \u001b[39mself\u001b[39;49m\u001b[39m.\u001b[39;49m_call_impl(\u001b[39m*\u001b[39;49margs, \u001b[39m*\u001b[39;49m\u001b[39m*\u001b[39;49mkwargs)\n",
      "File \u001b[0;32m~/miniconda3/envs/vi_venv/lib/python3.11/site-packages/torch/nn/modules/module.py:1527\u001b[0m, in \u001b[0;36mModule._call_impl\u001b[0;34m(self, *args, **kwargs)\u001b[0m\n\u001b[1;32m   1522\u001b[0m \u001b[39m# If we don't have any hooks, we want to skip the rest of the logic in\u001b[39;00m\n\u001b[1;32m   1523\u001b[0m \u001b[39m# this function, and just call forward.\u001b[39;00m\n\u001b[1;32m   1524\u001b[0m \u001b[39mif\u001b[39;00m \u001b[39mnot\u001b[39;00m (\u001b[39mself\u001b[39m\u001b[39m.\u001b[39m_backward_hooks \u001b[39mor\u001b[39;00m \u001b[39mself\u001b[39m\u001b[39m.\u001b[39m_backward_pre_hooks \u001b[39mor\u001b[39;00m \u001b[39mself\u001b[39m\u001b[39m.\u001b[39m_forward_hooks \u001b[39mor\u001b[39;00m \u001b[39mself\u001b[39m\u001b[39m.\u001b[39m_forward_pre_hooks\n\u001b[1;32m   1525\u001b[0m         \u001b[39mor\u001b[39;00m _global_backward_pre_hooks \u001b[39mor\u001b[39;00m _global_backward_hooks\n\u001b[1;32m   1526\u001b[0m         \u001b[39mor\u001b[39;00m _global_forward_hooks \u001b[39mor\u001b[39;00m _global_forward_pre_hooks):\n\u001b[0;32m-> 1527\u001b[0m     \u001b[39mreturn\u001b[39;00m forward_call(\u001b[39m*\u001b[39;49margs, \u001b[39m*\u001b[39;49m\u001b[39m*\u001b[39;49mkwargs)\n\u001b[1;32m   1529\u001b[0m \u001b[39mtry\u001b[39;00m:\n\u001b[1;32m   1530\u001b[0m     result \u001b[39m=\u001b[39m \u001b[39mNone\u001b[39;00m\n",
      "File \u001b[0;32m~/miniconda3/envs/vi_venv/lib/python3.11/site-packages/torch/nn/modules/container.py:215\u001b[0m, in \u001b[0;36mSequential.forward\u001b[0;34m(self, input)\u001b[0m\n\u001b[1;32m    213\u001b[0m \u001b[39mdef\u001b[39;00m \u001b[39mforward\u001b[39m(\u001b[39mself\u001b[39m, \u001b[39minput\u001b[39m):\n\u001b[1;32m    214\u001b[0m     \u001b[39mfor\u001b[39;00m module \u001b[39min\u001b[39;00m \u001b[39mself\u001b[39m:\n\u001b[0;32m--> 215\u001b[0m         \u001b[39minput\u001b[39m \u001b[39m=\u001b[39m module(\u001b[39minput\u001b[39;49m)\n\u001b[1;32m    216\u001b[0m     \u001b[39mreturn\u001b[39;00m \u001b[39minput\u001b[39m\n",
      "File \u001b[0;32m~/miniconda3/envs/vi_venv/lib/python3.11/site-packages/torch/nn/modules/module.py:1518\u001b[0m, in \u001b[0;36mModule._wrapped_call_impl\u001b[0;34m(self, *args, **kwargs)\u001b[0m\n\u001b[1;32m   1516\u001b[0m     \u001b[39mreturn\u001b[39;00m \u001b[39mself\u001b[39m\u001b[39m.\u001b[39m_compiled_call_impl(\u001b[39m*\u001b[39margs, \u001b[39m*\u001b[39m\u001b[39m*\u001b[39mkwargs)  \u001b[39m# type: ignore[misc]\u001b[39;00m\n\u001b[1;32m   1517\u001b[0m \u001b[39melse\u001b[39;00m:\n\u001b[0;32m-> 1518\u001b[0m     \u001b[39mreturn\u001b[39;00m \u001b[39mself\u001b[39;49m\u001b[39m.\u001b[39;49m_call_impl(\u001b[39m*\u001b[39;49margs, \u001b[39m*\u001b[39;49m\u001b[39m*\u001b[39;49mkwargs)\n",
      "File \u001b[0;32m~/miniconda3/envs/vi_venv/lib/python3.11/site-packages/torch/nn/modules/module.py:1527\u001b[0m, in \u001b[0;36mModule._call_impl\u001b[0;34m(self, *args, **kwargs)\u001b[0m\n\u001b[1;32m   1522\u001b[0m \u001b[39m# If we don't have any hooks, we want to skip the rest of the logic in\u001b[39;00m\n\u001b[1;32m   1523\u001b[0m \u001b[39m# this function, and just call forward.\u001b[39;00m\n\u001b[1;32m   1524\u001b[0m \u001b[39mif\u001b[39;00m \u001b[39mnot\u001b[39;00m (\u001b[39mself\u001b[39m\u001b[39m.\u001b[39m_backward_hooks \u001b[39mor\u001b[39;00m \u001b[39mself\u001b[39m\u001b[39m.\u001b[39m_backward_pre_hooks \u001b[39mor\u001b[39;00m \u001b[39mself\u001b[39m\u001b[39m.\u001b[39m_forward_hooks \u001b[39mor\u001b[39;00m \u001b[39mself\u001b[39m\u001b[39m.\u001b[39m_forward_pre_hooks\n\u001b[1;32m   1525\u001b[0m         \u001b[39mor\u001b[39;00m _global_backward_pre_hooks \u001b[39mor\u001b[39;00m _global_backward_hooks\n\u001b[1;32m   1526\u001b[0m         \u001b[39mor\u001b[39;00m _global_forward_hooks \u001b[39mor\u001b[39;00m _global_forward_pre_hooks):\n\u001b[0;32m-> 1527\u001b[0m     \u001b[39mreturn\u001b[39;00m forward_call(\u001b[39m*\u001b[39;49margs, \u001b[39m*\u001b[39;49m\u001b[39m*\u001b[39;49mkwargs)\n\u001b[1;32m   1529\u001b[0m \u001b[39mtry\u001b[39;00m:\n\u001b[1;32m   1530\u001b[0m     result \u001b[39m=\u001b[39m \u001b[39mNone\u001b[39;00m\n",
      "File \u001b[0;32m~/miniconda3/envs/vi_venv/lib/python3.11/site-packages/torch/nn/modules/conv.py:460\u001b[0m, in \u001b[0;36mConv2d.forward\u001b[0;34m(self, input)\u001b[0m\n\u001b[1;32m    459\u001b[0m \u001b[39mdef\u001b[39;00m \u001b[39mforward\u001b[39m(\u001b[39mself\u001b[39m, \u001b[39minput\u001b[39m: Tensor) \u001b[39m-\u001b[39m\u001b[39m>\u001b[39m Tensor:\n\u001b[0;32m--> 460\u001b[0m     \u001b[39mreturn\u001b[39;00m \u001b[39mself\u001b[39;49m\u001b[39m.\u001b[39;49m_conv_forward(\u001b[39minput\u001b[39;49m, \u001b[39mself\u001b[39;49m\u001b[39m.\u001b[39;49mweight, \u001b[39mself\u001b[39;49m\u001b[39m.\u001b[39;49mbias)\n",
      "File \u001b[0;32m~/miniconda3/envs/vi_venv/lib/python3.11/site-packages/torch/nn/modules/conv.py:456\u001b[0m, in \u001b[0;36mConv2d._conv_forward\u001b[0;34m(self, input, weight, bias)\u001b[0m\n\u001b[1;32m    452\u001b[0m \u001b[39mif\u001b[39;00m \u001b[39mself\u001b[39m\u001b[39m.\u001b[39mpadding_mode \u001b[39m!=\u001b[39m \u001b[39m'\u001b[39m\u001b[39mzeros\u001b[39m\u001b[39m'\u001b[39m:\n\u001b[1;32m    453\u001b[0m     \u001b[39mreturn\u001b[39;00m F\u001b[39m.\u001b[39mconv2d(F\u001b[39m.\u001b[39mpad(\u001b[39minput\u001b[39m, \u001b[39mself\u001b[39m\u001b[39m.\u001b[39m_reversed_padding_repeated_twice, mode\u001b[39m=\u001b[39m\u001b[39mself\u001b[39m\u001b[39m.\u001b[39mpadding_mode),\n\u001b[1;32m    454\u001b[0m                     weight, bias, \u001b[39mself\u001b[39m\u001b[39m.\u001b[39mstride,\n\u001b[1;32m    455\u001b[0m                     _pair(\u001b[39m0\u001b[39m), \u001b[39mself\u001b[39m\u001b[39m.\u001b[39mdilation, \u001b[39mself\u001b[39m\u001b[39m.\u001b[39mgroups)\n\u001b[0;32m--> 456\u001b[0m \u001b[39mreturn\u001b[39;00m F\u001b[39m.\u001b[39;49mconv2d(\u001b[39minput\u001b[39;49m, weight, bias, \u001b[39mself\u001b[39;49m\u001b[39m.\u001b[39;49mstride,\n\u001b[1;32m    457\u001b[0m                 \u001b[39mself\u001b[39;49m\u001b[39m.\u001b[39;49mpadding, \u001b[39mself\u001b[39;49m\u001b[39m.\u001b[39;49mdilation, \u001b[39mself\u001b[39;49m\u001b[39m.\u001b[39;49mgroups)\n",
      "\u001b[0;31mRuntimeError\u001b[0m: Calculated padded input size per channel: (1 x 1). Kernel size: (2 x 2). Kernel size can't be greater than actual input size"
     ]
    }
   ],
   "source": [
    "\n",
    "data_flag = 'bloodmnist'\n",
    "download = True\n",
    "\n",
    "DEVICE = 'mps'\n",
    "NUM_EPOCHS = 30\n",
    "BATCH_SIZE = 128\n",
    "milestones = [0.5 * NUM_EPOCHS, 0.75 * NUM_EPOCHS]\n",
    "lr = 0.001\n",
    "gamma = 0.1\n",
    "\n",
    "output_root = './output2d'\n",
    "\n",
    "info = INFO[data_flag]\n",
    "n_channels = info['n_channels']\n",
    "n_classes = len(info['label'])\n",
    "task = info['task']\n",
    "\n",
    "train_loader, train_loader_at_eval, val_loader, test_loader = extract_data(data_flag, download, BATCH_SIZE)\n",
    "\n",
    "from torchvision.models import convnext_small\n",
    "\n",
    "model = convnext_small(weights=True)\n",
    "print(model.classifier)\n",
    "model.classifier[2] = nn.Linear(768, n_classes)\n",
    "model.name = 'convnext_small'\n",
    "\n",
    "model = model.to(DEVICE)\n",
    "\n",
    "criterion = nn.CrossEntropyLoss()\n",
    "\n",
    "train_evaluator = medmnist.Evaluator(data_flag, 'train')\n",
    "val_evaluator = medmnist.Evaluator(data_flag, 'val')\n",
    "test_evaluator = medmnist.Evaluator(data_flag, 'test')\n",
    "\n",
    "optimizer = torch.optim.Adam(model.parameters(), lr=lr)\n",
    "scheduler = torch.optim.lr_scheduler.MultiStepLR(optimizer, milestones=milestones, gamma=gamma)\n",
    "\n",
    "logs = ['loss', 'auc', 'acc']\n",
    "train_logs = ['train_'+log for log in logs]\n",
    "val_logs = ['val_'+log for log in logs]\n",
    "test_logs = ['test_'+log for log in logs]\n",
    "log_dict = OrderedDict.fromkeys(train_logs+val_logs+test_logs, 0)\n",
    "\n",
    "writer = SummaryWriter(log_dir=os.path.join(output_root, model.name))\n",
    "\n",
    "best_auc = 0\n",
    "best_epoch = 0\n",
    "best_model = deepcopy(model)\n",
    "tb_twod = True\n",
    "\n",
    "for epoch in range(NUM_EPOCHS):        \n",
    "    print(f\"Epoch {epoch} of {NUM_EPOCHS}\")\n",
    "    train_loss = train(model, train_loader, task, criterion, optimizer, DEVICE, writer)\n",
    "    \n",
    "    train_metrics = test(model, train_evaluator, train_loader_at_eval, task, criterion, DEVICE, 'model1')\n",
    "    val_metrics = test(model, val_evaluator, val_loader, task, criterion, DEVICE, 'model1')\n",
    "    test_metrics = test(model, test_evaluator, test_loader, task, criterion, DEVICE, 'model1')\n",
    "    \n",
    "    scheduler.step()\n",
    "    \n",
    "    for i, key in enumerate(train_logs):\n",
    "        log_dict[key] = train_metrics[i]\n",
    "    for i, key in enumerate(val_logs):\n",
    "        log_dict[key] = val_metrics[i]\n",
    "    for i, key in enumerate(test_logs):\n",
    "        log_dict[key] = test_metrics[i]\n",
    "\n",
    "    for key, value in log_dict.items():\n",
    "        writer.add_scalar(key, value, epoch)\n",
    "        \n",
    "    cur_auc = val_metrics[1]\n",
    "    if cur_auc > best_auc:\n",
    "        best_epoch = epoch\n",
    "        best_auc = cur_auc\n",
    "        best_model = deepcopy(model)\n",
    "        print('cur_best_auc:', best_auc)\n",
    "        print('cur_best_epoch', best_epoch)\n",
    "\n",
    "state = {\n",
    "    'net': best_model.state_dict(),\n",
    "}\n",
    "\n",
    "\n",
    "path = os.path.join(output_root, f'{model.name}_best_model.pth')\n",
    "torch.save(state, path)\n",
    "\n",
    "train_metrics = test(best_model, train_evaluator, train_loader_at_eval, task, criterion, DEVICE, 'model', output_root)\n",
    "val_metrics = test(best_model, val_evaluator, val_loader, task, criterion, DEVICE, 'model', output_root)\n",
    "test_metrics = test(best_model, test_evaluator, test_loader, task, criterion, DEVICE, 'model', output_root)\n",
    "\n",
    "train_log = 'train  auc: %.5f  acc: %.5f\\n' % (train_metrics[1], train_metrics[2])\n",
    "val_log = 'val  auc: %.5f  acc: %.5f\\n' % (val_metrics[1], val_metrics[2])\n",
    "test_log = 'test  auc: %.5f  acc: %.5f\\n' % (test_metrics[1], test_metrics[2])\n",
    "\n",
    "log = '%s\\n' % (data_flag) + train_log + val_log + test_log\n",
    "print(log)\n",
    "        \n",
    "with open(os.path.join(output_root, '%s_log.txt' % (data_flag)), 'a') as f:\n",
    "    f.write(log)  \n",
    "\n",
    "writer.close()"
   ]
  },
  {
   "cell_type": "code",
   "execution_count": 13,
   "metadata": {},
   "outputs": [
    {
     "name": "stdout",
     "output_type": "stream",
     "text": [
      "Using downloaded and verified file: /Users/vemundlund/.medmnist/bloodmnist.npz\n",
      "Using downloaded and verified file: /Users/vemundlund/.medmnist/bloodmnist.npz\n",
      "Using downloaded and verified file: /Users/vemundlund/.medmnist/bloodmnist.npz\n",
      "Using downloaded and verified file: /Users/vemundlund/.medmnist/bloodmnist.npz\n"
     ]
    },
    {
     "name": "stderr",
     "output_type": "stream",
     "text": [
      "/Users/vemundlund/miniconda3/envs/vi_venv/lib/python3.11/site-packages/torchvision/models/_utils.py:208: UserWarning: The parameter 'pretrained' is deprecated since 0.13 and may be removed in the future, please use 'weights' instead.\n",
      "  warnings.warn(\n",
      "/Users/vemundlund/miniconda3/envs/vi_venv/lib/python3.11/site-packages/torchvision/models/_utils.py:223: UserWarning: Arguments other than a weight enum or `None` for 'weights' are deprecated since 0.13 and may be removed in the future. The current behavior is equivalent to passing `weights=ViT_B_16_Weights.IMAGENET1K_V1`. You can also use `weights=ViT_B_16_Weights.DEFAULT` to get the most up-to-date weights.\n",
      "  warnings.warn(msg)\n"
     ]
    },
    {
     "name": "stdout",
     "output_type": "stream",
     "text": [
      "Epoch 0 of 30\n"
     ]
    },
    {
     "name": "stderr",
     "output_type": "stream",
     "text": [
      "train:   0%|          | 0/94 [00:00<?, ?it/s]\n"
     ]
    },
    {
     "ename": "AssertionError",
     "evalue": "Wrong image height! Expected 224 but got 28!",
     "output_type": "error",
     "traceback": [
      "\u001b[0;31m---------------------------------------------------------------------------\u001b[0m",
      "\u001b[0;31mAssertionError\u001b[0m                            Traceback (most recent call last)",
      "\u001b[1;32m/Users/vemundlund/Code/vi-miniproject/main_mnist2D.ipynb Cell 10\u001b[0m line \u001b[0;36m5\n\u001b[1;32m     <a href='vscode-notebook-cell:/Users/vemundlund/Code/vi-miniproject/main_mnist2D.ipynb#X20sZmlsZQ%3D%3D?line=49'>50</a>\u001b[0m \u001b[39mfor\u001b[39;00m epoch \u001b[39min\u001b[39;00m \u001b[39mrange\u001b[39m(NUM_EPOCHS):        \n\u001b[1;32m     <a href='vscode-notebook-cell:/Users/vemundlund/Code/vi-miniproject/main_mnist2D.ipynb#X20sZmlsZQ%3D%3D?line=50'>51</a>\u001b[0m     \u001b[39mprint\u001b[39m(\u001b[39mf\u001b[39m\u001b[39m\"\u001b[39m\u001b[39mEpoch \u001b[39m\u001b[39m{\u001b[39;00mepoch\u001b[39m}\u001b[39;00m\u001b[39m of \u001b[39m\u001b[39m{\u001b[39;00mNUM_EPOCHS\u001b[39m}\u001b[39;00m\u001b[39m\"\u001b[39m)\n\u001b[0;32m---> <a href='vscode-notebook-cell:/Users/vemundlund/Code/vi-miniproject/main_mnist2D.ipynb#X20sZmlsZQ%3D%3D?line=51'>52</a>\u001b[0m     train_loss \u001b[39m=\u001b[39m train(model, train_loader, task, criterion, optimizer, DEVICE, writer)\n\u001b[1;32m     <a href='vscode-notebook-cell:/Users/vemundlund/Code/vi-miniproject/main_mnist2D.ipynb#X20sZmlsZQ%3D%3D?line=53'>54</a>\u001b[0m     train_metrics \u001b[39m=\u001b[39m test(model, train_evaluator, train_loader_at_eval, task, criterion, DEVICE, \u001b[39m'\u001b[39m\u001b[39mmodel1\u001b[39m\u001b[39m'\u001b[39m)\n\u001b[1;32m     <a href='vscode-notebook-cell:/Users/vemundlund/Code/vi-miniproject/main_mnist2D.ipynb#X20sZmlsZQ%3D%3D?line=54'>55</a>\u001b[0m     val_metrics \u001b[39m=\u001b[39m test(model, val_evaluator, val_loader, task, criterion, DEVICE, \u001b[39m'\u001b[39m\u001b[39mmodel1\u001b[39m\u001b[39m'\u001b[39m)\n",
      "File \u001b[0;32m~/Code/vi-miniproject/dataset.py:90\u001b[0m, in \u001b[0;36mtrain\u001b[0;34m(model, train_loader, task, criterion, optimizer, device, writer)\u001b[0m\n\u001b[1;32m     88\u001b[0m \u001b[39mfor\u001b[39;00m inputs, targets \u001b[39min\u001b[39;00m tqdm(train_loader, desc\u001b[39m=\u001b[39m\u001b[39m\"\u001b[39m\u001b[39mtrain\u001b[39m\u001b[39m\"\u001b[39m):\n\u001b[1;32m     89\u001b[0m     optimizer\u001b[39m.\u001b[39mzero_grad()\n\u001b[0;32m---> 90\u001b[0m     outputs \u001b[39m=\u001b[39m model(inputs\u001b[39m.\u001b[39;49mto(device))\n\u001b[1;32m     92\u001b[0m     targets \u001b[39m=\u001b[39m torch\u001b[39m.\u001b[39msqueeze(targets, \u001b[39m1\u001b[39m)\u001b[39m.\u001b[39mlong()\u001b[39m.\u001b[39mto(device)\n\u001b[1;32m     93\u001b[0m     loss \u001b[39m=\u001b[39m criterion(outputs, targets)\n",
      "File \u001b[0;32m~/miniconda3/envs/vi_venv/lib/python3.11/site-packages/torch/nn/modules/module.py:1518\u001b[0m, in \u001b[0;36mModule._wrapped_call_impl\u001b[0;34m(self, *args, **kwargs)\u001b[0m\n\u001b[1;32m   1516\u001b[0m     \u001b[39mreturn\u001b[39;00m \u001b[39mself\u001b[39m\u001b[39m.\u001b[39m_compiled_call_impl(\u001b[39m*\u001b[39margs, \u001b[39m*\u001b[39m\u001b[39m*\u001b[39mkwargs)  \u001b[39m# type: ignore[misc]\u001b[39;00m\n\u001b[1;32m   1517\u001b[0m \u001b[39melse\u001b[39;00m:\n\u001b[0;32m-> 1518\u001b[0m     \u001b[39mreturn\u001b[39;00m \u001b[39mself\u001b[39;49m\u001b[39m.\u001b[39;49m_call_impl(\u001b[39m*\u001b[39;49margs, \u001b[39m*\u001b[39;49m\u001b[39m*\u001b[39;49mkwargs)\n",
      "File \u001b[0;32m~/miniconda3/envs/vi_venv/lib/python3.11/site-packages/torch/nn/modules/module.py:1527\u001b[0m, in \u001b[0;36mModule._call_impl\u001b[0;34m(self, *args, **kwargs)\u001b[0m\n\u001b[1;32m   1522\u001b[0m \u001b[39m# If we don't have any hooks, we want to skip the rest of the logic in\u001b[39;00m\n\u001b[1;32m   1523\u001b[0m \u001b[39m# this function, and just call forward.\u001b[39;00m\n\u001b[1;32m   1524\u001b[0m \u001b[39mif\u001b[39;00m \u001b[39mnot\u001b[39;00m (\u001b[39mself\u001b[39m\u001b[39m.\u001b[39m_backward_hooks \u001b[39mor\u001b[39;00m \u001b[39mself\u001b[39m\u001b[39m.\u001b[39m_backward_pre_hooks \u001b[39mor\u001b[39;00m \u001b[39mself\u001b[39m\u001b[39m.\u001b[39m_forward_hooks \u001b[39mor\u001b[39;00m \u001b[39mself\u001b[39m\u001b[39m.\u001b[39m_forward_pre_hooks\n\u001b[1;32m   1525\u001b[0m         \u001b[39mor\u001b[39;00m _global_backward_pre_hooks \u001b[39mor\u001b[39;00m _global_backward_hooks\n\u001b[1;32m   1526\u001b[0m         \u001b[39mor\u001b[39;00m _global_forward_hooks \u001b[39mor\u001b[39;00m _global_forward_pre_hooks):\n\u001b[0;32m-> 1527\u001b[0m     \u001b[39mreturn\u001b[39;00m forward_call(\u001b[39m*\u001b[39;49margs, \u001b[39m*\u001b[39;49m\u001b[39m*\u001b[39;49mkwargs)\n\u001b[1;32m   1529\u001b[0m \u001b[39mtry\u001b[39;00m:\n\u001b[1;32m   1530\u001b[0m     result \u001b[39m=\u001b[39m \u001b[39mNone\u001b[39;00m\n",
      "File \u001b[0;32m~/miniconda3/envs/vi_venv/lib/python3.11/site-packages/torchvision/models/vision_transformer.py:291\u001b[0m, in \u001b[0;36mVisionTransformer.forward\u001b[0;34m(self, x)\u001b[0m\n\u001b[1;32m    289\u001b[0m \u001b[39mdef\u001b[39;00m \u001b[39mforward\u001b[39m(\u001b[39mself\u001b[39m, x: torch\u001b[39m.\u001b[39mTensor):\n\u001b[1;32m    290\u001b[0m     \u001b[39m# Reshape and permute the input tensor\u001b[39;00m\n\u001b[0;32m--> 291\u001b[0m     x \u001b[39m=\u001b[39m \u001b[39mself\u001b[39;49m\u001b[39m.\u001b[39;49m_process_input(x)\n\u001b[1;32m    292\u001b[0m     n \u001b[39m=\u001b[39m x\u001b[39m.\u001b[39mshape[\u001b[39m0\u001b[39m]\n\u001b[1;32m    294\u001b[0m     \u001b[39m# Expand the class token to the full batch\u001b[39;00m\n",
      "File \u001b[0;32m~/miniconda3/envs/vi_venv/lib/python3.11/site-packages/torchvision/models/vision_transformer.py:271\u001b[0m, in \u001b[0;36mVisionTransformer._process_input\u001b[0;34m(self, x)\u001b[0m\n\u001b[1;32m    269\u001b[0m n, c, h, w \u001b[39m=\u001b[39m x\u001b[39m.\u001b[39mshape\n\u001b[1;32m    270\u001b[0m p \u001b[39m=\u001b[39m \u001b[39mself\u001b[39m\u001b[39m.\u001b[39mpatch_size\n\u001b[0;32m--> 271\u001b[0m torch\u001b[39m.\u001b[39;49m_assert(h \u001b[39m==\u001b[39;49m \u001b[39mself\u001b[39;49m\u001b[39m.\u001b[39;49mimage_size, \u001b[39mf\u001b[39;49m\u001b[39m\"\u001b[39;49m\u001b[39mWrong image height! Expected \u001b[39;49m\u001b[39m{\u001b[39;49;00m\u001b[39mself\u001b[39;49m\u001b[39m.\u001b[39;49mimage_size\u001b[39m}\u001b[39;49;00m\u001b[39m but got \u001b[39;49m\u001b[39m{\u001b[39;49;00mh\u001b[39m}\u001b[39;49;00m\u001b[39m!\u001b[39;49m\u001b[39m\"\u001b[39;49m)\n\u001b[1;32m    272\u001b[0m torch\u001b[39m.\u001b[39m_assert(w \u001b[39m==\u001b[39m \u001b[39mself\u001b[39m\u001b[39m.\u001b[39mimage_size, \u001b[39mf\u001b[39m\u001b[39m\"\u001b[39m\u001b[39mWrong image width! Expected \u001b[39m\u001b[39m{\u001b[39;00m\u001b[39mself\u001b[39m\u001b[39m.\u001b[39mimage_size\u001b[39m}\u001b[39;00m\u001b[39m but got \u001b[39m\u001b[39m{\u001b[39;00mw\u001b[39m}\u001b[39;00m\u001b[39m!\u001b[39m\u001b[39m\"\u001b[39m)\n\u001b[1;32m    273\u001b[0m n_h \u001b[39m=\u001b[39m h \u001b[39m/\u001b[39m\u001b[39m/\u001b[39m p\n",
      "File \u001b[0;32m~/miniconda3/envs/vi_venv/lib/python3.11/site-packages/torch/__init__.py:1404\u001b[0m, in \u001b[0;36m_assert\u001b[0;34m(condition, message)\u001b[0m\n\u001b[1;32m   1402\u001b[0m \u001b[39mif\u001b[39;00m \u001b[39mtype\u001b[39m(condition) \u001b[39mis\u001b[39;00m \u001b[39mnot\u001b[39;00m torch\u001b[39m.\u001b[39mTensor \u001b[39mand\u001b[39;00m has_torch_function((condition,)):\n\u001b[1;32m   1403\u001b[0m     \u001b[39mreturn\u001b[39;00m handle_torch_function(_assert, (condition,), condition, message)\n\u001b[0;32m-> 1404\u001b[0m \u001b[39massert\u001b[39;00m condition, message\n",
      "\u001b[0;31mAssertionError\u001b[0m: Wrong image height! Expected 224 but got 28!"
     ]
    }
   ],
   "source": [
    "\n",
    "data_flag = 'bloodmnist'\n",
    "download = True\n",
    "\n",
    "DEVICE = 'mps'\n",
    "NUM_EPOCHS = 30\n",
    "BATCH_SIZE = 128\n",
    "milestones = [0.5 * NUM_EPOCHS, 0.75 * NUM_EPOCHS]\n",
    "lr = 0.001\n",
    "gamma = 0.1\n",
    "\n",
    "output_root = './output2d'\n",
    "\n",
    "info = INFO[data_flag]\n",
    "n_channels = info['n_channels']\n",
    "n_classes = len(info['label'])\n",
    "task = info['task']\n",
    "\n",
    "train_loader, train_loader_at_eval, val_loader, test_loader = extract_data(data_flag, download, BATCH_SIZE)\n",
    "\n",
    "from torchvision.models import vit_b_16\n",
    "\n",
    "model = vit_b_16(pretrained=True)\n",
    "model.heads = nn.Linear(768, n_classes)\n",
    "model.name = 'vit_b_16'\n",
    "\n",
    "model = model.to(DEVICE)\n",
    "\n",
    "criterion = nn.CrossEntropyLoss()\n",
    "\n",
    "train_evaluator = medmnist.Evaluator(data_flag, 'train')\n",
    "val_evaluator = medmnist.Evaluator(data_flag, 'val')\n",
    "test_evaluator = medmnist.Evaluator(data_flag, 'test')\n",
    "\n",
    "optimizer = torch.optim.Adam(model.parameters(), lr=lr)\n",
    "scheduler = torch.optim.lr_scheduler.MultiStepLR(optimizer, milestones=milestones, gamma=gamma)\n",
    "\n",
    "logs = ['loss', 'auc', 'acc']\n",
    "train_logs = ['train_'+log for log in logs]\n",
    "val_logs = ['val_'+log for log in logs]\n",
    "test_logs = ['test_'+log for log in logs]\n",
    "log_dict = OrderedDict.fromkeys(train_logs+val_logs+test_logs, 0)\n",
    "\n",
    "writer = SummaryWriter(log_dir=os.path.join(output_root, model.name))\n",
    "\n",
    "best_auc = 0\n",
    "best_epoch = 0\n",
    "best_model = deepcopy(model)\n",
    "tb_twod = True\n",
    "\n",
    "for epoch in range(NUM_EPOCHS):        \n",
    "    print(f\"Epoch {epoch} of {NUM_EPOCHS}\")\n",
    "    train_loss = train(model, train_loader, task, criterion, optimizer, DEVICE, writer)\n",
    "    \n",
    "    train_metrics = test(model, train_evaluator, train_loader_at_eval, task, criterion, DEVICE, 'model1')\n",
    "    val_metrics = test(model, val_evaluator, val_loader, task, criterion, DEVICE, 'model1')\n",
    "    test_metrics = test(model, test_evaluator, test_loader, task, criterion, DEVICE, 'model1')\n",
    "    \n",
    "    scheduler.step()\n",
    "    \n",
    "    for i, key in enumerate(train_logs):\n",
    "        log_dict[key] = train_metrics[i]\n",
    "    for i, key in enumerate(val_logs):\n",
    "        log_dict[key] = val_metrics[i]\n",
    "    for i, key in enumerate(test_logs):\n",
    "        log_dict[key] = test_metrics[i]\n",
    "\n",
    "    for key, value in log_dict.items():\n",
    "        writer.add_scalar(key, value, epoch)\n",
    "        \n",
    "    cur_auc = val_metrics[1]\n",
    "    if cur_auc > best_auc:\n",
    "        best_epoch = epoch\n",
    "        best_auc = cur_auc\n",
    "        best_model = deepcopy(model)\n",
    "        print('cur_best_auc:', best_auc)\n",
    "        print('cur_best_epoch', best_epoch)\n",
    "\n",
    "state = {\n",
    "    'net': best_model.state_dict(),\n",
    "}\n",
    "\n",
    "\n",
    "path = os.path.join(output_root, f'{model.name}_best_model.pth')\n",
    "torch.save(state, path)\n",
    "\n",
    "train_metrics = test(best_model, train_evaluator, train_loader_at_eval, task, criterion, DEVICE, 'model', output_root)\n",
    "val_metrics = test(best_model, val_evaluator, val_loader, task, criterion, DEVICE, 'model', output_root)\n",
    "test_metrics = test(best_model, test_evaluator, test_loader, task, criterion, DEVICE, 'model', output_root)\n",
    "\n",
    "train_log = 'train  auc: %.5f  acc: %.5f\\n' % (train_metrics[1], train_metrics[2])\n",
    "val_log = 'val  auc: %.5f  acc: %.5f\\n' % (val_metrics[1], val_metrics[2])\n",
    "test_log = 'test  auc: %.5f  acc: %.5f\\n' % (test_metrics[1], test_metrics[2])\n",
    "\n",
    "log = '%s\\n' % (data_flag) + train_log + val_log + test_log\n",
    "print(log)\n",
    "        \n",
    "with open(os.path.join(output_root, '%s_log.txt' % (data_flag)), 'a') as f:\n",
    "    f.write(log)  \n",
    "\n",
    "writer.close()"
   ]
  },
  {
   "cell_type": "code",
   "execution_count": 22,
   "metadata": {},
   "outputs": [
    {
     "name": "stdout",
     "output_type": "stream",
     "text": [
      "Using downloaded and verified file: /Users/vemundlund/.medmnist/bloodmnist.npz\n",
      "Using downloaded and verified file: /Users/vemundlund/.medmnist/bloodmnist.npz\n",
      "Using downloaded and verified file: /Users/vemundlund/.medmnist/bloodmnist.npz\n",
      "Using downloaded and verified file: /Users/vemundlund/.medmnist/bloodmnist.npz\n"
     ]
    },
    {
     "name": "stderr",
     "output_type": "stream",
     "text": [
      "/Users/vemundlund/miniconda3/envs/vi_venv/lib/python3.11/site-packages/torchvision/models/_utils.py:208: UserWarning: The parameter 'pretrained' is deprecated since 0.13 and may be removed in the future, please use 'weights' instead.\n",
      "  warnings.warn(\n",
      "/Users/vemundlund/miniconda3/envs/vi_venv/lib/python3.11/site-packages/torchvision/models/_utils.py:223: UserWarning: Arguments other than a weight enum or `None` for 'weights' are deprecated since 0.13 and may be removed in the future. The current behavior is equivalent to passing `weights=EfficientNet_V2_S_Weights.IMAGENET1K_V1`. You can also use `weights=EfficientNet_V2_S_Weights.DEFAULT` to get the most up-to-date weights.\n",
      "  warnings.warn(msg)\n"
     ]
    },
    {
     "name": "stdout",
     "output_type": "stream",
     "text": [
      "Epoch 0 of 30\n"
     ]
    },
    {
     "name": "stderr",
     "output_type": "stream",
     "text": [
      "train: 100%|██████████| 94/94 [03:08<00:00,  2.01s/it]\n"
     ]
    },
    {
     "name": "stdout",
     "output_type": "stream",
     "text": [
      "Done with batches\n",
      "Epoch loss 0.699226622885846\n"
     ]
    },
    {
     "name": "stderr",
     "output_type": "stream",
     "text": [
      "test: 100%|██████████| 47/47 [00:32<00:00,  1.43it/s]\n",
      "test: 100%|██████████| 14/14 [00:08<00:00,  1.68it/s]\n",
      "test: 100%|██████████| 14/14 [00:10<00:00,  1.32it/s]\n"
     ]
    },
    {
     "name": "stdout",
     "output_type": "stream",
     "text": [
      "cur_best_auc: 0.9921354199736113\n",
      "cur_best_epoch 0\n",
      "Epoch 1 of 30\n"
     ]
    },
    {
     "name": "stderr",
     "output_type": "stream",
     "text": [
      "train: 100%|██████████| 94/94 [02:57<00:00,  1.89s/it]\n"
     ]
    },
    {
     "name": "stdout",
     "output_type": "stream",
     "text": [
      "Done with batches\n",
      "Epoch loss 0.24732976486074162\n"
     ]
    },
    {
     "name": "stderr",
     "output_type": "stream",
     "text": [
      "test: 100%|██████████| 47/47 [00:26<00:00,  1.76it/s]\n",
      "test: 100%|██████████| 14/14 [00:04<00:00,  3.05it/s]\n",
      "test: 100%|██████████| 14/14 [00:07<00:00,  1.83it/s]\n"
     ]
    },
    {
     "name": "stdout",
     "output_type": "stream",
     "text": [
      "cur_best_auc: 0.9952164848633365\n",
      "cur_best_epoch 1\n",
      "Epoch 2 of 30\n"
     ]
    },
    {
     "name": "stderr",
     "output_type": "stream",
     "text": [
      "train: 100%|██████████| 94/94 [02:58<00:00,  1.90s/it]\n"
     ]
    },
    {
     "name": "stdout",
     "output_type": "stream",
     "text": [
      "Done with batches\n",
      "Epoch loss 0.1559623882491538\n"
     ]
    },
    {
     "name": "stderr",
     "output_type": "stream",
     "text": [
      "test: 100%|██████████| 47/47 [00:26<00:00,  1.74it/s]\n",
      "test: 100%|██████████| 14/14 [00:05<00:00,  2.62it/s]\n",
      "test: 100%|██████████| 14/14 [00:07<00:00,  1.80it/s]\n"
     ]
    },
    {
     "name": "stdout",
     "output_type": "stream",
     "text": [
      "cur_best_auc: 0.9955135620505534\n",
      "cur_best_epoch 2\n",
      "Epoch 3 of 30\n"
     ]
    },
    {
     "name": "stderr",
     "output_type": "stream",
     "text": [
      "train: 100%|██████████| 94/94 [02:58<00:00,  1.90s/it]\n"
     ]
    },
    {
     "name": "stdout",
     "output_type": "stream",
     "text": [
      "Done with batches\n",
      "Epoch loss 0.11317271547035333\n"
     ]
    },
    {
     "name": "stderr",
     "output_type": "stream",
     "text": [
      "test: 100%|██████████| 47/47 [00:26<00:00,  1.75it/s]\n",
      "test: 100%|██████████| 14/14 [00:05<00:00,  2.72it/s]\n",
      "test: 100%|██████████| 14/14 [00:07<00:00,  1.80it/s]\n"
     ]
    },
    {
     "name": "stdout",
     "output_type": "stream",
     "text": [
      "Epoch 4 of 30\n"
     ]
    },
    {
     "name": "stderr",
     "output_type": "stream",
     "text": [
      "train: 100%|██████████| 94/94 [02:56<00:00,  1.88s/it]\n"
     ]
    },
    {
     "name": "stdout",
     "output_type": "stream",
     "text": [
      "Done with batches\n",
      "Epoch loss 0.09667549191161673\n"
     ]
    },
    {
     "name": "stderr",
     "output_type": "stream",
     "text": [
      "test: 100%|██████████| 47/47 [00:27<00:00,  1.74it/s]\n",
      "test: 100%|██████████| 14/14 [00:05<00:00,  2.76it/s]\n",
      "test: 100%|██████████| 14/14 [00:07<00:00,  1.79it/s]\n"
     ]
    },
    {
     "name": "stdout",
     "output_type": "stream",
     "text": [
      "cur_best_auc: 0.9955448285703988\n",
      "cur_best_epoch 4\n",
      "Epoch 5 of 30\n"
     ]
    },
    {
     "name": "stderr",
     "output_type": "stream",
     "text": [
      "train: 100%|██████████| 94/94 [02:58<00:00,  1.89s/it]\n"
     ]
    },
    {
     "name": "stdout",
     "output_type": "stream",
     "text": [
      "Done with batches\n",
      "Epoch loss 0.06842732636575052\n"
     ]
    },
    {
     "name": "stderr",
     "output_type": "stream",
     "text": [
      "test: 100%|██████████| 47/47 [00:26<00:00,  1.74it/s]\n",
      "test: 100%|██████████| 14/14 [00:05<00:00,  2.78it/s]\n",
      "test: 100%|██████████| 14/14 [00:07<00:00,  1.81it/s]\n"
     ]
    },
    {
     "name": "stdout",
     "output_type": "stream",
     "text": [
      "cur_best_auc: 0.996798096016476\n",
      "cur_best_epoch 5\n",
      "Epoch 6 of 30\n"
     ]
    },
    {
     "name": "stderr",
     "output_type": "stream",
     "text": [
      "train: 100%|██████████| 94/94 [02:57<00:00,  1.88s/it]\n"
     ]
    },
    {
     "name": "stdout",
     "output_type": "stream",
     "text": [
      "Done with batches\n",
      "Epoch loss 0.047978765648254686\n"
     ]
    },
    {
     "name": "stderr",
     "output_type": "stream",
     "text": [
      "test: 100%|██████████| 47/47 [00:27<00:00,  1.74it/s]\n",
      "test: 100%|██████████| 14/14 [00:05<00:00,  2.76it/s]\n",
      "test: 100%|██████████| 14/14 [00:07<00:00,  1.80it/s]\n"
     ]
    },
    {
     "name": "stdout",
     "output_type": "stream",
     "text": [
      "Epoch 7 of 30\n"
     ]
    },
    {
     "name": "stderr",
     "output_type": "stream",
     "text": [
      "train: 100%|██████████| 94/94 [02:56<00:00,  1.88s/it]\n"
     ]
    },
    {
     "name": "stdout",
     "output_type": "stream",
     "text": [
      "Done with batches\n",
      "Epoch loss 0.04465303018173956\n"
     ]
    },
    {
     "name": "stderr",
     "output_type": "stream",
     "text": [
      "test: 100%|██████████| 47/47 [00:26<00:00,  1.75it/s]\n",
      "test: 100%|██████████| 14/14 [00:05<00:00,  2.75it/s]\n",
      "test: 100%|██████████| 14/14 [00:07<00:00,  1.80it/s]\n"
     ]
    },
    {
     "name": "stdout",
     "output_type": "stream",
     "text": [
      "Epoch 8 of 30\n"
     ]
    },
    {
     "name": "stderr",
     "output_type": "stream",
     "text": [
      "train: 100%|██████████| 94/94 [02:55<00:00,  1.87s/it]\n"
     ]
    },
    {
     "name": "stdout",
     "output_type": "stream",
     "text": [
      "Done with batches\n",
      "Epoch loss 0.04347133204375612\n"
     ]
    },
    {
     "name": "stderr",
     "output_type": "stream",
     "text": [
      "test: 100%|██████████| 47/47 [00:26<00:00,  1.76it/s]\n",
      "test: 100%|██████████| 14/14 [00:04<00:00,  2.98it/s]\n",
      "test: 100%|██████████| 14/14 [00:07<00:00,  1.81it/s]\n"
     ]
    },
    {
     "name": "stdout",
     "output_type": "stream",
     "text": [
      "Epoch 9 of 30\n"
     ]
    },
    {
     "name": "stderr",
     "output_type": "stream",
     "text": [
      "train: 100%|██████████| 94/94 [02:56<00:00,  1.88s/it]\n"
     ]
    },
    {
     "name": "stdout",
     "output_type": "stream",
     "text": [
      "Done with batches\n",
      "Epoch loss 0.047669640246857985\n"
     ]
    },
    {
     "name": "stderr",
     "output_type": "stream",
     "text": [
      "test: 100%|██████████| 47/47 [00:27<00:00,  1.71it/s]\n",
      "test: 100%|██████████| 14/14 [00:05<00:00,  2.70it/s]\n",
      "test: 100%|██████████| 14/14 [00:07<00:00,  1.78it/s]\n"
     ]
    },
    {
     "name": "stdout",
     "output_type": "stream",
     "text": [
      "cur_best_auc: 0.9971200348639943\n",
      "cur_best_epoch 9\n",
      "Epoch 10 of 30\n"
     ]
    },
    {
     "name": "stderr",
     "output_type": "stream",
     "text": [
      "train: 100%|██████████| 94/94 [02:55<00:00,  1.87s/it]\n"
     ]
    },
    {
     "name": "stdout",
     "output_type": "stream",
     "text": [
      "Done with batches\n",
      "Epoch loss 0.0328751548609518\n"
     ]
    },
    {
     "name": "stderr",
     "output_type": "stream",
     "text": [
      "test: 100%|██████████| 47/47 [00:27<00:00,  1.72it/s]\n",
      "test: 100%|██████████| 14/14 [00:05<00:00,  2.78it/s]\n",
      "test: 100%|██████████| 14/14 [00:07<00:00,  1.77it/s]\n"
     ]
    },
    {
     "name": "stdout",
     "output_type": "stream",
     "text": [
      "Epoch 11 of 30\n"
     ]
    },
    {
     "name": "stderr",
     "output_type": "stream",
     "text": [
      "train: 100%|██████████| 94/94 [02:55<00:00,  1.86s/it]\n"
     ]
    },
    {
     "name": "stdout",
     "output_type": "stream",
     "text": [
      "Done with batches\n",
      "Epoch loss 0.043658772951606264\n"
     ]
    },
    {
     "name": "stderr",
     "output_type": "stream",
     "text": [
      "test: 100%|██████████| 47/47 [00:27<00:00,  1.71it/s]\n",
      "test: 100%|██████████| 14/14 [00:05<00:00,  2.75it/s]\n",
      "test: 100%|██████████| 14/14 [00:07<00:00,  1.78it/s]\n"
     ]
    },
    {
     "name": "stdout",
     "output_type": "stream",
     "text": [
      "Epoch 12 of 30\n"
     ]
    },
    {
     "name": "stderr",
     "output_type": "stream",
     "text": [
      "train: 100%|██████████| 94/94 [02:56<00:00,  1.88s/it]\n"
     ]
    },
    {
     "name": "stdout",
     "output_type": "stream",
     "text": [
      "Done with batches\n",
      "Epoch loss 0.02412294277158427\n"
     ]
    },
    {
     "name": "stderr",
     "output_type": "stream",
     "text": [
      "test: 100%|██████████| 47/47 [00:26<00:00,  1.75it/s]\n",
      "test: 100%|██████████| 14/14 [00:05<00:00,  2.76it/s]\n",
      "test: 100%|██████████| 14/14 [00:07<00:00,  1.80it/s]\n"
     ]
    },
    {
     "name": "stdout",
     "output_type": "stream",
     "text": [
      "Epoch 13 of 30\n"
     ]
    },
    {
     "name": "stderr",
     "output_type": "stream",
     "text": [
      "train: 100%|██████████| 94/94 [02:55<00:00,  1.87s/it]\n"
     ]
    },
    {
     "name": "stdout",
     "output_type": "stream",
     "text": [
      "Done with batches\n",
      "Epoch loss 0.03199309179995288\n"
     ]
    },
    {
     "name": "stderr",
     "output_type": "stream",
     "text": [
      "test: 100%|██████████| 47/47 [00:26<00:00,  1.75it/s]\n",
      "test: 100%|██████████| 14/14 [00:04<00:00,  2.81it/s]\n",
      "test: 100%|██████████| 14/14 [00:07<00:00,  1.77it/s]\n"
     ]
    },
    {
     "name": "stdout",
     "output_type": "stream",
     "text": [
      "Epoch 14 of 30\n"
     ]
    },
    {
     "name": "stderr",
     "output_type": "stream",
     "text": [
      "train: 100%|██████████| 94/94 [02:56<00:00,  1.88s/it]\n"
     ]
    },
    {
     "name": "stdout",
     "output_type": "stream",
     "text": [
      "Done with batches\n",
      "Epoch loss 0.023197477274732863\n"
     ]
    },
    {
     "name": "stderr",
     "output_type": "stream",
     "text": [
      "test: 100%|██████████| 47/47 [00:26<00:00,  1.75it/s]\n",
      "test: 100%|██████████| 14/14 [00:05<00:00,  2.75it/s]\n",
      "test: 100%|██████████| 14/14 [00:07<00:00,  1.79it/s]\n"
     ]
    },
    {
     "name": "stdout",
     "output_type": "stream",
     "text": [
      "cur_best_auc: 0.9973058412095329\n",
      "cur_best_epoch 14\n",
      "Epoch 15 of 30\n"
     ]
    },
    {
     "name": "stderr",
     "output_type": "stream",
     "text": [
      "train: 100%|██████████| 94/94 [02:55<00:00,  1.87s/it]\n"
     ]
    },
    {
     "name": "stdout",
     "output_type": "stream",
     "text": [
      "Done with batches\n",
      "Epoch loss 0.01059373075336322\n"
     ]
    },
    {
     "name": "stderr",
     "output_type": "stream",
     "text": [
      "test: 100%|██████████| 47/47 [00:27<00:00,  1.74it/s]\n",
      "test: 100%|██████████| 14/14 [00:05<00:00,  2.75it/s]\n",
      "test: 100%|██████████| 14/14 [00:07<00:00,  1.79it/s]\n"
     ]
    },
    {
     "name": "stdout",
     "output_type": "stream",
     "text": [
      "cur_best_auc: 0.9977487620791338\n",
      "cur_best_epoch 15\n",
      "Epoch 16 of 30\n"
     ]
    },
    {
     "name": "stderr",
     "output_type": "stream",
     "text": [
      "train: 100%|██████████| 94/94 [02:57<00:00,  1.89s/it]\n"
     ]
    },
    {
     "name": "stdout",
     "output_type": "stream",
     "text": [
      "Done with batches\n",
      "Epoch loss 0.006137219952584116\n"
     ]
    },
    {
     "name": "stderr",
     "output_type": "stream",
     "text": [
      "test: 100%|██████████| 47/47 [00:27<00:00,  1.74it/s]\n",
      "test: 100%|██████████| 14/14 [00:05<00:00,  2.75it/s]\n",
      "test: 100%|██████████| 14/14 [00:07<00:00,  1.77it/s]\n"
     ]
    },
    {
     "name": "stdout",
     "output_type": "stream",
     "text": [
      "cur_best_auc: 0.9979222493290388\n",
      "cur_best_epoch 16\n",
      "Epoch 17 of 30\n"
     ]
    },
    {
     "name": "stderr",
     "output_type": "stream",
     "text": [
      "train: 100%|██████████| 94/94 [02:56<00:00,  1.88s/it]\n"
     ]
    },
    {
     "name": "stdout",
     "output_type": "stream",
     "text": [
      "Done with batches\n",
      "Epoch loss 0.003474655321119923\n"
     ]
    },
    {
     "name": "stderr",
     "output_type": "stream",
     "text": [
      "test: 100%|██████████| 47/47 [00:26<00:00,  1.75it/s]\n",
      "test: 100%|██████████| 14/14 [00:05<00:00,  2.70it/s]\n",
      "test: 100%|██████████| 14/14 [00:07<00:00,  1.75it/s]\n"
     ]
    },
    {
     "name": "stdout",
     "output_type": "stream",
     "text": [
      "cur_best_auc: 0.9980333574104123\n",
      "cur_best_epoch 17\n",
      "Epoch 18 of 30\n"
     ]
    },
    {
     "name": "stderr",
     "output_type": "stream",
     "text": [
      "train: 100%|██████████| 94/94 [02:57<00:00,  1.89s/it]\n"
     ]
    },
    {
     "name": "stdout",
     "output_type": "stream",
     "text": [
      "Done with batches\n",
      "Epoch loss 0.004266105096789072\n"
     ]
    },
    {
     "name": "stderr",
     "output_type": "stream",
     "text": [
      "test: 100%|██████████| 47/47 [00:27<00:00,  1.70it/s]\n",
      "test: 100%|██████████| 14/14 [00:04<00:00,  2.93it/s]\n",
      "test: 100%|██████████| 14/14 [00:07<00:00,  1.76it/s]\n"
     ]
    },
    {
     "name": "stdout",
     "output_type": "stream",
     "text": [
      "Epoch 19 of 30\n"
     ]
    },
    {
     "name": "stderr",
     "output_type": "stream",
     "text": [
      "train: 100%|██████████| 94/94 [02:56<00:00,  1.88s/it]\n"
     ]
    },
    {
     "name": "stdout",
     "output_type": "stream",
     "text": [
      "Done with batches\n",
      "Epoch loss 0.0024209179421032265\n"
     ]
    },
    {
     "name": "stderr",
     "output_type": "stream",
     "text": [
      "test: 100%|██████████| 47/47 [00:27<00:00,  1.72it/s]\n",
      "test: 100%|██████████| 14/14 [00:05<00:00,  2.76it/s]\n",
      "test: 100%|██████████| 14/14 [00:07<00:00,  1.79it/s]\n"
     ]
    },
    {
     "name": "stdout",
     "output_type": "stream",
     "text": [
      "Epoch 20 of 30\n"
     ]
    },
    {
     "name": "stderr",
     "output_type": "stream",
     "text": [
      "train: 100%|██████████| 94/94 [02:56<00:00,  1.88s/it]\n"
     ]
    },
    {
     "name": "stdout",
     "output_type": "stream",
     "text": [
      "Done with batches\n",
      "Epoch loss 0.002532624059893622\n"
     ]
    },
    {
     "name": "stderr",
     "output_type": "stream",
     "text": [
      "test: 100%|██████████| 47/47 [00:26<00:00,  1.74it/s]\n",
      "test: 100%|██████████| 14/14 [00:04<00:00,  2.81it/s]\n",
      "test: 100%|██████████| 14/14 [00:07<00:00,  1.79it/s]\n"
     ]
    },
    {
     "name": "stdout",
     "output_type": "stream",
     "text": [
      "Epoch 21 of 30\n"
     ]
    },
    {
     "name": "stderr",
     "output_type": "stream",
     "text": [
      "train: 100%|██████████| 94/94 [02:58<00:00,  1.90s/it]\n"
     ]
    },
    {
     "name": "stdout",
     "output_type": "stream",
     "text": [
      "Done with batches\n",
      "Epoch loss 0.002373281098737201\n"
     ]
    },
    {
     "name": "stderr",
     "output_type": "stream",
     "text": [
      "test: 100%|██████████| 47/47 [00:27<00:00,  1.69it/s]\n",
      "test: 100%|██████████| 14/14 [00:05<00:00,  2.74it/s]\n",
      "test: 100%|██████████| 14/14 [00:07<00:00,  1.79it/s]\n"
     ]
    },
    {
     "name": "stdout",
     "output_type": "stream",
     "text": [
      "Epoch 22 of 30\n"
     ]
    },
    {
     "name": "stderr",
     "output_type": "stream",
     "text": [
      "train: 100%|██████████| 94/94 [02:58<00:00,  1.90s/it]\n"
     ]
    },
    {
     "name": "stdout",
     "output_type": "stream",
     "text": [
      "Done with batches\n",
      "Epoch loss 0.0020535188672356334\n"
     ]
    },
    {
     "name": "stderr",
     "output_type": "stream",
     "text": [
      "test: 100%|██████████| 47/47 [00:27<00:00,  1.73it/s]\n",
      "test: 100%|██████████| 14/14 [00:05<00:00,  2.71it/s]\n",
      "test: 100%|██████████| 14/14 [00:07<00:00,  1.78it/s]\n"
     ]
    },
    {
     "name": "stdout",
     "output_type": "stream",
     "text": [
      "Epoch 23 of 30\n"
     ]
    },
    {
     "name": "stderr",
     "output_type": "stream",
     "text": [
      "train: 100%|██████████| 94/94 [02:58<00:00,  1.90s/it]\n"
     ]
    },
    {
     "name": "stdout",
     "output_type": "stream",
     "text": [
      "Done with batches\n",
      "Epoch loss 0.001268330535086979\n"
     ]
    },
    {
     "name": "stderr",
     "output_type": "stream",
     "text": [
      "test: 100%|██████████| 47/47 [00:26<00:00,  1.75it/s]\n",
      "test: 100%|██████████| 14/14 [00:05<00:00,  2.74it/s]\n",
      "test: 100%|██████████| 14/14 [00:07<00:00,  1.79it/s]\n"
     ]
    },
    {
     "name": "stdout",
     "output_type": "stream",
     "text": [
      "Epoch 24 of 30\n"
     ]
    },
    {
     "name": "stderr",
     "output_type": "stream",
     "text": [
      "train: 100%|██████████| 94/94 [02:57<00:00,  1.88s/it]\n"
     ]
    },
    {
     "name": "stdout",
     "output_type": "stream",
     "text": [
      "Done with batches\n",
      "Epoch loss 0.0014134882914847967\n"
     ]
    },
    {
     "name": "stderr",
     "output_type": "stream",
     "text": [
      "test: 100%|██████████| 47/47 [00:26<00:00,  1.75it/s]\n",
      "test: 100%|██████████| 14/14 [00:05<00:00,  2.76it/s]\n",
      "test: 100%|██████████| 14/14 [00:07<00:00,  1.79it/s]\n"
     ]
    },
    {
     "name": "stdout",
     "output_type": "stream",
     "text": [
      "Epoch 25 of 30\n"
     ]
    },
    {
     "name": "stderr",
     "output_type": "stream",
     "text": [
      "train: 100%|██████████| 94/94 [02:57<00:00,  1.89s/it]\n"
     ]
    },
    {
     "name": "stdout",
     "output_type": "stream",
     "text": [
      "Done with batches\n",
      "Epoch loss 0.0013531768138992893\n"
     ]
    },
    {
     "name": "stderr",
     "output_type": "stream",
     "text": [
      "test: 100%|██████████| 47/47 [00:26<00:00,  1.78it/s]\n",
      "test: 100%|██████████| 14/14 [00:04<00:00,  3.24it/s]\n",
      "test: 100%|██████████| 14/14 [00:07<00:00,  1.79it/s]\n"
     ]
    },
    {
     "name": "stdout",
     "output_type": "stream",
     "text": [
      "Epoch 26 of 30\n"
     ]
    },
    {
     "name": "stderr",
     "output_type": "stream",
     "text": [
      "train: 100%|██████████| 94/94 [02:54<00:00,  1.86s/it]\n"
     ]
    },
    {
     "name": "stdout",
     "output_type": "stream",
     "text": [
      "Done with batches\n",
      "Epoch loss 0.0012615478252050803\n"
     ]
    },
    {
     "name": "stderr",
     "output_type": "stream",
     "text": [
      "test: 100%|██████████| 47/47 [00:27<00:00,  1.71it/s]\n",
      "test: 100%|██████████| 14/14 [00:05<00:00,  2.74it/s]\n",
      "test: 100%|██████████| 14/14 [00:07<00:00,  1.78it/s]\n"
     ]
    },
    {
     "name": "stdout",
     "output_type": "stream",
     "text": [
      "Epoch 27 of 30\n"
     ]
    },
    {
     "name": "stderr",
     "output_type": "stream",
     "text": [
      "train: 100%|██████████| 94/94 [02:54<00:00,  1.86s/it]\n"
     ]
    },
    {
     "name": "stdout",
     "output_type": "stream",
     "text": [
      "Done with batches\n",
      "Epoch loss 0.001296003222628218\n"
     ]
    },
    {
     "name": "stderr",
     "output_type": "stream",
     "text": [
      "test: 100%|██████████| 47/47 [00:26<00:00,  1.75it/s]\n",
      "test: 100%|██████████| 14/14 [00:05<00:00,  2.64it/s]\n",
      "test: 100%|██████████| 14/14 [00:07<00:00,  1.79it/s]\n"
     ]
    },
    {
     "name": "stdout",
     "output_type": "stream",
     "text": [
      "Epoch 28 of 30\n"
     ]
    },
    {
     "name": "stderr",
     "output_type": "stream",
     "text": [
      "train: 100%|██████████| 94/94 [02:55<00:00,  1.87s/it]\n"
     ]
    },
    {
     "name": "stdout",
     "output_type": "stream",
     "text": [
      "Done with batches\n",
      "Epoch loss 0.0013482483401140656\n"
     ]
    },
    {
     "name": "stderr",
     "output_type": "stream",
     "text": [
      "test: 100%|██████████| 47/47 [00:27<00:00,  1.73it/s]\n",
      "test: 100%|██████████| 14/14 [00:04<00:00,  2.95it/s]\n",
      "test: 100%|██████████| 14/14 [00:07<00:00,  1.78it/s]\n"
     ]
    },
    {
     "name": "stdout",
     "output_type": "stream",
     "text": [
      "cur_best_auc: 0.9980650900255572\n",
      "cur_best_epoch 28\n",
      "Epoch 29 of 30\n"
     ]
    },
    {
     "name": "stderr",
     "output_type": "stream",
     "text": [
      "train: 100%|██████████| 94/94 [02:54<00:00,  1.86s/it]\n"
     ]
    },
    {
     "name": "stdout",
     "output_type": "stream",
     "text": [
      "Done with batches\n",
      "Epoch loss 0.0017613798560036076\n"
     ]
    },
    {
     "name": "stderr",
     "output_type": "stream",
     "text": [
      "test: 100%|██████████| 47/47 [00:26<00:00,  1.75it/s]\n",
      "test: 100%|██████████| 14/14 [00:05<00:00,  2.74it/s]\n",
      "test: 100%|██████████| 14/14 [00:07<00:00,  1.80it/s]\n",
      "test: 100%|██████████| 47/47 [00:27<00:00,  1.74it/s]\n",
      "test: 100%|██████████| 14/14 [00:04<00:00,  2.85it/s]\n",
      "test: 100%|██████████| 14/14 [00:07<00:00,  1.79it/s]"
     ]
    },
    {
     "name": "stdout",
     "output_type": "stream",
     "text": [
      "bloodmnist\n",
      "train  auc: 1.00000  acc: 1.00000\n",
      "val  auc: 0.99807  acc: 0.96028\n",
      "test  auc: 0.99770  acc: 0.96141\n",
      "\n"
     ]
    },
    {
     "name": "stderr",
     "output_type": "stream",
     "text": [
      "\n"
     ]
    }
   ],
   "source": [
    "\n",
    "data_flag = 'bloodmnist'\n",
    "download = True\n",
    "\n",
    "DEVICE = 'mps'\n",
    "NUM_EPOCHS = 30\n",
    "BATCH_SIZE = 128\n",
    "milestones = [0.5 * NUM_EPOCHS, 0.75 * NUM_EPOCHS]\n",
    "lr = 0.001\n",
    "gamma = 0.1\n",
    "\n",
    "output_root = './output2d'\n",
    "\n",
    "info = INFO[data_flag]\n",
    "n_channels = info['n_channels']\n",
    "n_classes = len(info['label'])\n",
    "task = info['task']\n",
    "\n",
    "train_loader, train_loader_at_eval, val_loader, test_loader = extract_data(data_flag, download, BATCH_SIZE)\n",
    "\n",
    "from torchvision.models import efficientnet_v2_s\n",
    "\n",
    "model = efficientnet_v2_s(pretrained=True)\n",
    "model.classifier[1] = nn.Linear(1280, n_classes)\n",
    "model.name = 'efficientnet_v2_s'\n",
    "\n",
    "model = model.to(DEVICE)\n",
    "\n",
    "criterion = nn.CrossEntropyLoss()\n",
    "\n",
    "train_evaluator = medmnist.Evaluator(data_flag, 'train')\n",
    "val_evaluator = medmnist.Evaluator(data_flag, 'val')\n",
    "test_evaluator = medmnist.Evaluator(data_flag, 'test')\n",
    "\n",
    "optimizer = torch.optim.Adam(model.parameters(), lr=lr)\n",
    "scheduler = torch.optim.lr_scheduler.MultiStepLR(optimizer, milestones=milestones, gamma=gamma)\n",
    "\n",
    "logs = ['loss', 'auc', 'acc']\n",
    "train_logs = ['train_'+log for log in logs]\n",
    "val_logs = ['val_'+log for log in logs]\n",
    "test_logs = ['test_'+log for log in logs]\n",
    "log_dict = OrderedDict.fromkeys(train_logs+val_logs+test_logs, 0)\n",
    "\n",
    "writer = SummaryWriter(log_dir=os.path.join(output_root, model.name))\n",
    "\n",
    "best_auc = 0\n",
    "best_epoch = 0\n",
    "best_model = deepcopy(model)\n",
    "tb_twod = True\n",
    "\n",
    "for epoch in range(NUM_EPOCHS):        \n",
    "    print(f\"Epoch {epoch} of {NUM_EPOCHS}\")\n",
    "    train_loss = train(model, train_loader, task, criterion, optimizer, DEVICE, writer)\n",
    "    \n",
    "    train_metrics = test(model, train_evaluator, train_loader_at_eval, task, criterion, DEVICE, 'model1')\n",
    "    val_metrics = test(model, val_evaluator, val_loader, task, criterion, DEVICE, 'model1')\n",
    "    test_metrics = test(model, test_evaluator, test_loader, task, criterion, DEVICE, 'model1')\n",
    "    \n",
    "    scheduler.step()\n",
    "    \n",
    "    for i, key in enumerate(train_logs):\n",
    "        log_dict[key] = train_metrics[i]\n",
    "    for i, key in enumerate(val_logs):\n",
    "        log_dict[key] = val_metrics[i]\n",
    "    for i, key in enumerate(test_logs):\n",
    "        log_dict[key] = test_metrics[i]\n",
    "\n",
    "    for key, value in log_dict.items():\n",
    "        writer.add_scalar(key, value, epoch)\n",
    "        \n",
    "    cur_auc = val_metrics[1]\n",
    "    if cur_auc > best_auc:\n",
    "        best_epoch = epoch\n",
    "        best_auc = cur_auc\n",
    "        best_model = deepcopy(model)\n",
    "        print('cur_best_auc:', best_auc)\n",
    "        print('cur_best_epoch', best_epoch)\n",
    "\n",
    "state = {\n",
    "    'net': best_model.state_dict(),\n",
    "}\n",
    "\n",
    "\n",
    "path = os.path.join(output_root, f'{model.name}_best_model.pth')\n",
    "torch.save(state, path)\n",
    "\n",
    "train_metrics = test(best_model, train_evaluator, train_loader_at_eval, task, criterion, DEVICE, 'model', output_root)\n",
    "val_metrics = test(best_model, val_evaluator, val_loader, task, criterion, DEVICE, 'model', output_root)\n",
    "test_metrics = test(best_model, test_evaluator, test_loader, task, criterion, DEVICE, 'model', output_root)\n",
    "\n",
    "train_log = 'train  auc: %.5f  acc: %.5f\\n' % (train_metrics[1], train_metrics[2])\n",
    "val_log = 'val  auc: %.5f  acc: %.5f\\n' % (val_metrics[1], val_metrics[2])\n",
    "test_log = 'test  auc: %.5f  acc: %.5f\\n' % (test_metrics[1], test_metrics[2])\n",
    "\n",
    "log = '%s\\n' % (data_flag) + train_log + val_log + test_log\n",
    "print(log)\n",
    "        \n",
    "with open(os.path.join(output_root, '%s_log.txt' % (data_flag)), 'a') as f:\n",
    "    f.write(log)  \n",
    "\n",
    "writer.close()"
   ]
  },
  {
   "cell_type": "code",
   "execution_count": 19,
   "metadata": {},
   "outputs": [
    {
     "name": "stdout",
     "output_type": "stream",
     "text": [
      "Using downloaded and verified file: /Users/vemundlund/.medmnist/bloodmnist.npz\n",
      "Using downloaded and verified file: /Users/vemundlund/.medmnist/bloodmnist.npz\n",
      "Using downloaded and verified file: /Users/vemundlund/.medmnist/bloodmnist.npz\n",
      "Using downloaded and verified file: /Users/vemundlund/.medmnist/bloodmnist.npz\n",
      "Linear(in_features=2048, out_features=1000, bias=True)\n",
      "Epoch 0 of 30\n"
     ]
    },
    {
     "name": "stderr",
     "output_type": "stream",
     "text": [
      "train:   0%|          | 0/94 [00:00<?, ?it/s]\n"
     ]
    },
    {
     "ename": "RuntimeError",
     "evalue": "Calculated padded input size per channel: (1 x 1). Kernel size: (3 x 3). Kernel size can't be greater than actual input size",
     "output_type": "error",
     "traceback": [
      "\u001b[0;31m---------------------------------------------------------------------------\u001b[0m",
      "\u001b[0;31mRuntimeError\u001b[0m                              Traceback (most recent call last)",
      "\u001b[1;32m/Users/vemundlund/Code/vi-miniproject/main_mnist2D.ipynb Cell 12\u001b[0m line \u001b[0;36m5\n\u001b[1;32m     <a href='vscode-notebook-cell:/Users/vemundlund/Code/vi-miniproject/main_mnist2D.ipynb#X22sZmlsZQ%3D%3D?line=51'>52</a>\u001b[0m \u001b[39mfor\u001b[39;00m epoch \u001b[39min\u001b[39;00m \u001b[39mrange\u001b[39m(NUM_EPOCHS):        \n\u001b[1;32m     <a href='vscode-notebook-cell:/Users/vemundlund/Code/vi-miniproject/main_mnist2D.ipynb#X22sZmlsZQ%3D%3D?line=52'>53</a>\u001b[0m     \u001b[39mprint\u001b[39m(\u001b[39mf\u001b[39m\u001b[39m\"\u001b[39m\u001b[39mEpoch \u001b[39m\u001b[39m{\u001b[39;00mepoch\u001b[39m}\u001b[39;00m\u001b[39m of \u001b[39m\u001b[39m{\u001b[39;00mNUM_EPOCHS\u001b[39m}\u001b[39;00m\u001b[39m\"\u001b[39m)\n\u001b[0;32m---> <a href='vscode-notebook-cell:/Users/vemundlund/Code/vi-miniproject/main_mnist2D.ipynb#X22sZmlsZQ%3D%3D?line=53'>54</a>\u001b[0m     train_loss \u001b[39m=\u001b[39m train(model, train_loader, task, criterion, optimizer, DEVICE, writer)\n\u001b[1;32m     <a href='vscode-notebook-cell:/Users/vemundlund/Code/vi-miniproject/main_mnist2D.ipynb#X22sZmlsZQ%3D%3D?line=55'>56</a>\u001b[0m     train_metrics \u001b[39m=\u001b[39m test(model, train_evaluator, train_loader_at_eval, task, criterion, DEVICE, \u001b[39m'\u001b[39m\u001b[39mmodel1\u001b[39m\u001b[39m'\u001b[39m)\n\u001b[1;32m     <a href='vscode-notebook-cell:/Users/vemundlund/Code/vi-miniproject/main_mnist2D.ipynb#X22sZmlsZQ%3D%3D?line=56'>57</a>\u001b[0m     val_metrics \u001b[39m=\u001b[39m test(model, val_evaluator, val_loader, task, criterion, DEVICE, \u001b[39m'\u001b[39m\u001b[39mmodel1\u001b[39m\u001b[39m'\u001b[39m)\n",
      "File \u001b[0;32m~/Code/vi-miniproject/dataset.py:90\u001b[0m, in \u001b[0;36mtrain\u001b[0;34m(model, train_loader, task, criterion, optimizer, device, writer)\u001b[0m\n\u001b[1;32m     88\u001b[0m \u001b[39mfor\u001b[39;00m inputs, targets \u001b[39min\u001b[39;00m tqdm(train_loader, desc\u001b[39m=\u001b[39m\u001b[39m\"\u001b[39m\u001b[39mtrain\u001b[39m\u001b[39m\"\u001b[39m):\n\u001b[1;32m     89\u001b[0m     optimizer\u001b[39m.\u001b[39mzero_grad()\n\u001b[0;32m---> 90\u001b[0m     outputs \u001b[39m=\u001b[39m model(inputs\u001b[39m.\u001b[39;49mto(device))\n\u001b[1;32m     92\u001b[0m     targets \u001b[39m=\u001b[39m torch\u001b[39m.\u001b[39msqueeze(targets, \u001b[39m1\u001b[39m)\u001b[39m.\u001b[39mlong()\u001b[39m.\u001b[39mto(device)\n\u001b[1;32m     93\u001b[0m     loss \u001b[39m=\u001b[39m criterion(outputs, targets)\n",
      "File \u001b[0;32m~/miniconda3/envs/vi_venv/lib/python3.11/site-packages/torch/nn/modules/module.py:1518\u001b[0m, in \u001b[0;36mModule._wrapped_call_impl\u001b[0;34m(self, *args, **kwargs)\u001b[0m\n\u001b[1;32m   1516\u001b[0m     \u001b[39mreturn\u001b[39;00m \u001b[39mself\u001b[39m\u001b[39m.\u001b[39m_compiled_call_impl(\u001b[39m*\u001b[39margs, \u001b[39m*\u001b[39m\u001b[39m*\u001b[39mkwargs)  \u001b[39m# type: ignore[misc]\u001b[39;00m\n\u001b[1;32m   1517\u001b[0m \u001b[39melse\u001b[39;00m:\n\u001b[0;32m-> 1518\u001b[0m     \u001b[39mreturn\u001b[39;00m \u001b[39mself\u001b[39;49m\u001b[39m.\u001b[39;49m_call_impl(\u001b[39m*\u001b[39;49margs, \u001b[39m*\u001b[39;49m\u001b[39m*\u001b[39;49mkwargs)\n",
      "File \u001b[0;32m~/miniconda3/envs/vi_venv/lib/python3.11/site-packages/torch/nn/modules/module.py:1527\u001b[0m, in \u001b[0;36mModule._call_impl\u001b[0;34m(self, *args, **kwargs)\u001b[0m\n\u001b[1;32m   1522\u001b[0m \u001b[39m# If we don't have any hooks, we want to skip the rest of the logic in\u001b[39;00m\n\u001b[1;32m   1523\u001b[0m \u001b[39m# this function, and just call forward.\u001b[39;00m\n\u001b[1;32m   1524\u001b[0m \u001b[39mif\u001b[39;00m \u001b[39mnot\u001b[39;00m (\u001b[39mself\u001b[39m\u001b[39m.\u001b[39m_backward_hooks \u001b[39mor\u001b[39;00m \u001b[39mself\u001b[39m\u001b[39m.\u001b[39m_backward_pre_hooks \u001b[39mor\u001b[39;00m \u001b[39mself\u001b[39m\u001b[39m.\u001b[39m_forward_hooks \u001b[39mor\u001b[39;00m \u001b[39mself\u001b[39m\u001b[39m.\u001b[39m_forward_pre_hooks\n\u001b[1;32m   1525\u001b[0m         \u001b[39mor\u001b[39;00m _global_backward_pre_hooks \u001b[39mor\u001b[39;00m _global_backward_hooks\n\u001b[1;32m   1526\u001b[0m         \u001b[39mor\u001b[39;00m _global_forward_hooks \u001b[39mor\u001b[39;00m _global_forward_pre_hooks):\n\u001b[0;32m-> 1527\u001b[0m     \u001b[39mreturn\u001b[39;00m forward_call(\u001b[39m*\u001b[39;49margs, \u001b[39m*\u001b[39;49m\u001b[39m*\u001b[39;49mkwargs)\n\u001b[1;32m   1529\u001b[0m \u001b[39mtry\u001b[39;00m:\n\u001b[1;32m   1530\u001b[0m     result \u001b[39m=\u001b[39m \u001b[39mNone\u001b[39;00m\n",
      "File \u001b[0;32m~/miniconda3/envs/vi_venv/lib/python3.11/site-packages/torchvision/models/inception.py:166\u001b[0m, in \u001b[0;36mInception3.forward\u001b[0;34m(self, x)\u001b[0m\n\u001b[1;32m    164\u001b[0m \u001b[39mdef\u001b[39;00m \u001b[39mforward\u001b[39m(\u001b[39mself\u001b[39m, x: Tensor) \u001b[39m-\u001b[39m\u001b[39m>\u001b[39m InceptionOutputs:\n\u001b[1;32m    165\u001b[0m     x \u001b[39m=\u001b[39m \u001b[39mself\u001b[39m\u001b[39m.\u001b[39m_transform_input(x)\n\u001b[0;32m--> 166\u001b[0m     x, aux \u001b[39m=\u001b[39m \u001b[39mself\u001b[39;49m\u001b[39m.\u001b[39;49m_forward(x)\n\u001b[1;32m    167\u001b[0m     aux_defined \u001b[39m=\u001b[39m \u001b[39mself\u001b[39m\u001b[39m.\u001b[39mtraining \u001b[39mand\u001b[39;00m \u001b[39mself\u001b[39m\u001b[39m.\u001b[39maux_logits\n\u001b[1;32m    168\u001b[0m     \u001b[39mif\u001b[39;00m torch\u001b[39m.\u001b[39mjit\u001b[39m.\u001b[39mis_scripting():\n",
      "File \u001b[0;32m~/miniconda3/envs/vi_venv/lib/python3.11/site-packages/torchvision/models/inception.py:125\u001b[0m, in \u001b[0;36mInception3._forward\u001b[0;34m(self, x)\u001b[0m\n\u001b[1;32m    123\u001b[0m x \u001b[39m=\u001b[39m \u001b[39mself\u001b[39m\u001b[39m.\u001b[39mMixed_5d(x)\n\u001b[1;32m    124\u001b[0m \u001b[39m# N x 288 x 35 x 35\u001b[39;00m\n\u001b[0;32m--> 125\u001b[0m x \u001b[39m=\u001b[39m \u001b[39mself\u001b[39;49m\u001b[39m.\u001b[39;49mMixed_6a(x)\n\u001b[1;32m    126\u001b[0m \u001b[39m# N x 768 x 17 x 17\u001b[39;00m\n\u001b[1;32m    127\u001b[0m x \u001b[39m=\u001b[39m \u001b[39mself\u001b[39m\u001b[39m.\u001b[39mMixed_6b(x)\n",
      "File \u001b[0;32m~/miniconda3/envs/vi_venv/lib/python3.11/site-packages/torch/nn/modules/module.py:1518\u001b[0m, in \u001b[0;36mModule._wrapped_call_impl\u001b[0;34m(self, *args, **kwargs)\u001b[0m\n\u001b[1;32m   1516\u001b[0m     \u001b[39mreturn\u001b[39;00m \u001b[39mself\u001b[39m\u001b[39m.\u001b[39m_compiled_call_impl(\u001b[39m*\u001b[39margs, \u001b[39m*\u001b[39m\u001b[39m*\u001b[39mkwargs)  \u001b[39m# type: ignore[misc]\u001b[39;00m\n\u001b[1;32m   1517\u001b[0m \u001b[39melse\u001b[39;00m:\n\u001b[0;32m-> 1518\u001b[0m     \u001b[39mreturn\u001b[39;00m \u001b[39mself\u001b[39;49m\u001b[39m.\u001b[39;49m_call_impl(\u001b[39m*\u001b[39;49margs, \u001b[39m*\u001b[39;49m\u001b[39m*\u001b[39;49mkwargs)\n",
      "File \u001b[0;32m~/miniconda3/envs/vi_venv/lib/python3.11/site-packages/torch/nn/modules/module.py:1527\u001b[0m, in \u001b[0;36mModule._call_impl\u001b[0;34m(self, *args, **kwargs)\u001b[0m\n\u001b[1;32m   1522\u001b[0m \u001b[39m# If we don't have any hooks, we want to skip the rest of the logic in\u001b[39;00m\n\u001b[1;32m   1523\u001b[0m \u001b[39m# this function, and just call forward.\u001b[39;00m\n\u001b[1;32m   1524\u001b[0m \u001b[39mif\u001b[39;00m \u001b[39mnot\u001b[39;00m (\u001b[39mself\u001b[39m\u001b[39m.\u001b[39m_backward_hooks \u001b[39mor\u001b[39;00m \u001b[39mself\u001b[39m\u001b[39m.\u001b[39m_backward_pre_hooks \u001b[39mor\u001b[39;00m \u001b[39mself\u001b[39m\u001b[39m.\u001b[39m_forward_hooks \u001b[39mor\u001b[39;00m \u001b[39mself\u001b[39m\u001b[39m.\u001b[39m_forward_pre_hooks\n\u001b[1;32m   1525\u001b[0m         \u001b[39mor\u001b[39;00m _global_backward_pre_hooks \u001b[39mor\u001b[39;00m _global_backward_hooks\n\u001b[1;32m   1526\u001b[0m         \u001b[39mor\u001b[39;00m _global_forward_hooks \u001b[39mor\u001b[39;00m _global_forward_pre_hooks):\n\u001b[0;32m-> 1527\u001b[0m     \u001b[39mreturn\u001b[39;00m forward_call(\u001b[39m*\u001b[39;49margs, \u001b[39m*\u001b[39;49m\u001b[39m*\u001b[39;49mkwargs)\n\u001b[1;32m   1529\u001b[0m \u001b[39mtry\u001b[39;00m:\n\u001b[1;32m   1530\u001b[0m     result \u001b[39m=\u001b[39m \u001b[39mNone\u001b[39;00m\n",
      "File \u001b[0;32m~/miniconda3/envs/vi_venv/lib/python3.11/site-packages/torchvision/models/inception.py:239\u001b[0m, in \u001b[0;36mInceptionB.forward\u001b[0;34m(self, x)\u001b[0m\n\u001b[1;32m    238\u001b[0m \u001b[39mdef\u001b[39;00m \u001b[39mforward\u001b[39m(\u001b[39mself\u001b[39m, x: Tensor) \u001b[39m-\u001b[39m\u001b[39m>\u001b[39m Tensor:\n\u001b[0;32m--> 239\u001b[0m     outputs \u001b[39m=\u001b[39m \u001b[39mself\u001b[39;49m\u001b[39m.\u001b[39;49m_forward(x)\n\u001b[1;32m    240\u001b[0m     \u001b[39mreturn\u001b[39;00m torch\u001b[39m.\u001b[39mcat(outputs, \u001b[39m1\u001b[39m)\n",
      "File \u001b[0;32m~/miniconda3/envs/vi_venv/lib/python3.11/site-packages/torchvision/models/inception.py:227\u001b[0m, in \u001b[0;36mInceptionB._forward\u001b[0;34m(self, x)\u001b[0m\n\u001b[1;32m    226\u001b[0m \u001b[39mdef\u001b[39;00m \u001b[39m_forward\u001b[39m(\u001b[39mself\u001b[39m, x: Tensor) \u001b[39m-\u001b[39m\u001b[39m>\u001b[39m List[Tensor]:\n\u001b[0;32m--> 227\u001b[0m     branch3x3 \u001b[39m=\u001b[39m \u001b[39mself\u001b[39;49m\u001b[39m.\u001b[39;49mbranch3x3(x)\n\u001b[1;32m    229\u001b[0m     branch3x3dbl \u001b[39m=\u001b[39m \u001b[39mself\u001b[39m\u001b[39m.\u001b[39mbranch3x3dbl_1(x)\n\u001b[1;32m    230\u001b[0m     branch3x3dbl \u001b[39m=\u001b[39m \u001b[39mself\u001b[39m\u001b[39m.\u001b[39mbranch3x3dbl_2(branch3x3dbl)\n",
      "File \u001b[0;32m~/miniconda3/envs/vi_venv/lib/python3.11/site-packages/torch/nn/modules/module.py:1518\u001b[0m, in \u001b[0;36mModule._wrapped_call_impl\u001b[0;34m(self, *args, **kwargs)\u001b[0m\n\u001b[1;32m   1516\u001b[0m     \u001b[39mreturn\u001b[39;00m \u001b[39mself\u001b[39m\u001b[39m.\u001b[39m_compiled_call_impl(\u001b[39m*\u001b[39margs, \u001b[39m*\u001b[39m\u001b[39m*\u001b[39mkwargs)  \u001b[39m# type: ignore[misc]\u001b[39;00m\n\u001b[1;32m   1517\u001b[0m \u001b[39melse\u001b[39;00m:\n\u001b[0;32m-> 1518\u001b[0m     \u001b[39mreturn\u001b[39;00m \u001b[39mself\u001b[39;49m\u001b[39m.\u001b[39;49m_call_impl(\u001b[39m*\u001b[39;49margs, \u001b[39m*\u001b[39;49m\u001b[39m*\u001b[39;49mkwargs)\n",
      "File \u001b[0;32m~/miniconda3/envs/vi_venv/lib/python3.11/site-packages/torch/nn/modules/module.py:1527\u001b[0m, in \u001b[0;36mModule._call_impl\u001b[0;34m(self, *args, **kwargs)\u001b[0m\n\u001b[1;32m   1522\u001b[0m \u001b[39m# If we don't have any hooks, we want to skip the rest of the logic in\u001b[39;00m\n\u001b[1;32m   1523\u001b[0m \u001b[39m# this function, and just call forward.\u001b[39;00m\n\u001b[1;32m   1524\u001b[0m \u001b[39mif\u001b[39;00m \u001b[39mnot\u001b[39;00m (\u001b[39mself\u001b[39m\u001b[39m.\u001b[39m_backward_hooks \u001b[39mor\u001b[39;00m \u001b[39mself\u001b[39m\u001b[39m.\u001b[39m_backward_pre_hooks \u001b[39mor\u001b[39;00m \u001b[39mself\u001b[39m\u001b[39m.\u001b[39m_forward_hooks \u001b[39mor\u001b[39;00m \u001b[39mself\u001b[39m\u001b[39m.\u001b[39m_forward_pre_hooks\n\u001b[1;32m   1525\u001b[0m         \u001b[39mor\u001b[39;00m _global_backward_pre_hooks \u001b[39mor\u001b[39;00m _global_backward_hooks\n\u001b[1;32m   1526\u001b[0m         \u001b[39mor\u001b[39;00m _global_forward_hooks \u001b[39mor\u001b[39;00m _global_forward_pre_hooks):\n\u001b[0;32m-> 1527\u001b[0m     \u001b[39mreturn\u001b[39;00m forward_call(\u001b[39m*\u001b[39;49margs, \u001b[39m*\u001b[39;49m\u001b[39m*\u001b[39;49mkwargs)\n\u001b[1;32m   1529\u001b[0m \u001b[39mtry\u001b[39;00m:\n\u001b[1;32m   1530\u001b[0m     result \u001b[39m=\u001b[39m \u001b[39mNone\u001b[39;00m\n",
      "File \u001b[0;32m~/miniconda3/envs/vi_venv/lib/python3.11/site-packages/torchvision/models/inception.py:405\u001b[0m, in \u001b[0;36mBasicConv2d.forward\u001b[0;34m(self, x)\u001b[0m\n\u001b[1;32m    404\u001b[0m \u001b[39mdef\u001b[39;00m \u001b[39mforward\u001b[39m(\u001b[39mself\u001b[39m, x: Tensor) \u001b[39m-\u001b[39m\u001b[39m>\u001b[39m Tensor:\n\u001b[0;32m--> 405\u001b[0m     x \u001b[39m=\u001b[39m \u001b[39mself\u001b[39;49m\u001b[39m.\u001b[39;49mconv(x)\n\u001b[1;32m    406\u001b[0m     x \u001b[39m=\u001b[39m \u001b[39mself\u001b[39m\u001b[39m.\u001b[39mbn(x)\n\u001b[1;32m    407\u001b[0m     \u001b[39mreturn\u001b[39;00m F\u001b[39m.\u001b[39mrelu(x, inplace\u001b[39m=\u001b[39m\u001b[39mTrue\u001b[39;00m)\n",
      "File \u001b[0;32m~/miniconda3/envs/vi_venv/lib/python3.11/site-packages/torch/nn/modules/module.py:1518\u001b[0m, in \u001b[0;36mModule._wrapped_call_impl\u001b[0;34m(self, *args, **kwargs)\u001b[0m\n\u001b[1;32m   1516\u001b[0m     \u001b[39mreturn\u001b[39;00m \u001b[39mself\u001b[39m\u001b[39m.\u001b[39m_compiled_call_impl(\u001b[39m*\u001b[39margs, \u001b[39m*\u001b[39m\u001b[39m*\u001b[39mkwargs)  \u001b[39m# type: ignore[misc]\u001b[39;00m\n\u001b[1;32m   1517\u001b[0m \u001b[39melse\u001b[39;00m:\n\u001b[0;32m-> 1518\u001b[0m     \u001b[39mreturn\u001b[39;00m \u001b[39mself\u001b[39;49m\u001b[39m.\u001b[39;49m_call_impl(\u001b[39m*\u001b[39;49margs, \u001b[39m*\u001b[39;49m\u001b[39m*\u001b[39;49mkwargs)\n",
      "File \u001b[0;32m~/miniconda3/envs/vi_venv/lib/python3.11/site-packages/torch/nn/modules/module.py:1527\u001b[0m, in \u001b[0;36mModule._call_impl\u001b[0;34m(self, *args, **kwargs)\u001b[0m\n\u001b[1;32m   1522\u001b[0m \u001b[39m# If we don't have any hooks, we want to skip the rest of the logic in\u001b[39;00m\n\u001b[1;32m   1523\u001b[0m \u001b[39m# this function, and just call forward.\u001b[39;00m\n\u001b[1;32m   1524\u001b[0m \u001b[39mif\u001b[39;00m \u001b[39mnot\u001b[39;00m (\u001b[39mself\u001b[39m\u001b[39m.\u001b[39m_backward_hooks \u001b[39mor\u001b[39;00m \u001b[39mself\u001b[39m\u001b[39m.\u001b[39m_backward_pre_hooks \u001b[39mor\u001b[39;00m \u001b[39mself\u001b[39m\u001b[39m.\u001b[39m_forward_hooks \u001b[39mor\u001b[39;00m \u001b[39mself\u001b[39m\u001b[39m.\u001b[39m_forward_pre_hooks\n\u001b[1;32m   1525\u001b[0m         \u001b[39mor\u001b[39;00m _global_backward_pre_hooks \u001b[39mor\u001b[39;00m _global_backward_hooks\n\u001b[1;32m   1526\u001b[0m         \u001b[39mor\u001b[39;00m _global_forward_hooks \u001b[39mor\u001b[39;00m _global_forward_pre_hooks):\n\u001b[0;32m-> 1527\u001b[0m     \u001b[39mreturn\u001b[39;00m forward_call(\u001b[39m*\u001b[39;49margs, \u001b[39m*\u001b[39;49m\u001b[39m*\u001b[39;49mkwargs)\n\u001b[1;32m   1529\u001b[0m \u001b[39mtry\u001b[39;00m:\n\u001b[1;32m   1530\u001b[0m     result \u001b[39m=\u001b[39m \u001b[39mNone\u001b[39;00m\n",
      "File \u001b[0;32m~/miniconda3/envs/vi_venv/lib/python3.11/site-packages/torch/nn/modules/conv.py:460\u001b[0m, in \u001b[0;36mConv2d.forward\u001b[0;34m(self, input)\u001b[0m\n\u001b[1;32m    459\u001b[0m \u001b[39mdef\u001b[39;00m \u001b[39mforward\u001b[39m(\u001b[39mself\u001b[39m, \u001b[39minput\u001b[39m: Tensor) \u001b[39m-\u001b[39m\u001b[39m>\u001b[39m Tensor:\n\u001b[0;32m--> 460\u001b[0m     \u001b[39mreturn\u001b[39;00m \u001b[39mself\u001b[39;49m\u001b[39m.\u001b[39;49m_conv_forward(\u001b[39minput\u001b[39;49m, \u001b[39mself\u001b[39;49m\u001b[39m.\u001b[39;49mweight, \u001b[39mself\u001b[39;49m\u001b[39m.\u001b[39;49mbias)\n",
      "File \u001b[0;32m~/miniconda3/envs/vi_venv/lib/python3.11/site-packages/torch/nn/modules/conv.py:456\u001b[0m, in \u001b[0;36mConv2d._conv_forward\u001b[0;34m(self, input, weight, bias)\u001b[0m\n\u001b[1;32m    452\u001b[0m \u001b[39mif\u001b[39;00m \u001b[39mself\u001b[39m\u001b[39m.\u001b[39mpadding_mode \u001b[39m!=\u001b[39m \u001b[39m'\u001b[39m\u001b[39mzeros\u001b[39m\u001b[39m'\u001b[39m:\n\u001b[1;32m    453\u001b[0m     \u001b[39mreturn\u001b[39;00m F\u001b[39m.\u001b[39mconv2d(F\u001b[39m.\u001b[39mpad(\u001b[39minput\u001b[39m, \u001b[39mself\u001b[39m\u001b[39m.\u001b[39m_reversed_padding_repeated_twice, mode\u001b[39m=\u001b[39m\u001b[39mself\u001b[39m\u001b[39m.\u001b[39mpadding_mode),\n\u001b[1;32m    454\u001b[0m                     weight, bias, \u001b[39mself\u001b[39m\u001b[39m.\u001b[39mstride,\n\u001b[1;32m    455\u001b[0m                     _pair(\u001b[39m0\u001b[39m), \u001b[39mself\u001b[39m\u001b[39m.\u001b[39mdilation, \u001b[39mself\u001b[39m\u001b[39m.\u001b[39mgroups)\n\u001b[0;32m--> 456\u001b[0m \u001b[39mreturn\u001b[39;00m F\u001b[39m.\u001b[39;49mconv2d(\u001b[39minput\u001b[39;49m, weight, bias, \u001b[39mself\u001b[39;49m\u001b[39m.\u001b[39;49mstride,\n\u001b[1;32m    457\u001b[0m                 \u001b[39mself\u001b[39;49m\u001b[39m.\u001b[39;49mpadding, \u001b[39mself\u001b[39;49m\u001b[39m.\u001b[39;49mdilation, \u001b[39mself\u001b[39;49m\u001b[39m.\u001b[39;49mgroups)\n",
      "\u001b[0;31mRuntimeError\u001b[0m: Calculated padded input size per channel: (1 x 1). Kernel size: (3 x 3). Kernel size can't be greater than actual input size"
     ]
    }
   ],
   "source": [
    "\n",
    "data_flag = 'bloodmnist'\n",
    "download = True\n",
    "\n",
    "DEVICE = 'mps'\n",
    "NUM_EPOCHS = 30\n",
    "BATCH_SIZE = 128\n",
    "milestones = [0.5 * NUM_EPOCHS, 0.75 * NUM_EPOCHS]\n",
    "lr = 0.001\n",
    "gamma = 0.1\n",
    "\n",
    "output_root = './output2d'\n",
    "\n",
    "info = INFO[data_flag]\n",
    "n_channels = info['n_channels']\n",
    "n_classes = len(info['label'])\n",
    "task = info['task']\n",
    "\n",
    "train_loader, train_loader_at_eval, val_loader, test_loader = extract_data(data_flag, download, BATCH_SIZE)\n",
    "\n",
    "from torchvision.models import inception_v3\n",
    "\n",
    "model = inception_v3(pretrained=True)\n",
    "model.fc = nn.Linear(2048, n_classes)\n",
    "model.name = 'inception_v3'\n",
    "\n",
    "\n",
    "model = model.to(DEVICE)\n",
    "\n",
    "criterion = nn.CrossEntropyLoss()\n",
    "\n",
    "train_evaluator = medmnist.Evaluator(data_flag, 'train')\n",
    "val_evaluator = medmnist.Evaluator(data_flag, 'val')\n",
    "test_evaluator = medmnist.Evaluator(data_flag, 'test')\n",
    "\n",
    "optimizer = torch.optim.Adam(model.parameters(), lr=lr)\n",
    "scheduler = torch.optim.lr_scheduler.MultiStepLR(optimizer, milestones=milestones, gamma=gamma)\n",
    "\n",
    "logs = ['loss', 'auc', 'acc']\n",
    "train_logs = ['train_'+log for log in logs]\n",
    "val_logs = ['val_'+log for log in logs]\n",
    "test_logs = ['test_'+log for log in logs]\n",
    "log_dict = OrderedDict.fromkeys(train_logs+val_logs+test_logs, 0)\n",
    "\n",
    "writer = SummaryWriter(log_dir=os.path.join(output_root, model.name))\n",
    "\n",
    "best_auc = 0\n",
    "best_epoch = 0\n",
    "best_model = deepcopy(model)\n",
    "tb_twod = True\n",
    "\n",
    "for epoch in range(NUM_EPOCHS):        \n",
    "    print(f\"Epoch {epoch} of {NUM_EPOCHS}\")\n",
    "    train_loss = train(model, train_loader, task, criterion, optimizer, DEVICE, writer)\n",
    "    \n",
    "    train_metrics = test(model, train_evaluator, train_loader_at_eval, task, criterion, DEVICE, 'model1')\n",
    "    val_metrics = test(model, val_evaluator, val_loader, task, criterion, DEVICE, 'model1')\n",
    "    test_metrics = test(model, test_evaluator, test_loader, task, criterion, DEVICE, 'model1')\n",
    "    \n",
    "    scheduler.step()\n",
    "    \n",
    "    for i, key in enumerate(train_logs):\n",
    "        log_dict[key] = train_metrics[i]\n",
    "    for i, key in enumerate(val_logs):\n",
    "        log_dict[key] = val_metrics[i]\n",
    "    for i, key in enumerate(test_logs):\n",
    "        log_dict[key] = test_metrics[i]\n",
    "\n",
    "    for key, value in log_dict.items():\n",
    "        writer.add_scalar(key, value, epoch)\n",
    "        \n",
    "    cur_auc = val_metrics[1]\n",
    "    if cur_auc > best_auc:\n",
    "        best_epoch = epoch\n",
    "        best_auc = cur_auc\n",
    "        best_model = deepcopy(model)\n",
    "        print('cur_best_auc:', best_auc)\n",
    "        print('cur_best_epoch', best_epoch)\n",
    "\n",
    "state = {\n",
    "    'net': best_model.state_dict(),\n",
    "}\n",
    "\n",
    "\n",
    "path = os.path.join(output_root, f'{model.name}_best_model.pth')\n",
    "torch.save(state, path)\n",
    "\n",
    "train_metrics = test(best_model, train_evaluator, train_loader_at_eval, task, criterion, DEVICE, 'model', output_root)\n",
    "val_metrics = test(best_model, val_evaluator, val_loader, task, criterion, DEVICE, 'model', output_root)\n",
    "test_metrics = test(best_model, test_evaluator, test_loader, task, criterion, DEVICE, 'model', output_root)\n",
    "\n",
    "train_log = 'train  auc: %.5f  acc: %.5f\\n' % (train_metrics[1], train_metrics[2])\n",
    "val_log = 'val  auc: %.5f  acc: %.5f\\n' % (val_metrics[1], val_metrics[2])\n",
    "test_log = 'test  auc: %.5f  acc: %.5f\\n' % (test_metrics[1], test_metrics[2])\n",
    "\n",
    "log = '%s\\n' % (data_flag) + train_log + val_log + test_log\n",
    "print(log)\n",
    "        \n",
    "with open(os.path.join(output_root, '%s_log.txt' % (data_flag)), 'a') as f:\n",
    "    f.write(log)  \n",
    "\n",
    "writer.close()"
   ]
  },
  {
   "cell_type": "code",
   "execution_count": 23,
   "metadata": {},
   "outputs": [
    {
     "name": "stdout",
     "output_type": "stream",
     "text": [
      "Using downloaded and verified file: /Users/vemundlund/.medmnist/bloodmnist.npz\n",
      "Using downloaded and verified file: /Users/vemundlund/.medmnist/bloodmnist.npz\n",
      "Using downloaded and verified file: /Users/vemundlund/.medmnist/bloodmnist.npz\n",
      "Using downloaded and verified file: /Users/vemundlund/.medmnist/bloodmnist.npz\n"
     ]
    },
    {
     "name": "stderr",
     "output_type": "stream",
     "text": [
      "/Users/vemundlund/miniconda3/envs/vi_venv/lib/python3.11/site-packages/torchvision/models/_utils.py:208: UserWarning: The parameter 'pretrained' is deprecated since 0.13 and may be removed in the future, please use 'weights' instead.\n",
      "  warnings.warn(\n",
      "/Users/vemundlund/miniconda3/envs/vi_venv/lib/python3.11/site-packages/torchvision/models/_utils.py:223: UserWarning: Arguments other than a weight enum or `None` for 'weights' are deprecated since 0.13 and may be removed in the future. The current behavior is equivalent to passing `weights=Swin_V2_S_Weights.IMAGENET1K_V1`. You can also use `weights=Swin_V2_S_Weights.DEFAULT` to get the most up-to-date weights.\n",
      "  warnings.warn(msg)\n"
     ]
    },
    {
     "name": "stdout",
     "output_type": "stream",
     "text": [
      "Epoch 0 of 30\n"
     ]
    },
    {
     "name": "stderr",
     "output_type": "stream",
     "text": [
      "train: 100%|██████████| 94/94 [10:21<00:00,  6.61s/it]\n"
     ]
    },
    {
     "name": "stdout",
     "output_type": "stream",
     "text": [
      "Done with batches\n",
      "Epoch loss 1.8202674820068034\n"
     ]
    },
    {
     "name": "stderr",
     "output_type": "stream",
     "text": [
      "test: 100%|██████████| 47/47 [02:24<00:00,  3.07s/it]\n",
      "test: 100%|██████████| 14/14 [00:24<00:00,  1.73s/it]\n",
      "test: 100%|██████████| 14/14 [00:43<00:00,  3.09s/it]\n"
     ]
    },
    {
     "name": "stdout",
     "output_type": "stream",
     "text": [
      "cur_best_auc: 0.816666601302069\n",
      "cur_best_epoch 0\n",
      "Epoch 1 of 30\n"
     ]
    },
    {
     "name": "stderr",
     "output_type": "stream",
     "text": [
      "train: 100%|██████████| 94/94 [10:12<00:00,  6.51s/it]\n"
     ]
    },
    {
     "name": "stdout",
     "output_type": "stream",
     "text": [
      "Done with batches\n",
      "Epoch loss 1.276784487861268\n"
     ]
    },
    {
     "name": "stderr",
     "output_type": "stream",
     "text": [
      "test: 100%|██████████| 47/47 [02:16<00:00,  2.90s/it]\n",
      "test: 100%|██████████| 14/14 [00:19<00:00,  1.41s/it]\n",
      "test: 100%|██████████| 14/14 [00:38<00:00,  2.79s/it]\n"
     ]
    },
    {
     "name": "stdout",
     "output_type": "stream",
     "text": [
      "cur_best_auc: 0.8697195492559324\n",
      "cur_best_epoch 1\n",
      "Epoch 2 of 30\n"
     ]
    },
    {
     "name": "stderr",
     "output_type": "stream",
     "text": [
      "train: 100%|██████████| 94/94 [10:12<00:00,  6.51s/it]\n"
     ]
    },
    {
     "name": "stdout",
     "output_type": "stream",
     "text": [
      "Done with batches\n",
      "Epoch loss 1.0282108631539852\n"
     ]
    },
    {
     "name": "stderr",
     "output_type": "stream",
     "text": [
      "test: 100%|██████████| 47/47 [02:17<00:00,  2.92s/it]\n",
      "test: 100%|██████████| 14/14 [00:19<00:00,  1.42s/it]\n",
      "test: 100%|██████████| 14/14 [00:39<00:00,  2.79s/it]\n"
     ]
    },
    {
     "name": "stdout",
     "output_type": "stream",
     "text": [
      "cur_best_auc: 0.9314671514099747\n",
      "cur_best_epoch 2\n",
      "Epoch 3 of 30\n"
     ]
    },
    {
     "name": "stderr",
     "output_type": "stream",
     "text": [
      "train: 100%|██████████| 94/94 [10:12<00:00,  6.52s/it]\n"
     ]
    },
    {
     "name": "stdout",
     "output_type": "stream",
     "text": [
      "Done with batches\n",
      "Epoch loss 0.8134541498853806\n"
     ]
    },
    {
     "name": "stderr",
     "output_type": "stream",
     "text": [
      "test: 100%|██████████| 47/47 [02:16<00:00,  2.91s/it]\n",
      "test: 100%|██████████| 14/14 [00:19<00:00,  1.41s/it]\n",
      "test: 100%|██████████| 14/14 [00:38<00:00,  2.79s/it]\n"
     ]
    },
    {
     "name": "stdout",
     "output_type": "stream",
     "text": [
      "cur_best_auc: 0.9503430175625864\n",
      "cur_best_epoch 3\n",
      "Epoch 4 of 30\n"
     ]
    },
    {
     "name": "stderr",
     "output_type": "stream",
     "text": [
      "train: 100%|██████████| 94/94 [10:10<00:00,  6.50s/it]\n"
     ]
    },
    {
     "name": "stdout",
     "output_type": "stream",
     "text": [
      "Done with batches\n",
      "Epoch loss 0.6205128371081454\n"
     ]
    },
    {
     "name": "stderr",
     "output_type": "stream",
     "text": [
      "test: 100%|██████████| 47/47 [02:16<00:00,  2.90s/it]\n",
      "test: 100%|██████████| 14/14 [00:19<00:00,  1.42s/it]\n",
      "test: 100%|██████████| 14/14 [00:39<00:00,  2.83s/it]\n"
     ]
    },
    {
     "name": "stdout",
     "output_type": "stream",
     "text": [
      "cur_best_auc: 0.9647576183777415\n",
      "cur_best_epoch 4\n",
      "Epoch 5 of 30\n"
     ]
    },
    {
     "name": "stderr",
     "output_type": "stream",
     "text": [
      "train: 100%|██████████| 94/94 [10:10<00:00,  6.49s/it]\n"
     ]
    },
    {
     "name": "stdout",
     "output_type": "stream",
     "text": [
      "Done with batches\n",
      "Epoch loss 0.537291777577806\n"
     ]
    },
    {
     "name": "stderr",
     "output_type": "stream",
     "text": [
      "test: 100%|██████████| 47/47 [02:16<00:00,  2.90s/it]\n",
      "test: 100%|██████████| 14/14 [00:19<00:00,  1.41s/it]\n",
      "test: 100%|██████████| 14/14 [00:38<00:00,  2.78s/it]\n"
     ]
    },
    {
     "name": "stdout",
     "output_type": "stream",
     "text": [
      "cur_best_auc: 0.9746571107750753\n",
      "cur_best_epoch 5\n",
      "Epoch 6 of 30\n"
     ]
    },
    {
     "name": "stderr",
     "output_type": "stream",
     "text": [
      "train: 100%|██████████| 94/94 [10:09<00:00,  6.48s/it]\n"
     ]
    },
    {
     "name": "stdout",
     "output_type": "stream",
     "text": [
      "Done with batches\n",
      "Epoch loss 0.63245335031063\n"
     ]
    },
    {
     "name": "stderr",
     "output_type": "stream",
     "text": [
      "test: 100%|██████████| 47/47 [02:16<00:00,  2.90s/it]\n",
      "test: 100%|██████████| 14/14 [00:19<00:00,  1.42s/it]\n",
      "test: 100%|██████████| 14/14 [00:38<00:00,  2.78s/it]\n"
     ]
    },
    {
     "name": "stdout",
     "output_type": "stream",
     "text": [
      "Epoch 7 of 30\n"
     ]
    },
    {
     "name": "stderr",
     "output_type": "stream",
     "text": [
      "train: 100%|██████████| 94/94 [10:10<00:00,  6.49s/it]\n"
     ]
    },
    {
     "name": "stdout",
     "output_type": "stream",
     "text": [
      "Done with batches\n",
      "Epoch loss 0.49664456064396717\n"
     ]
    },
    {
     "name": "stderr",
     "output_type": "stream",
     "text": [
      "test: 100%|██████████| 47/47 [02:17<00:00,  2.92s/it]\n",
      "test: 100%|██████████| 14/14 [00:21<00:00,  1.51s/it]\n",
      "test: 100%|██████████| 14/14 [00:39<00:00,  2.80s/it]\n"
     ]
    },
    {
     "name": "stdout",
     "output_type": "stream",
     "text": [
      "cur_best_auc: 0.9761576186961529\n",
      "cur_best_epoch 7\n",
      "Epoch 8 of 30\n"
     ]
    },
    {
     "name": "stderr",
     "output_type": "stream",
     "text": [
      "train: 100%|██████████| 94/94 [10:10<00:00,  6.50s/it]\n"
     ]
    },
    {
     "name": "stdout",
     "output_type": "stream",
     "text": [
      "Done with batches\n",
      "Epoch loss 0.4345693933836957\n"
     ]
    },
    {
     "name": "stderr",
     "output_type": "stream",
     "text": [
      "test: 100%|██████████| 47/47 [02:16<00:00,  2.90s/it]\n",
      "test: 100%|██████████| 14/14 [00:19<00:00,  1.41s/it]\n",
      "test: 100%|██████████| 14/14 [00:38<00:00,  2.78s/it]\n"
     ]
    },
    {
     "name": "stdout",
     "output_type": "stream",
     "text": [
      "cur_best_auc: 0.9805573590588217\n",
      "cur_best_epoch 8\n",
      "Epoch 9 of 30\n"
     ]
    },
    {
     "name": "stderr",
     "output_type": "stream",
     "text": [
      "train: 100%|██████████| 94/94 [10:11<00:00,  6.51s/it]\n"
     ]
    },
    {
     "name": "stdout",
     "output_type": "stream",
     "text": [
      "Done with batches\n",
      "Epoch loss 0.41346831905080916\n"
     ]
    },
    {
     "name": "stderr",
     "output_type": "stream",
     "text": [
      "test: 100%|██████████| 47/47 [02:17<00:00,  2.93s/it]\n",
      "test: 100%|██████████| 14/14 [00:19<00:00,  1.43s/it]\n",
      "test: 100%|██████████| 14/14 [00:39<00:00,  2.81s/it]\n"
     ]
    },
    {
     "name": "stdout",
     "output_type": "stream",
     "text": [
      "Epoch 10 of 30\n"
     ]
    },
    {
     "name": "stderr",
     "output_type": "stream",
     "text": [
      "train: 100%|██████████| 94/94 [10:10<00:00,  6.50s/it]\n"
     ]
    },
    {
     "name": "stdout",
     "output_type": "stream",
     "text": [
      "Done with batches\n",
      "Epoch loss 0.40748350417360346\n"
     ]
    },
    {
     "name": "stderr",
     "output_type": "stream",
     "text": [
      "test: 100%|██████████| 47/47 [02:16<00:00,  2.90s/it]\n",
      "test: 100%|██████████| 14/14 [00:19<00:00,  1.42s/it]\n",
      "test: 100%|██████████| 14/14 [00:39<00:00,  2.79s/it]\n"
     ]
    },
    {
     "name": "stdout",
     "output_type": "stream",
     "text": [
      "cur_best_auc: 0.9823291598203977\n",
      "cur_best_epoch 10\n",
      "Epoch 11 of 30\n"
     ]
    },
    {
     "name": "stderr",
     "output_type": "stream",
     "text": [
      "train: 100%|██████████| 94/94 [10:10<00:00,  6.50s/it]\n"
     ]
    },
    {
     "name": "stdout",
     "output_type": "stream",
     "text": [
      "Done with batches\n",
      "Epoch loss 0.4728154029617918\n"
     ]
    },
    {
     "name": "stderr",
     "output_type": "stream",
     "text": [
      "test: 100%|██████████| 47/47 [02:16<00:00,  2.90s/it]\n",
      "test: 100%|██████████| 14/14 [00:19<00:00,  1.41s/it]\n",
      "test: 100%|██████████| 14/14 [00:38<00:00,  2.78s/it]\n"
     ]
    },
    {
     "name": "stdout",
     "output_type": "stream",
     "text": [
      "Epoch 12 of 30\n"
     ]
    },
    {
     "name": "stderr",
     "output_type": "stream",
     "text": [
      "train: 100%|██████████| 94/94 [10:12<00:00,  6.52s/it]\n"
     ]
    },
    {
     "name": "stdout",
     "output_type": "stream",
     "text": [
      "Done with batches\n",
      "Epoch loss 0.42515385689887597\n"
     ]
    },
    {
     "name": "stderr",
     "output_type": "stream",
     "text": [
      "test: 100%|██████████| 47/47 [02:16<00:00,  2.91s/it]\n",
      "test: 100%|██████████| 14/14 [00:19<00:00,  1.41s/it]\n",
      "test: 100%|██████████| 14/14 [00:39<00:00,  2.79s/it]\n"
     ]
    },
    {
     "name": "stdout",
     "output_type": "stream",
     "text": [
      "cur_best_auc: 0.982506580959852\n",
      "cur_best_epoch 12\n",
      "Epoch 13 of 30\n"
     ]
    },
    {
     "name": "stderr",
     "output_type": "stream",
     "text": [
      "train: 100%|██████████| 94/94 [10:09<00:00,  6.49s/it]\n"
     ]
    },
    {
     "name": "stdout",
     "output_type": "stream",
     "text": [
      "Done with batches\n",
      "Epoch loss 0.36127510920484013\n"
     ]
    },
    {
     "name": "stderr",
     "output_type": "stream",
     "text": [
      "test: 100%|██████████| 47/47 [02:16<00:00,  2.90s/it]\n",
      "test: 100%|██████████| 14/14 [00:19<00:00,  1.41s/it]\n",
      "test: 100%|██████████| 14/14 [00:39<00:00,  2.79s/it]\n"
     ]
    },
    {
     "name": "stdout",
     "output_type": "stream",
     "text": [
      "cur_best_auc: 0.9853124556808074\n",
      "cur_best_epoch 13\n",
      "Epoch 14 of 30\n"
     ]
    },
    {
     "name": "stderr",
     "output_type": "stream",
     "text": [
      "train: 100%|██████████| 94/94 [10:12<00:00,  6.51s/it]\n"
     ]
    },
    {
     "name": "stdout",
     "output_type": "stream",
     "text": [
      "Done with batches\n",
      "Epoch loss 0.34142587555849807\n"
     ]
    },
    {
     "name": "stderr",
     "output_type": "stream",
     "text": [
      "test: 100%|██████████| 47/47 [02:16<00:00,  2.90s/it]\n",
      "test: 100%|██████████| 14/14 [00:19<00:00,  1.42s/it]\n",
      "test: 100%|██████████| 14/14 [00:38<00:00,  2.79s/it]\n"
     ]
    },
    {
     "name": "stdout",
     "output_type": "stream",
     "text": [
      "cur_best_auc: 0.9877940438336857\n",
      "cur_best_epoch 14\n",
      "Epoch 15 of 30\n"
     ]
    },
    {
     "name": "stderr",
     "output_type": "stream",
     "text": [
      "train: 100%|██████████| 94/94 [10:11<00:00,  6.50s/it]\n"
     ]
    },
    {
     "name": "stdout",
     "output_type": "stream",
     "text": [
      "Done with batches\n",
      "Epoch loss 0.22043304081926954\n"
     ]
    },
    {
     "name": "stderr",
     "output_type": "stream",
     "text": [
      "test: 100%|██████████| 47/47 [02:16<00:00,  2.91s/it]\n",
      "test: 100%|██████████| 14/14 [00:19<00:00,  1.41s/it]\n",
      "test: 100%|██████████| 14/14 [00:39<00:00,  2.79s/it]\n"
     ]
    },
    {
     "name": "stdout",
     "output_type": "stream",
     "text": [
      "cur_best_auc: 0.9917914662673875\n",
      "cur_best_epoch 15\n",
      "Epoch 16 of 30\n"
     ]
    },
    {
     "name": "stderr",
     "output_type": "stream",
     "text": [
      "train: 100%|██████████| 94/94 [10:12<00:00,  6.51s/it]\n"
     ]
    },
    {
     "name": "stdout",
     "output_type": "stream",
     "text": [
      "Done with batches\n",
      "Epoch loss 0.19251005494214118\n"
     ]
    },
    {
     "name": "stderr",
     "output_type": "stream",
     "text": [
      "test: 100%|██████████| 47/47 [02:17<00:00,  2.92s/it]\n",
      "test: 100%|██████████| 14/14 [00:19<00:00,  1.42s/it]\n",
      "test: 100%|██████████| 14/14 [00:38<00:00,  2.78s/it]\n"
     ]
    },
    {
     "name": "stdout",
     "output_type": "stream",
     "text": [
      "cur_best_auc: 0.9924283187168882\n",
      "cur_best_epoch 16\n",
      "Epoch 17 of 30\n"
     ]
    },
    {
     "name": "stderr",
     "output_type": "stream",
     "text": [
      "train: 100%|██████████| 94/94 [10:10<00:00,  6.49s/it]\n"
     ]
    },
    {
     "name": "stdout",
     "output_type": "stream",
     "text": [
      "Done with batches\n",
      "Epoch loss 0.17180371403377107\n"
     ]
    },
    {
     "name": "stderr",
     "output_type": "stream",
     "text": [
      "test: 100%|██████████| 47/47 [02:16<00:00,  2.91s/it]\n",
      "test: 100%|██████████| 14/14 [00:19<00:00,  1.41s/it]\n",
      "test: 100%|██████████| 14/14 [00:39<00:00,  2.79s/it]\n"
     ]
    },
    {
     "name": "stdout",
     "output_type": "stream",
     "text": [
      "cur_best_auc: 0.9926174590649204\n",
      "cur_best_epoch 17\n",
      "Epoch 18 of 30\n"
     ]
    },
    {
     "name": "stderr",
     "output_type": "stream",
     "text": [
      "train:  13%|█▎        | 12/94 [13:17<58:29, 42.80s/it]  "
     ]
    }
   ],
   "source": [
    "data_flag = 'bloodmnist'\n",
    "download = True\n",
    "\n",
    "DEVICE = 'mps'\n",
    "NUM_EPOCHS = 30\n",
    "BATCH_SIZE = 128\n",
    "milestones = [0.5 * NUM_EPOCHS, 0.75 * NUM_EPOCHS]\n",
    "lr = 0.001\n",
    "gamma = 0.1\n",
    "\n",
    "output_root = './output2d'\n",
    "\n",
    "info = INFO[data_flag]\n",
    "n_channels = info['n_channels']\n",
    "n_classes = len(info['label'])\n",
    "task = info['task']\n",
    "\n",
    "train_loader, train_loader_at_eval, val_loader, test_loader = extract_data(data_flag, download, BATCH_SIZE)\n",
    "\n",
    "from torchvision.models import swin_v2_s\n",
    "\n",
    "model = swin_v2_s(pretrained=True)\n",
    "model.head = nn.Linear(768, n_classes)\n",
    "model.name = 'swin_v2_s'\n",
    "\n",
    "model = model.to(DEVICE)\n",
    "\n",
    "criterion = nn.CrossEntropyLoss()\n",
    "\n",
    "train_evaluator = medmnist.Evaluator(data_flag, 'train')\n",
    "val_evaluator = medmnist.Evaluator(data_flag, 'val')\n",
    "test_evaluator = medmnist.Evaluator(data_flag, 'test')\n",
    "\n",
    "optimizer = torch.optim.Adam(model.parameters(), lr=lr)\n",
    "scheduler = torch.optim.lr_scheduler.MultiStepLR(optimizer, milestones=milestones, gamma=gamma)\n",
    "\n",
    "logs = ['loss', 'auc', 'acc']\n",
    "train_logs = ['train_'+log for log in logs]\n",
    "val_logs = ['val_'+log for log in logs]\n",
    "test_logs = ['test_'+log for log in logs]\n",
    "log_dict = OrderedDict.fromkeys(train_logs+val_logs+test_logs, 0)\n",
    "\n",
    "writer = SummaryWriter(log_dir=os.path.join(output_root, model.name))\n",
    "\n",
    "best_auc = 0\n",
    "best_epoch = 0\n",
    "best_model = deepcopy(model)\n",
    "tb_twod = True\n",
    "\n",
    "for epoch in range(NUM_EPOCHS):        \n",
    "    print(f\"Epoch {epoch} of {NUM_EPOCHS}\")\n",
    "    train_loss = train(model, train_loader, task, criterion, optimizer, DEVICE, writer)\n",
    "    \n",
    "    train_metrics = test(model, train_evaluator, train_loader_at_eval, task, criterion, DEVICE, 'model1')\n",
    "    val_metrics = test(model, val_evaluator, val_loader, task, criterion, DEVICE, 'model1')\n",
    "    test_metrics = test(model, test_evaluator, test_loader, task, criterion, DEVICE, 'model1')\n",
    "    \n",
    "    scheduler.step()\n",
    "    \n",
    "    for i, key in enumerate(train_logs):\n",
    "        log_dict[key] = train_metrics[i]\n",
    "    for i, key in enumerate(val_logs):\n",
    "        log_dict[key] = val_metrics[i]\n",
    "    for i, key in enumerate(test_logs):\n",
    "        log_dict[key] = test_metrics[i]\n",
    "\n",
    "    for key, value in log_dict.items():\n",
    "        writer.add_scalar(key, value, epoch)\n",
    "        \n",
    "    cur_auc = val_metrics[1]\n",
    "    if cur_auc > best_auc:\n",
    "        best_epoch = epoch\n",
    "        best_auc = cur_auc\n",
    "        best_model = deepcopy(model)\n",
    "        print('cur_best_auc:', best_auc)\n",
    "        print('cur_best_epoch', best_epoch)\n",
    "\n",
    "state = {\n",
    "    'net': best_model.state_dict(),\n",
    "}\n",
    "\n",
    "\n",
    "path = os.path.join(output_root, f'{model.name}_best_model.pth')\n",
    "torch.save(state, path)\n",
    "\n",
    "train_metrics = test(best_model, train_evaluator, train_loader_at_eval, task, criterion, DEVICE, 'model', output_root)\n",
    "val_metrics = test(best_model, val_evaluator, val_loader, task, criterion, DEVICE, 'model', output_root)\n",
    "test_metrics = test(best_model, test_evaluator, test_loader, task, criterion, DEVICE, 'model', output_root)\n",
    "\n",
    "train_log = 'train  auc: %.5f  acc: %.5f\\n' % (train_metrics[1], train_metrics[2])\n",
    "val_log = 'val  auc: %.5f  acc: %.5f\\n' % (val_metrics[1], val_metrics[2])\n",
    "test_log = 'test  auc: %.5f  acc: %.5f\\n' % (test_metrics[1], test_metrics[2])\n",
    "\n",
    "log = '%s\\n' % (data_flag) + train_log + val_log + test_log\n",
    "print(log)\n",
    "        \n",
    "with open(os.path.join(output_root, '%s_log.txt' % (data_flag)), 'a') as f:\n",
    "    f.write(log)  \n",
    "\n",
    "writer.close()"
   ]
  },
  {
   "cell_type": "code",
   "execution_count": null,
   "metadata": {},
   "outputs": [],
   "source": [
    "%reload_ext tensorboard\n",
    "%tensorboard --logdir 'output2d'\n",
    "from tensorboard import notebook\n",
    "notebook.list()\n"
   ]
  },
  {
   "cell_type": "code",
   "execution_count": 10,
   "metadata": {},
   "outputs": [],
   "source": [
    "# train  auc: 0.99237  acc: 0.90894\n",
    "# val  auc: 0.99129  acc: 0.90362\n",
    "# test  auc: 0.99095  acc: 0.89711"
   ]
  }
 ],
 "metadata": {
  "kernelspec": {
   "display_name": "vi_venv",
   "language": "python",
   "name": "python3"
  },
  "language_info": {
   "codemirror_mode": {
    "name": "ipython",
    "version": 3
   },
   "file_extension": ".py",
   "mimetype": "text/x-python",
   "name": "python",
   "nbconvert_exporter": "python",
   "pygments_lexer": "ipython3",
   "version": "3.11.5"
  }
 },
 "nbformat": 4,
 "nbformat_minor": 2
}
